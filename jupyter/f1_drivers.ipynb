{
 "cells": [
  {
   "cell_type": "code",
   "execution_count": 1,
   "id": "5f4bbddb-a9e8-4d2c-af3c-b3844bfb53a9",
   "metadata": {},
   "outputs": [],
   "source": [
    "%config IPCompleter.greedy=True\n",
    "%matplotlib inline\n",
    "%load_ext autoreload\n",
    "%autoreload 2"
   ]
  },
  {
   "cell_type": "code",
   "execution_count": 7,
   "id": "f48203cb-f389-4187-b02a-762dc34155a8",
   "metadata": {},
   "outputs": [],
   "source": [
    "import os, sys, re, math, datetime as dt, pandas as pd, numpy as np, time\n",
    "import logging\n",
    "import matplotlib.pyplot as plt\n",
    "from string import Template\n",
    "from IPython.display import display, HTML\n",
    "\n",
    "logging.basicConfig(format='%(asctime)s [%(name)s:%(lineno)d:%(funcName)s] [%(levelname)s] %(message)s', level=logging.INFO)\n",
    "\n",
    "pd.set_option('display.max_rows', 5000)\n",
    "pd.set_option('display.max_columns', 5000)\n",
    "pd.set_option('display.max_colwidth', 5000)\n",
    "pd.set_option('display.width', 5000)\n",
    "\n",
    "def display_df(df):\n",
    "    display(df.head(100000))\n",
    "    print(df.shape)"
   ]
  },
  {
   "cell_type": "code",
   "execution_count": 8,
   "id": "535d5953-f876-4750-a934-f4f26228af57",
   "metadata": {},
   "outputs": [
    {
     "data": {
      "text/html": [
       "<div>\n",
       "<style scoped>\n",
       "    .dataframe tbody tr th:only-of-type {\n",
       "        vertical-align: middle;\n",
       "    }\n",
       "\n",
       "    .dataframe tbody tr th {\n",
       "        vertical-align: top;\n",
       "    }\n",
       "\n",
       "    .dataframe thead th {\n",
       "        text-align: right;\n",
       "    }\n",
       "</style>\n",
       "<table border=\"1\" class=\"dataframe\">\n",
       "  <thead>\n",
       "    <tr style=\"text-align: right;\">\n",
       "      <th></th>\n",
       "      <th>RoundNumber</th>\n",
       "      <th>Country</th>\n",
       "      <th>Location</th>\n",
       "      <th>OfficialEventName</th>\n",
       "      <th>EventDate</th>\n",
       "      <th>EventName</th>\n",
       "      <th>EventFormat</th>\n",
       "      <th>Session1</th>\n",
       "      <th>Session1Date</th>\n",
       "      <th>Session1DateUtc</th>\n",
       "      <th>Session2</th>\n",
       "      <th>Session2Date</th>\n",
       "      <th>Session2DateUtc</th>\n",
       "      <th>Session3</th>\n",
       "      <th>Session3Date</th>\n",
       "      <th>Session3DateUtc</th>\n",
       "      <th>Session4</th>\n",
       "      <th>Session4Date</th>\n",
       "      <th>Session4DateUtc</th>\n",
       "      <th>Session5</th>\n",
       "      <th>Session5Date</th>\n",
       "      <th>Session5DateUtc</th>\n",
       "      <th>F1ApiSupport</th>\n",
       "    </tr>\n",
       "  </thead>\n",
       "  <tbody>\n",
       "    <tr>\n",
       "      <th>0</th>\n",
       "      <td>0</td>\n",
       "      <td>Bahrain</td>\n",
       "      <td>Sakhir</td>\n",
       "      <td>FORMULA 1 ARAMCO PRE-SEASON TESTING 2023</td>\n",
       "      <td>2023-02-25</td>\n",
       "      <td>Pre-Season Testing</td>\n",
       "      <td>testing</td>\n",
       "      <td>Practice 1</td>\n",
       "      <td>2023-02-23 10:00:00+03:00</td>\n",
       "      <td>2023-02-23 07:00:00</td>\n",
       "      <td>Practice 2</td>\n",
       "      <td>2023-02-24 10:00:00+03:00</td>\n",
       "      <td>2023-02-24 07:00:00</td>\n",
       "      <td>Practice 3</td>\n",
       "      <td>2023-02-25 10:00:00+03:00</td>\n",
       "      <td>2023-02-25 07:00:00</td>\n",
       "      <td>None</td>\n",
       "      <td>NaT</td>\n",
       "      <td>NaT</td>\n",
       "      <td>None</td>\n",
       "      <td>NaT</td>\n",
       "      <td>NaT</td>\n",
       "      <td>True</td>\n",
       "    </tr>\n",
       "    <tr>\n",
       "      <th>1</th>\n",
       "      <td>1</td>\n",
       "      <td>Bahrain</td>\n",
       "      <td>Sakhir</td>\n",
       "      <td>FORMULA 1 GULF AIR BAHRAIN GRAND PRIX 2023</td>\n",
       "      <td>2023-03-05</td>\n",
       "      <td>Bahrain Grand Prix</td>\n",
       "      <td>conventional</td>\n",
       "      <td>Practice 1</td>\n",
       "      <td>2023-03-03 14:30:00+03:00</td>\n",
       "      <td>2023-03-03 11:30:00</td>\n",
       "      <td>Practice 2</td>\n",
       "      <td>2023-03-03 18:00:00+03:00</td>\n",
       "      <td>2023-03-03 15:00:00</td>\n",
       "      <td>Practice 3</td>\n",
       "      <td>2023-03-04 14:30:00+03:00</td>\n",
       "      <td>2023-03-04 11:30:00</td>\n",
       "      <td>Qualifying</td>\n",
       "      <td>2023-03-04 18:00:00+03:00</td>\n",
       "      <td>2023-03-04 15:00:00</td>\n",
       "      <td>Race</td>\n",
       "      <td>2023-03-05 18:00:00+03:00</td>\n",
       "      <td>2023-03-05 15:00:00</td>\n",
       "      <td>True</td>\n",
       "    </tr>\n",
       "    <tr>\n",
       "      <th>2</th>\n",
       "      <td>2</td>\n",
       "      <td>Saudi Arabia</td>\n",
       "      <td>Jeddah</td>\n",
       "      <td>FORMULA 1 STC SAUDI ARABIAN GRAND PRIX 2023</td>\n",
       "      <td>2023-03-19</td>\n",
       "      <td>Saudi Arabian Grand Prix</td>\n",
       "      <td>conventional</td>\n",
       "      <td>Practice 1</td>\n",
       "      <td>2023-03-17 16:30:00+03:00</td>\n",
       "      <td>2023-03-17 13:30:00</td>\n",
       "      <td>Practice 2</td>\n",
       "      <td>2023-03-17 20:00:00+03:00</td>\n",
       "      <td>2023-03-17 17:00:00</td>\n",
       "      <td>Practice 3</td>\n",
       "      <td>2023-03-18 16:30:00+03:00</td>\n",
       "      <td>2023-03-18 13:30:00</td>\n",
       "      <td>Qualifying</td>\n",
       "      <td>2023-03-18 20:00:00+03:00</td>\n",
       "      <td>2023-03-18 17:00:00</td>\n",
       "      <td>Race</td>\n",
       "      <td>2023-03-19 20:00:00+03:00</td>\n",
       "      <td>2023-03-19 17:00:00</td>\n",
       "      <td>True</td>\n",
       "    </tr>\n",
       "    <tr>\n",
       "      <th>3</th>\n",
       "      <td>3</td>\n",
       "      <td>Australia</td>\n",
       "      <td>Melbourne</td>\n",
       "      <td>FORMULA 1 ROLEX AUSTRALIAN GRAND PRIX 2023</td>\n",
       "      <td>2023-04-02</td>\n",
       "      <td>Australian Grand Prix</td>\n",
       "      <td>conventional</td>\n",
       "      <td>Practice 1</td>\n",
       "      <td>2023-03-31 12:30:00+10:00</td>\n",
       "      <td>2023-03-31 02:30:00</td>\n",
       "      <td>Practice 2</td>\n",
       "      <td>2023-03-31 16:00:00+10:00</td>\n",
       "      <td>2023-03-31 06:00:00</td>\n",
       "      <td>Practice 3</td>\n",
       "      <td>2023-04-01 12:30:00+10:00</td>\n",
       "      <td>2023-04-01 02:30:00</td>\n",
       "      <td>Qualifying</td>\n",
       "      <td>2023-04-01 16:00:00+10:00</td>\n",
       "      <td>2023-04-01 06:00:00</td>\n",
       "      <td>Race</td>\n",
       "      <td>2023-04-02 15:00:00+10:00</td>\n",
       "      <td>2023-04-02 05:00:00</td>\n",
       "      <td>True</td>\n",
       "    </tr>\n",
       "    <tr>\n",
       "      <th>4</th>\n",
       "      <td>4</td>\n",
       "      <td>Azerbaijan</td>\n",
       "      <td>Baku</td>\n",
       "      <td>FORMULA 1 AZERBAIJAN GRAND PRIX 2023</td>\n",
       "      <td>2023-04-30</td>\n",
       "      <td>Azerbaijan Grand Prix</td>\n",
       "      <td>sprint_shootout</td>\n",
       "      <td>Practice 1</td>\n",
       "      <td>2023-04-28 13:30:00+04:00</td>\n",
       "      <td>2023-04-28 09:30:00</td>\n",
       "      <td>Qualifying</td>\n",
       "      <td>2023-04-28 17:00:00+04:00</td>\n",
       "      <td>2023-04-28 13:00:00</td>\n",
       "      <td>Sprint Shootout</td>\n",
       "      <td>2023-04-29 12:30:00+04:00</td>\n",
       "      <td>2023-04-29 08:30:00</td>\n",
       "      <td>Sprint</td>\n",
       "      <td>2023-04-29 17:30:00+04:00</td>\n",
       "      <td>2023-04-29 13:30:00</td>\n",
       "      <td>Race</td>\n",
       "      <td>2023-04-30 15:00:00+04:00</td>\n",
       "      <td>2023-04-30 11:00:00</td>\n",
       "      <td>True</td>\n",
       "    </tr>\n",
       "    <tr>\n",
       "      <th>5</th>\n",
       "      <td>5</td>\n",
       "      <td>United States</td>\n",
       "      <td>Miami</td>\n",
       "      <td>FORMULA 1 CRYPTO.COM MIAMI GRAND PRIX 2023</td>\n",
       "      <td>2023-05-07</td>\n",
       "      <td>Miami Grand Prix</td>\n",
       "      <td>conventional</td>\n",
       "      <td>Practice 1</td>\n",
       "      <td>2023-05-05 14:00:00-04:00</td>\n",
       "      <td>2023-05-05 18:00:00</td>\n",
       "      <td>Practice 2</td>\n",
       "      <td>2023-05-05 17:30:00-04:00</td>\n",
       "      <td>2023-05-05 21:30:00</td>\n",
       "      <td>Practice 3</td>\n",
       "      <td>2023-05-06 12:30:00-04:00</td>\n",
       "      <td>2023-05-06 16:30:00</td>\n",
       "      <td>Qualifying</td>\n",
       "      <td>2023-05-06 16:00:00-04:00</td>\n",
       "      <td>2023-05-06 20:00:00</td>\n",
       "      <td>Race</td>\n",
       "      <td>2023-05-07 15:30:00-04:00</td>\n",
       "      <td>2023-05-07 19:30:00</td>\n",
       "      <td>True</td>\n",
       "    </tr>\n",
       "    <tr>\n",
       "      <th>6</th>\n",
       "      <td>6</td>\n",
       "      <td>Monaco</td>\n",
       "      <td>Monaco</td>\n",
       "      <td>FORMULA 1 GRAND PRIX DE MONACO 2023</td>\n",
       "      <td>2023-05-28</td>\n",
       "      <td>Monaco Grand Prix</td>\n",
       "      <td>conventional</td>\n",
       "      <td>Practice 1</td>\n",
       "      <td>2023-05-26 13:30:00+02:00</td>\n",
       "      <td>2023-05-26 11:30:00</td>\n",
       "      <td>Practice 2</td>\n",
       "      <td>2023-05-26 17:00:00+02:00</td>\n",
       "      <td>2023-05-26 15:00:00</td>\n",
       "      <td>Practice 3</td>\n",
       "      <td>2023-05-27 12:30:00+02:00</td>\n",
       "      <td>2023-05-27 10:30:00</td>\n",
       "      <td>Qualifying</td>\n",
       "      <td>2023-05-27 16:00:00+02:00</td>\n",
       "      <td>2023-05-27 14:00:00</td>\n",
       "      <td>Race</td>\n",
       "      <td>2023-05-28 15:00:00+02:00</td>\n",
       "      <td>2023-05-28 13:00:00</td>\n",
       "      <td>True</td>\n",
       "    </tr>\n",
       "    <tr>\n",
       "      <th>7</th>\n",
       "      <td>7</td>\n",
       "      <td>Spain</td>\n",
       "      <td>Barcelona</td>\n",
       "      <td>FORMULA 1 AWS GRAN PREMIO DE ESPAÑA 2023</td>\n",
       "      <td>2023-06-04</td>\n",
       "      <td>Spanish Grand Prix</td>\n",
       "      <td>conventional</td>\n",
       "      <td>Practice 1</td>\n",
       "      <td>2023-06-02 13:30:00+02:00</td>\n",
       "      <td>2023-06-02 11:30:00</td>\n",
       "      <td>Practice 2</td>\n",
       "      <td>2023-06-02 17:00:00+02:00</td>\n",
       "      <td>2023-06-02 15:00:00</td>\n",
       "      <td>Practice 3</td>\n",
       "      <td>2023-06-03 12:30:00+02:00</td>\n",
       "      <td>2023-06-03 10:30:00</td>\n",
       "      <td>Qualifying</td>\n",
       "      <td>2023-06-03 16:00:00+02:00</td>\n",
       "      <td>2023-06-03 14:00:00</td>\n",
       "      <td>Race</td>\n",
       "      <td>2023-06-04 15:00:00+02:00</td>\n",
       "      <td>2023-06-04 13:00:00</td>\n",
       "      <td>True</td>\n",
       "    </tr>\n",
       "    <tr>\n",
       "      <th>8</th>\n",
       "      <td>8</td>\n",
       "      <td>Canada</td>\n",
       "      <td>Montréal</td>\n",
       "      <td>FORMULA 1 PIRELLI GRAND PRIX DU CANADA 2023</td>\n",
       "      <td>2023-06-18</td>\n",
       "      <td>Canadian Grand Prix</td>\n",
       "      <td>conventional</td>\n",
       "      <td>Practice 1</td>\n",
       "      <td>2023-06-16 13:30:00-04:00</td>\n",
       "      <td>2023-06-16 17:30:00</td>\n",
       "      <td>Practice 2</td>\n",
       "      <td>2023-06-16 16:30:00-04:00</td>\n",
       "      <td>2023-06-16 20:30:00</td>\n",
       "      <td>Practice 3</td>\n",
       "      <td>2023-06-17 12:30:00-04:00</td>\n",
       "      <td>2023-06-17 16:30:00</td>\n",
       "      <td>Qualifying</td>\n",
       "      <td>2023-06-17 16:00:00-04:00</td>\n",
       "      <td>2023-06-17 20:00:00</td>\n",
       "      <td>Race</td>\n",
       "      <td>2023-06-18 14:00:00-04:00</td>\n",
       "      <td>2023-06-18 18:00:00</td>\n",
       "      <td>True</td>\n",
       "    </tr>\n",
       "    <tr>\n",
       "      <th>9</th>\n",
       "      <td>9</td>\n",
       "      <td>Austria</td>\n",
       "      <td>Spielberg</td>\n",
       "      <td>FORMULA 1 ROLEX GROSSER PREIS VON ÖSTERREICH 2023</td>\n",
       "      <td>2023-07-02</td>\n",
       "      <td>Austrian Grand Prix</td>\n",
       "      <td>sprint_shootout</td>\n",
       "      <td>Practice 1</td>\n",
       "      <td>2023-06-30 13:30:00+02:00</td>\n",
       "      <td>2023-06-30 11:30:00</td>\n",
       "      <td>Qualifying</td>\n",
       "      <td>2023-06-30 17:00:00+02:00</td>\n",
       "      <td>2023-06-30 15:00:00</td>\n",
       "      <td>Sprint Shootout</td>\n",
       "      <td>2023-07-01 12:00:00+02:00</td>\n",
       "      <td>2023-07-01 10:00:00</td>\n",
       "      <td>Sprint</td>\n",
       "      <td>2023-07-01 16:30:00+02:00</td>\n",
       "      <td>2023-07-01 14:30:00</td>\n",
       "      <td>Race</td>\n",
       "      <td>2023-07-02 15:00:00+02:00</td>\n",
       "      <td>2023-07-02 13:00:00</td>\n",
       "      <td>True</td>\n",
       "    </tr>\n",
       "    <tr>\n",
       "      <th>10</th>\n",
       "      <td>10</td>\n",
       "      <td>Great Britain</td>\n",
       "      <td>Silverstone</td>\n",
       "      <td>FORMULA 1 ARAMCO BRITISH GRAND PRIX 2023</td>\n",
       "      <td>2023-07-09</td>\n",
       "      <td>British Grand Prix</td>\n",
       "      <td>conventional</td>\n",
       "      <td>Practice 1</td>\n",
       "      <td>2023-07-07 12:30:00+01:00</td>\n",
       "      <td>2023-07-07 11:30:00</td>\n",
       "      <td>Practice 2</td>\n",
       "      <td>2023-07-07 16:00:00+01:00</td>\n",
       "      <td>2023-07-07 15:00:00</td>\n",
       "      <td>Practice 3</td>\n",
       "      <td>2023-07-08 11:30:00+01:00</td>\n",
       "      <td>2023-07-08 10:30:00</td>\n",
       "      <td>Qualifying</td>\n",
       "      <td>2023-07-08 15:00:00+01:00</td>\n",
       "      <td>2023-07-08 14:00:00</td>\n",
       "      <td>Race</td>\n",
       "      <td>2023-07-09 15:00:00+01:00</td>\n",
       "      <td>2023-07-09 14:00:00</td>\n",
       "      <td>True</td>\n",
       "    </tr>\n",
       "    <tr>\n",
       "      <th>11</th>\n",
       "      <td>11</td>\n",
       "      <td>Hungary</td>\n",
       "      <td>Budapest</td>\n",
       "      <td>FORMULA 1 QATAR AIRWAYS HUNGARIAN GRAND PRIX 2023</td>\n",
       "      <td>2023-07-23</td>\n",
       "      <td>Hungarian Grand Prix</td>\n",
       "      <td>conventional</td>\n",
       "      <td>Practice 1</td>\n",
       "      <td>2023-07-21 13:30:00+02:00</td>\n",
       "      <td>2023-07-21 11:30:00</td>\n",
       "      <td>Practice 2</td>\n",
       "      <td>2023-07-21 17:00:00+02:00</td>\n",
       "      <td>2023-07-21 15:00:00</td>\n",
       "      <td>Practice 3</td>\n",
       "      <td>2023-07-22 12:30:00+02:00</td>\n",
       "      <td>2023-07-22 10:30:00</td>\n",
       "      <td>Qualifying</td>\n",
       "      <td>2023-07-22 16:00:00+02:00</td>\n",
       "      <td>2023-07-22 14:00:00</td>\n",
       "      <td>Race</td>\n",
       "      <td>2023-07-23 15:00:00+02:00</td>\n",
       "      <td>2023-07-23 13:00:00</td>\n",
       "      <td>True</td>\n",
       "    </tr>\n",
       "    <tr>\n",
       "      <th>12</th>\n",
       "      <td>12</td>\n",
       "      <td>Belgium</td>\n",
       "      <td>Spa-Francorchamps</td>\n",
       "      <td>FORMULA 1 MSC CRUISES BELGIAN GRAND PRIX 2023</td>\n",
       "      <td>2023-07-30</td>\n",
       "      <td>Belgian Grand Prix</td>\n",
       "      <td>sprint_shootout</td>\n",
       "      <td>Practice 1</td>\n",
       "      <td>2023-07-28 13:30:00+02:00</td>\n",
       "      <td>2023-07-28 11:30:00</td>\n",
       "      <td>Qualifying</td>\n",
       "      <td>2023-07-28 17:00:00+02:00</td>\n",
       "      <td>2023-07-28 15:00:00</td>\n",
       "      <td>Sprint Shootout</td>\n",
       "      <td>2023-07-29 12:00:00+02:00</td>\n",
       "      <td>2023-07-29 10:00:00</td>\n",
       "      <td>Sprint</td>\n",
       "      <td>2023-07-29 17:05:00+02:00</td>\n",
       "      <td>2023-07-29 15:05:00</td>\n",
       "      <td>Race</td>\n",
       "      <td>2023-07-30 15:00:00+02:00</td>\n",
       "      <td>2023-07-30 13:00:00</td>\n",
       "      <td>True</td>\n",
       "    </tr>\n",
       "    <tr>\n",
       "      <th>13</th>\n",
       "      <td>13</td>\n",
       "      <td>Netherlands</td>\n",
       "      <td>Zandvoort</td>\n",
       "      <td>FORMULA 1 HEINEKEN DUTCH GRAND PRIX 2023</td>\n",
       "      <td>2023-08-27</td>\n",
       "      <td>Dutch Grand Prix</td>\n",
       "      <td>conventional</td>\n",
       "      <td>Practice 1</td>\n",
       "      <td>2023-08-25 12:30:00+02:00</td>\n",
       "      <td>2023-08-25 10:30:00</td>\n",
       "      <td>Practice 2</td>\n",
       "      <td>2023-08-25 16:00:00+02:00</td>\n",
       "      <td>2023-08-25 14:00:00</td>\n",
       "      <td>Practice 3</td>\n",
       "      <td>2023-08-26 11:30:00+02:00</td>\n",
       "      <td>2023-08-26 09:30:00</td>\n",
       "      <td>Qualifying</td>\n",
       "      <td>2023-08-26 15:00:00+02:00</td>\n",
       "      <td>2023-08-26 13:00:00</td>\n",
       "      <td>Race</td>\n",
       "      <td>2023-08-27 15:00:00+02:00</td>\n",
       "      <td>2023-08-27 13:00:00</td>\n",
       "      <td>True</td>\n",
       "    </tr>\n",
       "    <tr>\n",
       "      <th>14</th>\n",
       "      <td>14</td>\n",
       "      <td>Italy</td>\n",
       "      <td>Monza</td>\n",
       "      <td>FORMULA 1 PIRELLI GRAN PREMIO D’ITALIA 2023</td>\n",
       "      <td>2023-09-03</td>\n",
       "      <td>Italian Grand Prix</td>\n",
       "      <td>conventional</td>\n",
       "      <td>Practice 1</td>\n",
       "      <td>2023-09-01 13:30:00+02:00</td>\n",
       "      <td>2023-09-01 11:30:00</td>\n",
       "      <td>Practice 2</td>\n",
       "      <td>2023-09-01 17:00:00+02:00</td>\n",
       "      <td>2023-09-01 15:00:00</td>\n",
       "      <td>Practice 3</td>\n",
       "      <td>2023-09-02 12:30:00+02:00</td>\n",
       "      <td>2023-09-02 10:30:00</td>\n",
       "      <td>Qualifying</td>\n",
       "      <td>2023-09-02 16:00:00+02:00</td>\n",
       "      <td>2023-09-02 14:00:00</td>\n",
       "      <td>Race</td>\n",
       "      <td>2023-09-03 15:00:00+02:00</td>\n",
       "      <td>2023-09-03 13:00:00</td>\n",
       "      <td>True</td>\n",
       "    </tr>\n",
       "    <tr>\n",
       "      <th>15</th>\n",
       "      <td>15</td>\n",
       "      <td>Singapore</td>\n",
       "      <td>Marina Bay</td>\n",
       "      <td>FORMULA 1 SINGAPORE AIRLINES SINGAPORE GRAND PRIX 2023</td>\n",
       "      <td>2023-09-17</td>\n",
       "      <td>Singapore Grand Prix</td>\n",
       "      <td>conventional</td>\n",
       "      <td>Practice 1</td>\n",
       "      <td>2023-09-15 17:30:00+08:00</td>\n",
       "      <td>2023-09-15 09:30:00</td>\n",
       "      <td>Practice 2</td>\n",
       "      <td>2023-09-15 21:00:00+08:00</td>\n",
       "      <td>2023-09-15 13:00:00</td>\n",
       "      <td>Practice 3</td>\n",
       "      <td>2023-09-16 17:30:00+08:00</td>\n",
       "      <td>2023-09-16 09:30:00</td>\n",
       "      <td>Qualifying</td>\n",
       "      <td>2023-09-16 21:00:00+08:00</td>\n",
       "      <td>2023-09-16 13:00:00</td>\n",
       "      <td>Race</td>\n",
       "      <td>2023-09-17 20:00:00+08:00</td>\n",
       "      <td>2023-09-17 12:00:00</td>\n",
       "      <td>True</td>\n",
       "    </tr>\n",
       "    <tr>\n",
       "      <th>16</th>\n",
       "      <td>16</td>\n",
       "      <td>Japan</td>\n",
       "      <td>Suzuka</td>\n",
       "      <td>FORMULA 1 LENOVO JAPANESE GRAND PRIX 2023</td>\n",
       "      <td>2023-09-24</td>\n",
       "      <td>Japanese Grand Prix</td>\n",
       "      <td>conventional</td>\n",
       "      <td>Practice 1</td>\n",
       "      <td>2023-09-22 11:30:00+09:00</td>\n",
       "      <td>2023-09-22 02:30:00</td>\n",
       "      <td>Practice 2</td>\n",
       "      <td>2023-09-22 15:00:00+09:00</td>\n",
       "      <td>2023-09-22 06:00:00</td>\n",
       "      <td>Practice 3</td>\n",
       "      <td>2023-09-23 11:30:00+09:00</td>\n",
       "      <td>2023-09-23 02:30:00</td>\n",
       "      <td>Qualifying</td>\n",
       "      <td>2023-09-23 15:00:00+09:00</td>\n",
       "      <td>2023-09-23 06:00:00</td>\n",
       "      <td>Race</td>\n",
       "      <td>2023-09-24 14:00:00+09:00</td>\n",
       "      <td>2023-09-24 05:00:00</td>\n",
       "      <td>True</td>\n",
       "    </tr>\n",
       "    <tr>\n",
       "      <th>17</th>\n",
       "      <td>17</td>\n",
       "      <td>Qatar</td>\n",
       "      <td>Lusail</td>\n",
       "      <td>FORMULA 1 QATAR AIRWAYS QATAR GRAND PRIX 2023</td>\n",
       "      <td>2023-10-08</td>\n",
       "      <td>Qatar Grand Prix</td>\n",
       "      <td>sprint_shootout</td>\n",
       "      <td>Practice 1</td>\n",
       "      <td>2023-10-06 16:30:00+03:00</td>\n",
       "      <td>2023-10-06 13:30:00</td>\n",
       "      <td>Qualifying</td>\n",
       "      <td>2023-10-06 20:00:00+03:00</td>\n",
       "      <td>2023-10-06 17:00:00</td>\n",
       "      <td>Sprint Shootout</td>\n",
       "      <td>2023-10-07 16:20:00+03:00</td>\n",
       "      <td>2023-10-07 13:20:00</td>\n",
       "      <td>Sprint</td>\n",
       "      <td>2023-10-07 20:30:00+03:00</td>\n",
       "      <td>2023-10-07 17:30:00</td>\n",
       "      <td>Race</td>\n",
       "      <td>2023-10-08 20:00:00+03:00</td>\n",
       "      <td>2023-10-08 17:00:00</td>\n",
       "      <td>True</td>\n",
       "    </tr>\n",
       "    <tr>\n",
       "      <th>18</th>\n",
       "      <td>18</td>\n",
       "      <td>United States</td>\n",
       "      <td>Austin</td>\n",
       "      <td>FORMULA 1 LENOVO UNITED STATES GRAND PRIX 2023</td>\n",
       "      <td>2023-10-22</td>\n",
       "      <td>United States Grand Prix</td>\n",
       "      <td>sprint_shootout</td>\n",
       "      <td>Practice 1</td>\n",
       "      <td>2023-10-20 12:30:00-05:00</td>\n",
       "      <td>2023-10-20 17:30:00</td>\n",
       "      <td>Qualifying</td>\n",
       "      <td>2023-10-20 16:00:00-05:00</td>\n",
       "      <td>2023-10-20 21:00:00</td>\n",
       "      <td>Sprint Shootout</td>\n",
       "      <td>2023-10-21 12:30:00-05:00</td>\n",
       "      <td>2023-10-21 17:30:00</td>\n",
       "      <td>Sprint</td>\n",
       "      <td>2023-10-21 17:00:00-05:00</td>\n",
       "      <td>2023-10-21 22:00:00</td>\n",
       "      <td>Race</td>\n",
       "      <td>2023-10-22 14:00:00-05:00</td>\n",
       "      <td>2023-10-22 19:00:00</td>\n",
       "      <td>True</td>\n",
       "    </tr>\n",
       "    <tr>\n",
       "      <th>19</th>\n",
       "      <td>19</td>\n",
       "      <td>Mexico</td>\n",
       "      <td>Mexico City</td>\n",
       "      <td>FORMULA 1 GRAN PREMIO DE LA CIUDAD DE MÉXICO 2023</td>\n",
       "      <td>2023-10-29</td>\n",
       "      <td>Mexico City Grand Prix</td>\n",
       "      <td>conventional</td>\n",
       "      <td>Practice 1</td>\n",
       "      <td>2023-10-27 12:30:00-06:00</td>\n",
       "      <td>2023-10-27 18:30:00</td>\n",
       "      <td>Practice 2</td>\n",
       "      <td>2023-10-27 16:00:00-06:00</td>\n",
       "      <td>2023-10-27 22:00:00</td>\n",
       "      <td>Practice 3</td>\n",
       "      <td>2023-10-28 11:30:00-06:00</td>\n",
       "      <td>2023-10-28 17:30:00</td>\n",
       "      <td>Qualifying</td>\n",
       "      <td>2023-10-28 15:00:00-06:00</td>\n",
       "      <td>2023-10-28 21:00:00</td>\n",
       "      <td>Race</td>\n",
       "      <td>2023-10-29 14:00:00-06:00</td>\n",
       "      <td>2023-10-29 20:00:00</td>\n",
       "      <td>True</td>\n",
       "    </tr>\n",
       "    <tr>\n",
       "      <th>20</th>\n",
       "      <td>20</td>\n",
       "      <td>Brazil</td>\n",
       "      <td>São Paulo</td>\n",
       "      <td>FORMULA 1 ROLEX GRANDE PRÊMIO DE SÃO PAULO 2023</td>\n",
       "      <td>2023-11-05</td>\n",
       "      <td>São Paulo Grand Prix</td>\n",
       "      <td>sprint_shootout</td>\n",
       "      <td>Practice 1</td>\n",
       "      <td>2023-11-03 11:30:00-03:00</td>\n",
       "      <td>2023-11-03 14:30:00</td>\n",
       "      <td>Qualifying</td>\n",
       "      <td>2023-11-03 15:00:00-03:00</td>\n",
       "      <td>2023-11-03 18:00:00</td>\n",
       "      <td>Sprint Shootout</td>\n",
       "      <td>2023-11-04 11:00:00-03:00</td>\n",
       "      <td>2023-11-04 14:00:00</td>\n",
       "      <td>Sprint</td>\n",
       "      <td>2023-11-04 15:30:00-03:00</td>\n",
       "      <td>2023-11-04 18:30:00</td>\n",
       "      <td>Race</td>\n",
       "      <td>2023-11-05 14:00:00-03:00</td>\n",
       "      <td>2023-11-05 17:00:00</td>\n",
       "      <td>True</td>\n",
       "    </tr>\n",
       "    <tr>\n",
       "      <th>21</th>\n",
       "      <td>21</td>\n",
       "      <td>United States</td>\n",
       "      <td>Las Vegas</td>\n",
       "      <td>FORMULA 1 HEINEKEN SILVER LAS VEGAS GRAND PRIX 2023</td>\n",
       "      <td>2023-11-18</td>\n",
       "      <td>Las Vegas Grand Prix</td>\n",
       "      <td>conventional</td>\n",
       "      <td>Practice 1</td>\n",
       "      <td>2023-11-16 20:30:00-08:00</td>\n",
       "      <td>2023-11-17 04:30:00</td>\n",
       "      <td>Practice 2</td>\n",
       "      <td>2023-11-17 02:30:00-08:00</td>\n",
       "      <td>2023-11-17 10:30:00</td>\n",
       "      <td>Practice 3</td>\n",
       "      <td>2023-11-17 20:30:00-08:00</td>\n",
       "      <td>2023-11-18 04:30:00</td>\n",
       "      <td>Qualifying</td>\n",
       "      <td>2023-11-18 00:00:00-08:00</td>\n",
       "      <td>2023-11-18 08:00:00</td>\n",
       "      <td>Race</td>\n",
       "      <td>2023-11-18 22:00:00-08:00</td>\n",
       "      <td>2023-11-19 06:00:00</td>\n",
       "      <td>True</td>\n",
       "    </tr>\n",
       "    <tr>\n",
       "      <th>22</th>\n",
       "      <td>22</td>\n",
       "      <td>Abu Dhabi</td>\n",
       "      <td>Yas Island</td>\n",
       "      <td>FORMULA 1 ETIHAD AIRWAYS ABU DHABI GRAND PRIX 2023</td>\n",
       "      <td>2023-11-26</td>\n",
       "      <td>Abu Dhabi Grand Prix</td>\n",
       "      <td>conventional</td>\n",
       "      <td>Practice 1</td>\n",
       "      <td>2023-11-24 13:30:00+04:00</td>\n",
       "      <td>2023-11-24 09:30:00</td>\n",
       "      <td>Practice 2</td>\n",
       "      <td>2023-11-24 17:00:00+04:00</td>\n",
       "      <td>2023-11-24 13:00:00</td>\n",
       "      <td>Practice 3</td>\n",
       "      <td>2023-11-25 14:30:00+04:00</td>\n",
       "      <td>2023-11-25 10:30:00</td>\n",
       "      <td>Qualifying</td>\n",
       "      <td>2023-11-25 18:00:00+04:00</td>\n",
       "      <td>2023-11-25 14:00:00</td>\n",
       "      <td>Race</td>\n",
       "      <td>2023-11-26 17:00:00+04:00</td>\n",
       "      <td>2023-11-26 13:00:00</td>\n",
       "      <td>True</td>\n",
       "    </tr>\n",
       "  </tbody>\n",
       "</table>\n",
       "</div>"
      ],
      "text/plain": [
       "    RoundNumber        Country           Location                                        OfficialEventName  EventDate                 EventName      EventFormat    Session1               Session1Date     Session1DateUtc    Session2               Session2Date     Session2DateUtc         Session3               Session3Date     Session3DateUtc    Session4               Session4Date     Session4DateUtc Session5               Session5Date     Session5DateUtc  F1ApiSupport\n",
       "0             0        Bahrain             Sakhir                 FORMULA 1 ARAMCO PRE-SEASON TESTING 2023 2023-02-25        Pre-Season Testing          testing  Practice 1  2023-02-23 10:00:00+03:00 2023-02-23 07:00:00  Practice 2  2023-02-24 10:00:00+03:00 2023-02-24 07:00:00       Practice 3  2023-02-25 10:00:00+03:00 2023-02-25 07:00:00        None                        NaT                 NaT     None                        NaT                 NaT          True\n",
       "1             1        Bahrain             Sakhir               FORMULA 1 GULF AIR BAHRAIN GRAND PRIX 2023 2023-03-05        Bahrain Grand Prix     conventional  Practice 1  2023-03-03 14:30:00+03:00 2023-03-03 11:30:00  Practice 2  2023-03-03 18:00:00+03:00 2023-03-03 15:00:00       Practice 3  2023-03-04 14:30:00+03:00 2023-03-04 11:30:00  Qualifying  2023-03-04 18:00:00+03:00 2023-03-04 15:00:00     Race  2023-03-05 18:00:00+03:00 2023-03-05 15:00:00          True\n",
       "2             2   Saudi Arabia             Jeddah              FORMULA 1 STC SAUDI ARABIAN GRAND PRIX 2023 2023-03-19  Saudi Arabian Grand Prix     conventional  Practice 1  2023-03-17 16:30:00+03:00 2023-03-17 13:30:00  Practice 2  2023-03-17 20:00:00+03:00 2023-03-17 17:00:00       Practice 3  2023-03-18 16:30:00+03:00 2023-03-18 13:30:00  Qualifying  2023-03-18 20:00:00+03:00 2023-03-18 17:00:00     Race  2023-03-19 20:00:00+03:00 2023-03-19 17:00:00          True\n",
       "3             3      Australia          Melbourne               FORMULA 1 ROLEX AUSTRALIAN GRAND PRIX 2023 2023-04-02     Australian Grand Prix     conventional  Practice 1  2023-03-31 12:30:00+10:00 2023-03-31 02:30:00  Practice 2  2023-03-31 16:00:00+10:00 2023-03-31 06:00:00       Practice 3  2023-04-01 12:30:00+10:00 2023-04-01 02:30:00  Qualifying  2023-04-01 16:00:00+10:00 2023-04-01 06:00:00     Race  2023-04-02 15:00:00+10:00 2023-04-02 05:00:00          True\n",
       "4             4     Azerbaijan               Baku                     FORMULA 1 AZERBAIJAN GRAND PRIX 2023 2023-04-30     Azerbaijan Grand Prix  sprint_shootout  Practice 1  2023-04-28 13:30:00+04:00 2023-04-28 09:30:00  Qualifying  2023-04-28 17:00:00+04:00 2023-04-28 13:00:00  Sprint Shootout  2023-04-29 12:30:00+04:00 2023-04-29 08:30:00      Sprint  2023-04-29 17:30:00+04:00 2023-04-29 13:30:00     Race  2023-04-30 15:00:00+04:00 2023-04-30 11:00:00          True\n",
       "5             5  United States              Miami               FORMULA 1 CRYPTO.COM MIAMI GRAND PRIX 2023 2023-05-07          Miami Grand Prix     conventional  Practice 1  2023-05-05 14:00:00-04:00 2023-05-05 18:00:00  Practice 2  2023-05-05 17:30:00-04:00 2023-05-05 21:30:00       Practice 3  2023-05-06 12:30:00-04:00 2023-05-06 16:30:00  Qualifying  2023-05-06 16:00:00-04:00 2023-05-06 20:00:00     Race  2023-05-07 15:30:00-04:00 2023-05-07 19:30:00          True\n",
       "6             6         Monaco             Monaco                      FORMULA 1 GRAND PRIX DE MONACO 2023 2023-05-28         Monaco Grand Prix     conventional  Practice 1  2023-05-26 13:30:00+02:00 2023-05-26 11:30:00  Practice 2  2023-05-26 17:00:00+02:00 2023-05-26 15:00:00       Practice 3  2023-05-27 12:30:00+02:00 2023-05-27 10:30:00  Qualifying  2023-05-27 16:00:00+02:00 2023-05-27 14:00:00     Race  2023-05-28 15:00:00+02:00 2023-05-28 13:00:00          True\n",
       "7             7          Spain          Barcelona                 FORMULA 1 AWS GRAN PREMIO DE ESPAÑA 2023 2023-06-04        Spanish Grand Prix     conventional  Practice 1  2023-06-02 13:30:00+02:00 2023-06-02 11:30:00  Practice 2  2023-06-02 17:00:00+02:00 2023-06-02 15:00:00       Practice 3  2023-06-03 12:30:00+02:00 2023-06-03 10:30:00  Qualifying  2023-06-03 16:00:00+02:00 2023-06-03 14:00:00     Race  2023-06-04 15:00:00+02:00 2023-06-04 13:00:00          True\n",
       "8             8         Canada           Montréal              FORMULA 1 PIRELLI GRAND PRIX DU CANADA 2023 2023-06-18       Canadian Grand Prix     conventional  Practice 1  2023-06-16 13:30:00-04:00 2023-06-16 17:30:00  Practice 2  2023-06-16 16:30:00-04:00 2023-06-16 20:30:00       Practice 3  2023-06-17 12:30:00-04:00 2023-06-17 16:30:00  Qualifying  2023-06-17 16:00:00-04:00 2023-06-17 20:00:00     Race  2023-06-18 14:00:00-04:00 2023-06-18 18:00:00          True\n",
       "9             9        Austria          Spielberg        FORMULA 1 ROLEX GROSSER PREIS VON ÖSTERREICH 2023 2023-07-02       Austrian Grand Prix  sprint_shootout  Practice 1  2023-06-30 13:30:00+02:00 2023-06-30 11:30:00  Qualifying  2023-06-30 17:00:00+02:00 2023-06-30 15:00:00  Sprint Shootout  2023-07-01 12:00:00+02:00 2023-07-01 10:00:00      Sprint  2023-07-01 16:30:00+02:00 2023-07-01 14:30:00     Race  2023-07-02 15:00:00+02:00 2023-07-02 13:00:00          True\n",
       "10           10  Great Britain        Silverstone                 FORMULA 1 ARAMCO BRITISH GRAND PRIX 2023 2023-07-09        British Grand Prix     conventional  Practice 1  2023-07-07 12:30:00+01:00 2023-07-07 11:30:00  Practice 2  2023-07-07 16:00:00+01:00 2023-07-07 15:00:00       Practice 3  2023-07-08 11:30:00+01:00 2023-07-08 10:30:00  Qualifying  2023-07-08 15:00:00+01:00 2023-07-08 14:00:00     Race  2023-07-09 15:00:00+01:00 2023-07-09 14:00:00          True\n",
       "11           11        Hungary           Budapest        FORMULA 1 QATAR AIRWAYS HUNGARIAN GRAND PRIX 2023 2023-07-23      Hungarian Grand Prix     conventional  Practice 1  2023-07-21 13:30:00+02:00 2023-07-21 11:30:00  Practice 2  2023-07-21 17:00:00+02:00 2023-07-21 15:00:00       Practice 3  2023-07-22 12:30:00+02:00 2023-07-22 10:30:00  Qualifying  2023-07-22 16:00:00+02:00 2023-07-22 14:00:00     Race  2023-07-23 15:00:00+02:00 2023-07-23 13:00:00          True\n",
       "12           12        Belgium  Spa-Francorchamps            FORMULA 1 MSC CRUISES BELGIAN GRAND PRIX 2023 2023-07-30        Belgian Grand Prix  sprint_shootout  Practice 1  2023-07-28 13:30:00+02:00 2023-07-28 11:30:00  Qualifying  2023-07-28 17:00:00+02:00 2023-07-28 15:00:00  Sprint Shootout  2023-07-29 12:00:00+02:00 2023-07-29 10:00:00      Sprint  2023-07-29 17:05:00+02:00 2023-07-29 15:05:00     Race  2023-07-30 15:00:00+02:00 2023-07-30 13:00:00          True\n",
       "13           13    Netherlands          Zandvoort                 FORMULA 1 HEINEKEN DUTCH GRAND PRIX 2023 2023-08-27          Dutch Grand Prix     conventional  Practice 1  2023-08-25 12:30:00+02:00 2023-08-25 10:30:00  Practice 2  2023-08-25 16:00:00+02:00 2023-08-25 14:00:00       Practice 3  2023-08-26 11:30:00+02:00 2023-08-26 09:30:00  Qualifying  2023-08-26 15:00:00+02:00 2023-08-26 13:00:00     Race  2023-08-27 15:00:00+02:00 2023-08-27 13:00:00          True\n",
       "14           14          Italy              Monza             FORMULA 1 PIRELLI GRAN PREMIO D’ITALIA 2023  2023-09-03        Italian Grand Prix     conventional  Practice 1  2023-09-01 13:30:00+02:00 2023-09-01 11:30:00  Practice 2  2023-09-01 17:00:00+02:00 2023-09-01 15:00:00       Practice 3  2023-09-02 12:30:00+02:00 2023-09-02 10:30:00  Qualifying  2023-09-02 16:00:00+02:00 2023-09-02 14:00:00     Race  2023-09-03 15:00:00+02:00 2023-09-03 13:00:00          True\n",
       "15           15      Singapore         Marina Bay  FORMULA 1 SINGAPORE AIRLINES SINGAPORE GRAND PRIX 2023  2023-09-17      Singapore Grand Prix     conventional  Practice 1  2023-09-15 17:30:00+08:00 2023-09-15 09:30:00  Practice 2  2023-09-15 21:00:00+08:00 2023-09-15 13:00:00       Practice 3  2023-09-16 17:30:00+08:00 2023-09-16 09:30:00  Qualifying  2023-09-16 21:00:00+08:00 2023-09-16 13:00:00     Race  2023-09-17 20:00:00+08:00 2023-09-17 12:00:00          True\n",
       "16           16          Japan             Suzuka               FORMULA 1 LENOVO JAPANESE GRAND PRIX 2023  2023-09-24       Japanese Grand Prix     conventional  Practice 1  2023-09-22 11:30:00+09:00 2023-09-22 02:30:00  Practice 2  2023-09-22 15:00:00+09:00 2023-09-22 06:00:00       Practice 3  2023-09-23 11:30:00+09:00 2023-09-23 02:30:00  Qualifying  2023-09-23 15:00:00+09:00 2023-09-23 06:00:00     Race  2023-09-24 14:00:00+09:00 2023-09-24 05:00:00          True\n",
       "17           17          Qatar             Lusail            FORMULA 1 QATAR AIRWAYS QATAR GRAND PRIX 2023 2023-10-08          Qatar Grand Prix  sprint_shootout  Practice 1  2023-10-06 16:30:00+03:00 2023-10-06 13:30:00  Qualifying  2023-10-06 20:00:00+03:00 2023-10-06 17:00:00  Sprint Shootout  2023-10-07 16:20:00+03:00 2023-10-07 13:20:00      Sprint  2023-10-07 20:30:00+03:00 2023-10-07 17:30:00     Race  2023-10-08 20:00:00+03:00 2023-10-08 17:00:00          True\n",
       "18           18  United States             Austin           FORMULA 1 LENOVO UNITED STATES GRAND PRIX 2023 2023-10-22  United States Grand Prix  sprint_shootout  Practice 1  2023-10-20 12:30:00-05:00 2023-10-20 17:30:00  Qualifying  2023-10-20 16:00:00-05:00 2023-10-20 21:00:00  Sprint Shootout  2023-10-21 12:30:00-05:00 2023-10-21 17:30:00      Sprint  2023-10-21 17:00:00-05:00 2023-10-21 22:00:00     Race  2023-10-22 14:00:00-05:00 2023-10-22 19:00:00          True\n",
       "19           19         Mexico        Mexico City        FORMULA 1 GRAN PREMIO DE LA CIUDAD DE MÉXICO 2023 2023-10-29    Mexico City Grand Prix     conventional  Practice 1  2023-10-27 12:30:00-06:00 2023-10-27 18:30:00  Practice 2  2023-10-27 16:00:00-06:00 2023-10-27 22:00:00       Practice 3  2023-10-28 11:30:00-06:00 2023-10-28 17:30:00  Qualifying  2023-10-28 15:00:00-06:00 2023-10-28 21:00:00     Race  2023-10-29 14:00:00-06:00 2023-10-29 20:00:00          True\n",
       "20           20         Brazil          São Paulo          FORMULA 1 ROLEX GRANDE PRÊMIO DE SÃO PAULO 2023 2023-11-05      São Paulo Grand Prix  sprint_shootout  Practice 1  2023-11-03 11:30:00-03:00 2023-11-03 14:30:00  Qualifying  2023-11-03 15:00:00-03:00 2023-11-03 18:00:00  Sprint Shootout  2023-11-04 11:00:00-03:00 2023-11-04 14:00:00      Sprint  2023-11-04 15:30:00-03:00 2023-11-04 18:30:00     Race  2023-11-05 14:00:00-03:00 2023-11-05 17:00:00          True\n",
       "21           21  United States          Las Vegas      FORMULA 1 HEINEKEN SILVER LAS VEGAS GRAND PRIX 2023 2023-11-18      Las Vegas Grand Prix     conventional  Practice 1  2023-11-16 20:30:00-08:00 2023-11-17 04:30:00  Practice 2  2023-11-17 02:30:00-08:00 2023-11-17 10:30:00       Practice 3  2023-11-17 20:30:00-08:00 2023-11-18 04:30:00  Qualifying  2023-11-18 00:00:00-08:00 2023-11-18 08:00:00     Race  2023-11-18 22:00:00-08:00 2023-11-19 06:00:00          True\n",
       "22           22      Abu Dhabi         Yas Island      FORMULA 1 ETIHAD AIRWAYS ABU DHABI GRAND PRIX 2023  2023-11-26      Abu Dhabi Grand Prix     conventional  Practice 1  2023-11-24 13:30:00+04:00 2023-11-24 09:30:00  Practice 2  2023-11-24 17:00:00+04:00 2023-11-24 13:00:00       Practice 3  2023-11-25 14:30:00+04:00 2023-11-25 10:30:00  Qualifying  2023-11-25 18:00:00+04:00 2023-11-25 14:00:00     Race  2023-11-26 17:00:00+04:00 2023-11-26 13:00:00          True"
      ]
     },
     "metadata": {},
     "output_type": "display_data"
    },
    {
     "name": "stdout",
     "output_type": "stream",
     "text": [
      "(23, 23)\n"
     ]
    },
    {
     "data": {
      "text/plain": [
       "RoundNumber                   int64\n",
       "Country                      object\n",
       "Location                     object\n",
       "OfficialEventName            object\n",
       "EventDate            datetime64[ns]\n",
       "EventName                    object\n",
       "EventFormat                  object\n",
       "Session1                     object\n",
       "Session1Date                 object\n",
       "Session1DateUtc      datetime64[ns]\n",
       "Session2                     object\n",
       "Session2Date                 object\n",
       "Session2DateUtc      datetime64[ns]\n",
       "Session3                     object\n",
       "Session3Date                 object\n",
       "Session3DateUtc      datetime64[ns]\n",
       "Session4                     object\n",
       "Session4Date                 object\n",
       "Session4DateUtc      datetime64[ns]\n",
       "Session5                     object\n",
       "Session5Date                 object\n",
       "Session5DateUtc      datetime64[ns]\n",
       "F1ApiSupport                   bool\n",
       "dtype: object"
      ]
     },
     "execution_count": 8,
     "metadata": {},
     "output_type": "execute_result"
    }
   ],
   "source": [
    "import fastf1 as f1\n",
    "\n",
    "session = f1.get_session(2023, 8, 'R')\n",
    "schedule = f1.get_event_schedule(2023)\n",
    "# print(session.event)\n",
    "display_df(schedule)\n",
    "schedule.dtypes"
   ]
  },
  {
   "cell_type": "code",
   "execution_count": 11,
   "id": "1dc18f82-731f-4c0f-b4c9-a693c094e9f5",
   "metadata": {},
   "outputs": [
    {
     "name": "stderr",
     "output_type": "stream",
     "text": [
      "core           INFO \tLoading data for Canadian Grand Prix - Race [v3.1.6]\n",
      "2023-12-25 22:59:57,786 [fastf1.fastf1.core:1248:load] [INFO] Loading data for Canadian Grand Prix - Race [v3.1.6]\n",
      "req            INFO \tUsing cached data for session_info\n",
      "2023-12-25 22:59:57,789 [fastf1.fastf1.req:408:_cached_api_request] [INFO] Using cached data for session_info\n",
      "req            INFO \tUsing cached data for driver_info\n",
      "2023-12-25 22:59:57,791 [fastf1.fastf1.req:408:_cached_api_request] [INFO] Using cached data for driver_info\n",
      "req            INFO \tUsing cached data for session_status_data\n",
      "2023-12-25 23:00:01,164 [fastf1.fastf1.req:408:_cached_api_request] [INFO] Using cached data for session_status_data\n",
      "req            INFO \tUsing cached data for lap_count\n",
      "2023-12-25 23:00:01,166 [fastf1.fastf1.req:408:_cached_api_request] [INFO] Using cached data for lap_count\n",
      "req            INFO \tUsing cached data for track_status_data\n",
      "2023-12-25 23:00:01,168 [fastf1.fastf1.req:408:_cached_api_request] [INFO] Using cached data for track_status_data\n",
      "req            INFO \tUsing cached data for _extended_timing_data\n",
      "2023-12-25 23:00:01,176 [fastf1.fastf1.req:408:_cached_api_request] [INFO] Using cached data for _extended_timing_data\n",
      "req            INFO \tUsing cached data for timing_app_data\n",
      "2023-12-25 23:00:01,179 [fastf1.fastf1.req:408:_cached_api_request] [INFO] Using cached data for timing_app_data\n",
      "core           INFO \tProcessing timing data...\n",
      "2023-12-25 23:00:01,180 [fastf1.fastf1.core:1302:_load_laps_data] [INFO] Processing timing data...\n",
      "req            INFO \tUsing cached data for car_data\n",
      "2023-12-25 23:00:01,658 [fastf1.fastf1.req:408:_cached_api_request] [INFO] Using cached data for car_data\n",
      "req            INFO \tUsing cached data for position_data\n",
      "2023-12-25 23:00:01,727 [fastf1.fastf1.req:408:_cached_api_request] [INFO] Using cached data for position_data\n",
      "req            INFO \tUsing cached data for weather_data\n",
      "2023-12-25 23:00:02,762 [fastf1.fastf1.req:408:_cached_api_request] [INFO] Using cached data for weather_data\n",
      "req            INFO \tUsing cached data for race_control_messages\n",
      "2023-12-25 23:00:02,763 [fastf1.fastf1.req:408:_cached_api_request] [INFO] Using cached data for race_control_messages\n",
      "core           INFO \tFinished loading data for 20 drivers: ['1', '14', '44', '16', '55', '11', '23', '31', '18', '77', '81', '10', '4', '22', '27', '24', '20', '21', '63', '2']\n",
      "2023-12-25 23:00:02,792 [fastf1.fastf1.core:1284:load] [INFO] Finished loading data for 20 drivers: ['1', '14', '44', '16', '55', '11', '23', '31', '18', '77', '81', '10', '4', '22', '27', '24', '20', '21', '63', '2']\n"
     ]
    }
   ],
   "source": [
    "session.load()"
   ]
  },
  {
   "cell_type": "code",
   "execution_count": 15,
   "id": "082e425c-3603-4d04-8f0e-bee239781f54",
   "metadata": {},
   "outputs": [
    {
     "name": "stdout",
     "output_type": "stream",
     "text": [
      "<class 'fastf1.core.Laps'>\n",
      "RangeIndex: 1317 entries, 0 to 1316\n",
      "Data columns (total 31 columns):\n",
      " #   Column              Non-Null Count  Dtype          \n",
      "---  ------              --------------  -----          \n",
      " 0   Time                1317 non-null   timedelta64[ns]\n",
      " 1   Driver              1317 non-null   object         \n",
      " 2   DriverNumber        1317 non-null   object         \n",
      " 3   LapTime             1314 non-null   timedelta64[ns]\n",
      " 4   LapNumber           1317 non-null   float64        \n",
      " 5   Stint               1317 non-null   float64        \n",
      " 6   PitOutTime          33 non-null     timedelta64[ns]\n",
      " 7   PitInTime           34 non-null     timedelta64[ns]\n",
      " 8   Sector1Time         1296 non-null   timedelta64[ns]\n",
      " 9   Sector2Time         1316 non-null   timedelta64[ns]\n",
      " 10  Sector3Time         1314 non-null   timedelta64[ns]\n",
      " 11  Sector1SessionTime  1293 non-null   timedelta64[ns]\n",
      " 12  Sector2SessionTime  1316 non-null   timedelta64[ns]\n",
      " 13  Sector3SessionTime  1314 non-null   timedelta64[ns]\n",
      " 14  SpeedI1             1048 non-null   float64        \n",
      " 15  SpeedI2             1316 non-null   float64        \n",
      " 16  SpeedFL             1282 non-null   float64        \n",
      " 17  SpeedST             1316 non-null   float64        \n",
      " 18  IsPersonalBest      1316 non-null   object         \n",
      " 19  Compound            1317 non-null   object         \n",
      " 20  TyreLife            1317 non-null   float64        \n",
      " 21  FreshTyre           1317 non-null   bool           \n",
      " 22  Team                1317 non-null   object         \n",
      " 23  LapStartTime        1317 non-null   timedelta64[ns]\n",
      " 24  LapStartDate        1316 non-null   datetime64[ns] \n",
      " 25  TrackStatus         1316 non-null   object         \n",
      " 26  Position            1316 non-null   float64        \n",
      " 27  Deleted             1317 non-null   bool           \n",
      " 28  DeletedReason       1316 non-null   object         \n",
      " 29  FastF1Generated     1317 non-null   bool           \n",
      " 30  IsAccurate          1317 non-null   bool           \n",
      "dtypes: bool(4), datetime64[ns](1), float64(8), object(7), timedelta64[ns](11)\n",
      "memory usage: 283.1+ KB\n"
     ]
    }
   ],
   "source": [
    "session.laps.info()"
   ]
  },
  {
   "cell_type": "code",
   "execution_count": 24,
   "id": "0a428271-1fee-484a-8416-e3bdd449d902",
   "metadata": {},
   "outputs": [
    {
     "name": "stdout",
     "output_type": "stream",
     "text": [
      "['VER' 'GAS' 'PER' 'ALO' 'LEC' 'STR' 'SAR' 'MAG' 'DEV' 'TSU' 'ALB' 'ZHO'\n",
      " 'HUL' 'OCO' 'NOR' 'HAM' 'SAI' 'RUS' 'BOT' 'PIA']\n",
      "20\n",
      "['Red Bull Racing' 'Alpine' 'Aston Martin' 'Ferrari' 'Williams'\n",
      " 'Haas F1 Team' 'AlphaTauri' 'Alfa Romeo' 'McLaren' 'Mercedes']\n",
      "10\n",
      "['1' '10' '11' '14' '16' '18' '2' '20' '21' '22' '23' '24' '27' '31' '4'\n",
      " '44' '55' '63' '77' '81']\n",
      "20\n",
      "['MEDIUM' 'HARD' 'SOFT']\n",
      "3\n"
     ]
    }
   ],
   "source": [
    "print(session.laps.Driver.unique())\n",
    "print(len(session.laps.Driver.unique()))\n",
    "\n",
    "print(session.laps.Team.unique())\n",
    "print(len(session.laps.Team.unique()))\n",
    "\n",
    "print(session.laps.DriverNumber.unique())\n",
    "print(len(session.laps.DriverNumber.unique()))\n",
    "\n",
    "print(session.laps.Compound.unique())\n",
    "print(len(session.laps.Compound.unique()))"
   ]
  },
  {
   "cell_type": "code",
   "execution_count": 27,
   "id": "e9f8d48a-2842-4599-8995-37c788bfcc5c",
   "metadata": {},
   "outputs": [
    {
     "name": "stdout",
     "output_type": "stream",
     "text": [
      "Compound\n",
      "HARD      922\n",
      "MEDIUM    383\n",
      "SOFT       12\n",
      "Name: count, dtype: int64\n",
      "TrackStatus\n",
      "1      1131\n",
      "4        76\n",
      "2        61\n",
      "24       19\n",
      "26       10\n",
      "67       10\n",
      "267       9\n",
      "Name: count, dtype: int64\n"
     ]
    }
   ],
   "source": [
    "print(session.laps.Compound.value_counts())\n",
    "print(session.laps.TrackStatus.value_counts())"
   ]
  },
  {
   "cell_type": "code",
   "execution_count": 29,
   "id": "bd1b5d28-b016-4de1-a68e-d3d56729d962",
   "metadata": {},
   "outputs": [
    {
     "data": {
      "text/html": [
       "<div>\n",
       "<style scoped>\n",
       "    .dataframe tbody tr th:only-of-type {\n",
       "        vertical-align: middle;\n",
       "    }\n",
       "\n",
       "    .dataframe tbody tr th {\n",
       "        vertical-align: top;\n",
       "    }\n",
       "\n",
       "    .dataframe thead th {\n",
       "        text-align: right;\n",
       "    }\n",
       "</style>\n",
       "<table border=\"1\" class=\"dataframe\">\n",
       "  <thead>\n",
       "    <tr style=\"text-align: right;\">\n",
       "      <th></th>\n",
       "      <th>Time</th>\n",
       "      <th>LapTime</th>\n",
       "      <th>LapNumber</th>\n",
       "      <th>Stint</th>\n",
       "      <th>PitOutTime</th>\n",
       "      <th>PitInTime</th>\n",
       "      <th>Sector1Time</th>\n",
       "      <th>Sector2Time</th>\n",
       "      <th>Sector3Time</th>\n",
       "      <th>Sector1SessionTime</th>\n",
       "      <th>Sector2SessionTime</th>\n",
       "      <th>Sector3SessionTime</th>\n",
       "      <th>SpeedI1</th>\n",
       "      <th>SpeedI2</th>\n",
       "      <th>SpeedFL</th>\n",
       "      <th>SpeedST</th>\n",
       "      <th>TyreLife</th>\n",
       "      <th>LapStartTime</th>\n",
       "      <th>LapStartDate</th>\n",
       "      <th>Position</th>\n",
       "    </tr>\n",
       "  </thead>\n",
       "  <tbody>\n",
       "    <tr>\n",
       "      <th>count</th>\n",
       "      <td>1317</td>\n",
       "      <td>1314</td>\n",
       "      <td>1317.000000</td>\n",
       "      <td>1317.000000</td>\n",
       "      <td>33</td>\n",
       "      <td>34</td>\n",
       "      <td>1296</td>\n",
       "      <td>1316</td>\n",
       "      <td>1314</td>\n",
       "      <td>1293</td>\n",
       "      <td>1316</td>\n",
       "      <td>1314</td>\n",
       "      <td>1048.000000</td>\n",
       "      <td>1316.000000</td>\n",
       "      <td>1282.000000</td>\n",
       "      <td>1316.000000</td>\n",
       "      <td>1317.000000</td>\n",
       "      <td>1317</td>\n",
       "      <td>1316</td>\n",
       "      <td>1316.000000</td>\n",
       "    </tr>\n",
       "    <tr>\n",
       "      <th>mean</th>\n",
       "      <td>0 days 01:50:56.989881548</td>\n",
       "      <td>0 days 00:01:21.402331050</td>\n",
       "      <td>34.899772</td>\n",
       "      <td>2.079727</td>\n",
       "      <td>0 days 01:40:27.353454545</td>\n",
       "      <td>0 days 01:41:05.323088235</td>\n",
       "      <td>0 days 00:00:22.573133487</td>\n",
       "      <td>0 days 00:00:26.016532674</td>\n",
       "      <td>0 days 00:00:32.696929984</td>\n",
       "      <td>0 days 01:50:41.932526682</td>\n",
       "      <td>0 days 01:50:26.020733282</td>\n",
       "      <td>0 days 01:50:59.043652207</td>\n",
       "      <td>243.312023</td>\n",
       "      <td>270.588906</td>\n",
       "      <td>279.420437</td>\n",
       "      <td>303.231763</td>\n",
       "      <td>16.804100</td>\n",
       "      <td>0 days 01:49:35.519591495</td>\n",
       "      <td>2023-06-18 18:50:37.318670080</td>\n",
       "      <td>9.916413</td>\n",
       "    </tr>\n",
       "    <tr>\n",
       "      <th>min</th>\n",
       "      <td>0 days 01:03:28.836000</td>\n",
       "      <td>0 days 00:01:14.481000</td>\n",
       "      <td>1.000000</td>\n",
       "      <td>1.000000</td>\n",
       "      <td>0 days 01:03:56.492000</td>\n",
       "      <td>0 days 01:03:32.868000</td>\n",
       "      <td>0 days 00:00:20.627000</td>\n",
       "      <td>0 days 00:00:23.762000</td>\n",
       "      <td>0 days 00:00:30.086000</td>\n",
       "      <td>0 days 01:03:50.522000</td>\n",
       "      <td>0 days 01:02:57.649000</td>\n",
       "      <td>0 days 01:03:28.914000</td>\n",
       "      <td>86.000000</td>\n",
       "      <td>56.000000</td>\n",
       "      <td>120.000000</td>\n",
       "      <td>82.000000</td>\n",
       "      <td>1.000000</td>\n",
       "      <td>0 days 01:02:05.478000</td>\n",
       "      <td>2023-06-18 18:03:05.484000</td>\n",
       "      <td>1.000000</td>\n",
       "    </tr>\n",
       "    <tr>\n",
       "      <th>25%</th>\n",
       "      <td>0 days 01:28:24.901000</td>\n",
       "      <td>0 days 00:01:17.019500</td>\n",
       "      <td>17.000000</td>\n",
       "      <td>1.000000</td>\n",
       "      <td>0 days 01:18:37.570000</td>\n",
       "      <td>0 days 01:18:14.074250</td>\n",
       "      <td>0 days 00:00:21.474000</td>\n",
       "      <td>0 days 00:00:24.613750</td>\n",
       "      <td>0 days 00:00:30.862000</td>\n",
       "      <td>0 days 01:28:45.421000</td>\n",
       "      <td>0 days 01:28:42.793500</td>\n",
       "      <td>0 days 01:29:30.744000</td>\n",
       "      <td>246.000000</td>\n",
       "      <td>275.000000</td>\n",
       "      <td>278.000000</td>\n",
       "      <td>303.000000</td>\n",
       "      <td>7.000000</td>\n",
       "      <td>0 days 01:27:04.888000</td>\n",
       "      <td>2023-06-18 18:28:56.480499968</td>\n",
       "      <td>5.000000</td>\n",
       "    </tr>\n",
       "    <tr>\n",
       "      <th>50%</th>\n",
       "      <td>0 days 01:51:36.175000</td>\n",
       "      <td>0 days 00:01:17.678000</td>\n",
       "      <td>35.000000</td>\n",
       "      <td>2.000000</td>\n",
       "      <td>0 days 01:48:22.976000</td>\n",
       "      <td>0 days 01:48:35.241500</td>\n",
       "      <td>0 days 00:00:21.734000</td>\n",
       "      <td>0 days 00:00:24.813000</td>\n",
       "      <td>0 days 00:00:31.082000</td>\n",
       "      <td>0 days 01:51:20.529000</td>\n",
       "      <td>0 days 01:51:08.816000</td>\n",
       "      <td>0 days 01:51:40.163000</td>\n",
       "      <td>251.000000</td>\n",
       "      <td>278.000000</td>\n",
       "      <td>281.000000</td>\n",
       "      <td>308.000000</td>\n",
       "      <td>14.000000</td>\n",
       "      <td>0 days 01:50:18.433000</td>\n",
       "      <td>2023-06-18 18:51:22.179000064</td>\n",
       "      <td>10.000000</td>\n",
       "    </tr>\n",
       "    <tr>\n",
       "      <th>75%</th>\n",
       "      <td>0 days 02:14:05.045000</td>\n",
       "      <td>0 days 00:01:18.702250</td>\n",
       "      <td>52.000000</td>\n",
       "      <td>3.000000</td>\n",
       "      <td>0 days 01:54:45.782000</td>\n",
       "      <td>0 days 01:55:03.531750</td>\n",
       "      <td>0 days 00:00:22.180750</td>\n",
       "      <td>0 days 00:00:25.170250</td>\n",
       "      <td>0 days 00:00:31.314750</td>\n",
       "      <td>0 days 02:13:24.219000</td>\n",
       "      <td>0 days 02:13:34.669500</td>\n",
       "      <td>0 days 02:14:03.920000</td>\n",
       "      <td>255.000000</td>\n",
       "      <td>280.000000</td>\n",
       "      <td>287.000000</td>\n",
       "      <td>322.000000</td>\n",
       "      <td>24.000000</td>\n",
       "      <td>0 days 02:12:48.139000</td>\n",
       "      <td>2023-06-18 19:13:48.645750016</td>\n",
       "      <td>15.000000</td>\n",
       "    </tr>\n",
       "    <tr>\n",
       "      <th>max</th>\n",
       "      <td>0 days 02:37:19.071000</td>\n",
       "      <td>0 days 00:02:29.911000</td>\n",
       "      <td>70.000000</td>\n",
       "      <td>3.000000</td>\n",
       "      <td>0 days 02:34:20.943000</td>\n",
       "      <td>0 days 02:33:57.725000</td>\n",
       "      <td>0 days 00:01:20.397000</td>\n",
       "      <td>0 days 00:00:56.572000</td>\n",
       "      <td>0 days 00:01:08.951000</td>\n",
       "      <td>0 days 02:36:23.689000</td>\n",
       "      <td>0 days 02:36:48.218000</td>\n",
       "      <td>0 days 02:37:19.063000</td>\n",
       "      <td>261.000000</td>\n",
       "      <td>286.000000</td>\n",
       "      <td>301.000000</td>\n",
       "      <td>343.000000</td>\n",
       "      <td>68.000000</td>\n",
       "      <td>0 days 02:36:02.292000</td>\n",
       "      <td>2023-06-18 19:37:02.298000</td>\n",
       "      <td>20.000000</td>\n",
       "    </tr>\n",
       "    <tr>\n",
       "      <th>std</th>\n",
       "      <td>0 days 00:27:12.896855144</td>\n",
       "      <td>0 days 00:00:11.742784522</td>\n",
       "      <td>20.119453</td>\n",
       "      <td>0.772154</td>\n",
       "      <td>0 days 00:22:18.985400350</td>\n",
       "      <td>0 days 00:22:52.970680504</td>\n",
       "      <td>0 days 00:00:03.322218430</td>\n",
       "      <td>0 days 00:00:04.578087144</td>\n",
       "      <td>0 days 00:00:05.601986570</td>\n",
       "      <td>0 days 00:26:50.193135522</td>\n",
       "      <td>0 days 00:27:13.851670169</td>\n",
       "      <td>0 days 00:27:12.072819317</td>\n",
       "      <td>27.477506</td>\n",
       "      <td>28.286323</td>\n",
       "      <td>18.091544</td>\n",
       "      <td>40.089124</td>\n",
       "      <td>12.273029</td>\n",
       "      <td>0 days 00:27:17.222857963</td>\n",
       "      <td>NaN</td>\n",
       "      <td>5.447349</td>\n",
       "    </tr>\n",
       "  </tbody>\n",
       "</table>\n",
       "</div>"
      ],
      "text/plain": [
       "                            Time                    LapTime    LapNumber        Stint                 PitOutTime                  PitInTime                Sector1Time                Sector2Time                Sector3Time         Sector1SessionTime         Sector2SessionTime         Sector3SessionTime      SpeedI1      SpeedI2      SpeedFL      SpeedST     TyreLife               LapStartTime                   LapStartDate     Position\n",
       "count                       1317                       1314  1317.000000  1317.000000                         33                         34                       1296                       1316                       1314                       1293                       1316                       1314  1048.000000  1316.000000  1282.000000  1316.000000  1317.000000                       1317                           1316  1316.000000\n",
       "mean   0 days 01:50:56.989881548  0 days 00:01:21.402331050    34.899772     2.079727  0 days 01:40:27.353454545  0 days 01:41:05.323088235  0 days 00:00:22.573133487  0 days 00:00:26.016532674  0 days 00:00:32.696929984  0 days 01:50:41.932526682  0 days 01:50:26.020733282  0 days 01:50:59.043652207   243.312023   270.588906   279.420437   303.231763    16.804100  0 days 01:49:35.519591495  2023-06-18 18:50:37.318670080     9.916413\n",
       "min       0 days 01:03:28.836000     0 days 00:01:14.481000     1.000000     1.000000     0 days 01:03:56.492000     0 days 01:03:32.868000     0 days 00:00:20.627000     0 days 00:00:23.762000     0 days 00:00:30.086000     0 days 01:03:50.522000     0 days 01:02:57.649000     0 days 01:03:28.914000    86.000000    56.000000   120.000000    82.000000     1.000000     0 days 01:02:05.478000     2023-06-18 18:03:05.484000     1.000000\n",
       "25%       0 days 01:28:24.901000     0 days 00:01:17.019500    17.000000     1.000000     0 days 01:18:37.570000     0 days 01:18:14.074250     0 days 00:00:21.474000     0 days 00:00:24.613750     0 days 00:00:30.862000     0 days 01:28:45.421000     0 days 01:28:42.793500     0 days 01:29:30.744000   246.000000   275.000000   278.000000   303.000000     7.000000     0 days 01:27:04.888000  2023-06-18 18:28:56.480499968     5.000000\n",
       "50%       0 days 01:51:36.175000     0 days 00:01:17.678000    35.000000     2.000000     0 days 01:48:22.976000     0 days 01:48:35.241500     0 days 00:00:21.734000     0 days 00:00:24.813000     0 days 00:00:31.082000     0 days 01:51:20.529000     0 days 01:51:08.816000     0 days 01:51:40.163000   251.000000   278.000000   281.000000   308.000000    14.000000     0 days 01:50:18.433000  2023-06-18 18:51:22.179000064    10.000000\n",
       "75%       0 days 02:14:05.045000     0 days 00:01:18.702250    52.000000     3.000000     0 days 01:54:45.782000     0 days 01:55:03.531750     0 days 00:00:22.180750     0 days 00:00:25.170250     0 days 00:00:31.314750     0 days 02:13:24.219000     0 days 02:13:34.669500     0 days 02:14:03.920000   255.000000   280.000000   287.000000   322.000000    24.000000     0 days 02:12:48.139000  2023-06-18 19:13:48.645750016    15.000000\n",
       "max       0 days 02:37:19.071000     0 days 00:02:29.911000    70.000000     3.000000     0 days 02:34:20.943000     0 days 02:33:57.725000     0 days 00:01:20.397000     0 days 00:00:56.572000     0 days 00:01:08.951000     0 days 02:36:23.689000     0 days 02:36:48.218000     0 days 02:37:19.063000   261.000000   286.000000   301.000000   343.000000    68.000000     0 days 02:36:02.292000     2023-06-18 19:37:02.298000    20.000000\n",
       "std    0 days 00:27:12.896855144  0 days 00:00:11.742784522    20.119453     0.772154  0 days 00:22:18.985400350  0 days 00:22:52.970680504  0 days 00:00:03.322218430  0 days 00:00:04.578087144  0 days 00:00:05.601986570  0 days 00:26:50.193135522  0 days 00:27:13.851670169  0 days 00:27:12.072819317    27.477506    28.286323    18.091544    40.089124    12.273029  0 days 00:27:17.222857963                            NaN     5.447349"
      ]
     },
     "metadata": {},
     "output_type": "display_data"
    }
   ],
   "source": [
    "display(session.laps.describe())"
   ]
  },
  {
   "cell_type": "code",
   "execution_count": 35,
   "id": "628bf53d-11e5-4489-abb8-e931584db163",
   "metadata": {},
   "outputs": [],
   "source": [
    "max_df = session.laps[session.laps.Driver==\"VER\"]"
   ]
  },
  {
   "cell_type": "code",
   "execution_count": 36,
   "id": "e047528f-da0d-44b7-971e-56c00412fdc9",
   "metadata": {},
   "outputs": [
    {
     "data": {
      "text/html": [
       "<div>\n",
       "<style scoped>\n",
       "    .dataframe tbody tr th:only-of-type {\n",
       "        vertical-align: middle;\n",
       "    }\n",
       "\n",
       "    .dataframe tbody tr th {\n",
       "        vertical-align: top;\n",
       "    }\n",
       "\n",
       "    .dataframe thead th {\n",
       "        text-align: right;\n",
       "    }\n",
       "</style>\n",
       "<table border=\"1\" class=\"dataframe\">\n",
       "  <thead>\n",
       "    <tr style=\"text-align: right;\">\n",
       "      <th></th>\n",
       "      <th>Time</th>\n",
       "      <th>LapTime</th>\n",
       "      <th>LapNumber</th>\n",
       "      <th>Stint</th>\n",
       "      <th>PitOutTime</th>\n",
       "      <th>PitInTime</th>\n",
       "      <th>Sector1Time</th>\n",
       "      <th>Sector2Time</th>\n",
       "      <th>Sector3Time</th>\n",
       "      <th>Sector1SessionTime</th>\n",
       "      <th>Sector2SessionTime</th>\n",
       "      <th>Sector3SessionTime</th>\n",
       "      <th>SpeedI1</th>\n",
       "      <th>SpeedI2</th>\n",
       "      <th>SpeedFL</th>\n",
       "      <th>SpeedST</th>\n",
       "      <th>TyreLife</th>\n",
       "      <th>LapStartTime</th>\n",
       "      <th>LapStartDate</th>\n",
       "      <th>Position</th>\n",
       "    </tr>\n",
       "  </thead>\n",
       "  <tbody>\n",
       "    <tr>\n",
       "      <th>count</th>\n",
       "      <td>70</td>\n",
       "      <td>70</td>\n",
       "      <td>70.000000</td>\n",
       "      <td>70.000000</td>\n",
       "      <td>2</td>\n",
       "      <td>2</td>\n",
       "      <td>69</td>\n",
       "      <td>70</td>\n",
       "      <td>70</td>\n",
       "      <td>69</td>\n",
       "      <td>70</td>\n",
       "      <td>70</td>\n",
       "      <td>50.000000</td>\n",
       "      <td>70.000000</td>\n",
       "      <td>68.000000</td>\n",
       "      <td>70.000000</td>\n",
       "      <td>70.000000</td>\n",
       "      <td>70</td>\n",
       "      <td>70</td>\n",
       "      <td>70.0</td>\n",
       "    </tr>\n",
       "    <tr>\n",
       "      <th>mean</th>\n",
       "      <td>0 days 01:51:13.195471428</td>\n",
       "      <td>0 days 00:01:20.547828571</td>\n",
       "      <td>35.500000</td>\n",
       "      <td>2.228571</td>\n",
       "      <td>0 days 01:39:24.431000</td>\n",
       "      <td>0 days 01:39:00.642500</td>\n",
       "      <td>0 days 00:00:22.212246376</td>\n",
       "      <td>0 days 00:00:25.755442857</td>\n",
       "      <td>0 days 00:00:32.515771428</td>\n",
       "      <td>0 days 01:50:56.409043478</td>\n",
       "      <td>0 days 01:50:40.680700</td>\n",
       "      <td>0 days 01:51:13.196585714</td>\n",
       "      <td>238.740000</td>\n",
       "      <td>265.957143</td>\n",
       "      <td>274.602941</td>\n",
       "      <td>295.514286</td>\n",
       "      <td>13.557143</td>\n",
       "      <td>0 days 01:49:52.643671428</td>\n",
       "      <td>2023-06-18 18:50:52.649671424</td>\n",
       "      <td>1.0</td>\n",
       "    </tr>\n",
       "    <tr>\n",
       "      <th>min</th>\n",
       "      <td>0 days 01:03:28.836000</td>\n",
       "      <td>0 days 00:01:15.594000</td>\n",
       "      <td>1.000000</td>\n",
       "      <td>1.000000</td>\n",
       "      <td>0 days 01:18:13.899000</td>\n",
       "      <td>0 days 01:17:50.274000</td>\n",
       "      <td>0 days 00:00:20.979000</td>\n",
       "      <td>0 days 00:00:24.048000</td>\n",
       "      <td>0 days 00:00:30.128000</td>\n",
       "      <td>0 days 01:03:50.522000</td>\n",
       "      <td>0 days 01:02:57.649000</td>\n",
       "      <td>0 days 01:03:28.914000</td>\n",
       "      <td>89.000000</td>\n",
       "      <td>113.000000</td>\n",
       "      <td>161.000000</td>\n",
       "      <td>93.000000</td>\n",
       "      <td>1.000000</td>\n",
       "      <td>0 days 01:02:05.478000</td>\n",
       "      <td>2023-06-18 18:03:05.484000</td>\n",
       "      <td>1.0</td>\n",
       "    </tr>\n",
       "    <tr>\n",
       "      <th>25%</th>\n",
       "      <td>0 days 01:29:49.509500</td>\n",
       "      <td>0 days 00:01:16.094750</td>\n",
       "      <td>18.250000</td>\n",
       "      <td>2.000000</td>\n",
       "      <td>0 days 01:28:49.165000</td>\n",
       "      <td>0 days 01:28:25.458250</td>\n",
       "      <td>0 days 00:00:21.164000</td>\n",
       "      <td>0 days 00:00:24.266750</td>\n",
       "      <td>0 days 00:00:30.642750</td>\n",
       "      <td>0 days 01:29:51.590000</td>\n",
       "      <td>0 days 01:29:18.593000</td>\n",
       "      <td>0 days 01:29:49.509500</td>\n",
       "      <td>244.000000</td>\n",
       "      <td>270.250000</td>\n",
       "      <td>276.000000</td>\n",
       "      <td>301.250000</td>\n",
       "      <td>6.250000</td>\n",
       "      <td>0 days 01:28:32.840500</td>\n",
       "      <td>2023-06-18 18:29:32.846500096</td>\n",
       "      <td>1.0</td>\n",
       "    </tr>\n",
       "    <tr>\n",
       "      <th>50%</th>\n",
       "      <td>0 days 01:51:55.466500</td>\n",
       "      <td>0 days 00:01:16.796000</td>\n",
       "      <td>35.500000</td>\n",
       "      <td>2.000000</td>\n",
       "      <td>0 days 01:39:24.431000</td>\n",
       "      <td>0 days 01:39:00.642500</td>\n",
       "      <td>0 days 00:00:21.296000</td>\n",
       "      <td>0 days 00:00:24.515000</td>\n",
       "      <td>0 days 00:00:30.926000</td>\n",
       "      <td>0 days 01:51:38.644000</td>\n",
       "      <td>0 days 01:51:24.404000</td>\n",
       "      <td>0 days 01:51:55.466500</td>\n",
       "      <td>251.000000</td>\n",
       "      <td>273.000000</td>\n",
       "      <td>278.000000</td>\n",
       "      <td>302.000000</td>\n",
       "      <td>12.000000</td>\n",
       "      <td>0 days 01:50:37.971500</td>\n",
       "      <td>2023-06-18 18:51:37.977500160</td>\n",
       "      <td>1.0</td>\n",
       "    </tr>\n",
       "    <tr>\n",
       "      <th>75%</th>\n",
       "      <td>0 days 02:14:13.934500</td>\n",
       "      <td>0 days 00:01:17.337500</td>\n",
       "      <td>52.750000</td>\n",
       "      <td>3.000000</td>\n",
       "      <td>0 days 01:49:59.697000</td>\n",
       "      <td>0 days 01:49:35.826750</td>\n",
       "      <td>0 days 00:00:21.532000</td>\n",
       "      <td>0 days 00:00:24.699500</td>\n",
       "      <td>0 days 00:00:31.065750</td>\n",
       "      <td>0 days 02:13:38.215000</td>\n",
       "      <td>0 days 02:13:43.373000</td>\n",
       "      <td>0 days 02:14:13.934500</td>\n",
       "      <td>254.750000</td>\n",
       "      <td>276.000000</td>\n",
       "      <td>280.000000</td>\n",
       "      <td>304.000000</td>\n",
       "      <td>20.750000</td>\n",
       "      <td>0 days 02:12:58.138250</td>\n",
       "      <td>2023-06-18 19:13:58.144249856</td>\n",
       "      <td>1.0</td>\n",
       "    </tr>\n",
       "    <tr>\n",
       "      <th>max</th>\n",
       "      <td>0 days 02:36:04.104000</td>\n",
       "      <td>0 days 00:02:29.911000</td>\n",
       "      <td>70.000000</td>\n",
       "      <td>3.000000</td>\n",
       "      <td>0 days 02:00:34.963000</td>\n",
       "      <td>0 days 02:00:11.011000</td>\n",
       "      <td>0 days 00:00:42.511000</td>\n",
       "      <td>0 days 00:00:56.572000</td>\n",
       "      <td>0 days 00:01:08.951000</td>\n",
       "      <td>0 days 02:35:09.041000</td>\n",
       "      <td>0 days 02:35:33.296000</td>\n",
       "      <td>0 days 02:36:04.104000</td>\n",
       "      <td>258.000000</td>\n",
       "      <td>280.000000</td>\n",
       "      <td>294.000000</td>\n",
       "      <td>330.000000</td>\n",
       "      <td>30.000000</td>\n",
       "      <td>0 days 02:34:47.867000</td>\n",
       "      <td>2023-06-18 19:35:47.873000</td>\n",
       "      <td>1.0</td>\n",
       "    </tr>\n",
       "    <tr>\n",
       "      <th>std</th>\n",
       "      <td>0 days 00:27:13.523481915</td>\n",
       "      <td>0 days 00:00:13.365244783</td>\n",
       "      <td>20.351085</td>\n",
       "      <td>0.725747</td>\n",
       "      <td>0 days 00:29:56.803585829</td>\n",
       "      <td>0 days 00:29:56.572361911</td>\n",
       "      <td>0 days 00:00:03.415456874</td>\n",
       "      <td>0 days 00:00:05.166525215</td>\n",
       "      <td>0 days 00:00:06.042112422</td>\n",
       "      <td>0 days 00:26:51.210918105</td>\n",
       "      <td>0 days 00:27:15.123165800</td>\n",
       "      <td>0 days 00:27:13.521499740</td>\n",
       "      <td>35.457828</td>\n",
       "      <td>29.729425</td>\n",
       "      <td>18.935980</td>\n",
       "      <td>36.489722</td>\n",
       "      <td>8.472694</td>\n",
       "      <td>0 days 00:27:17.926299240</td>\n",
       "      <td>NaN</td>\n",
       "      <td>0.0</td>\n",
       "    </tr>\n",
       "  </tbody>\n",
       "</table>\n",
       "</div>"
      ],
      "text/plain": [
       "                            Time                    LapTime  LapNumber      Stint                 PitOutTime                  PitInTime                Sector1Time                Sector2Time                Sector3Time         Sector1SessionTime         Sector2SessionTime         Sector3SessionTime     SpeedI1     SpeedI2     SpeedFL     SpeedST   TyreLife               LapStartTime                   LapStartDate  Position\n",
       "count                         70                         70  70.000000  70.000000                          2                          2                         69                         70                         70                         69                         70                         70   50.000000   70.000000   68.000000   70.000000  70.000000                         70                             70      70.0\n",
       "mean   0 days 01:51:13.195471428  0 days 00:01:20.547828571  35.500000   2.228571     0 days 01:39:24.431000     0 days 01:39:00.642500  0 days 00:00:22.212246376  0 days 00:00:25.755442857  0 days 00:00:32.515771428  0 days 01:50:56.409043478     0 days 01:50:40.680700  0 days 01:51:13.196585714  238.740000  265.957143  274.602941  295.514286  13.557143  0 days 01:49:52.643671428  2023-06-18 18:50:52.649671424       1.0\n",
       "min       0 days 01:03:28.836000     0 days 00:01:15.594000   1.000000   1.000000     0 days 01:18:13.899000     0 days 01:17:50.274000     0 days 00:00:20.979000     0 days 00:00:24.048000     0 days 00:00:30.128000     0 days 01:03:50.522000     0 days 01:02:57.649000     0 days 01:03:28.914000   89.000000  113.000000  161.000000   93.000000   1.000000     0 days 01:02:05.478000     2023-06-18 18:03:05.484000       1.0\n",
       "25%       0 days 01:29:49.509500     0 days 00:01:16.094750  18.250000   2.000000     0 days 01:28:49.165000     0 days 01:28:25.458250     0 days 00:00:21.164000     0 days 00:00:24.266750     0 days 00:00:30.642750     0 days 01:29:51.590000     0 days 01:29:18.593000     0 days 01:29:49.509500  244.000000  270.250000  276.000000  301.250000   6.250000     0 days 01:28:32.840500  2023-06-18 18:29:32.846500096       1.0\n",
       "50%       0 days 01:51:55.466500     0 days 00:01:16.796000  35.500000   2.000000     0 days 01:39:24.431000     0 days 01:39:00.642500     0 days 00:00:21.296000     0 days 00:00:24.515000     0 days 00:00:30.926000     0 days 01:51:38.644000     0 days 01:51:24.404000     0 days 01:51:55.466500  251.000000  273.000000  278.000000  302.000000  12.000000     0 days 01:50:37.971500  2023-06-18 18:51:37.977500160       1.0\n",
       "75%       0 days 02:14:13.934500     0 days 00:01:17.337500  52.750000   3.000000     0 days 01:49:59.697000     0 days 01:49:35.826750     0 days 00:00:21.532000     0 days 00:00:24.699500     0 days 00:00:31.065750     0 days 02:13:38.215000     0 days 02:13:43.373000     0 days 02:14:13.934500  254.750000  276.000000  280.000000  304.000000  20.750000     0 days 02:12:58.138250  2023-06-18 19:13:58.144249856       1.0\n",
       "max       0 days 02:36:04.104000     0 days 00:02:29.911000  70.000000   3.000000     0 days 02:00:34.963000     0 days 02:00:11.011000     0 days 00:00:42.511000     0 days 00:00:56.572000     0 days 00:01:08.951000     0 days 02:35:09.041000     0 days 02:35:33.296000     0 days 02:36:04.104000  258.000000  280.000000  294.000000  330.000000  30.000000     0 days 02:34:47.867000     2023-06-18 19:35:47.873000       1.0\n",
       "std    0 days 00:27:13.523481915  0 days 00:00:13.365244783  20.351085   0.725747  0 days 00:29:56.803585829  0 days 00:29:56.572361911  0 days 00:00:03.415456874  0 days 00:00:05.166525215  0 days 00:00:06.042112422  0 days 00:26:51.210918105  0 days 00:27:15.123165800  0 days 00:27:13.521499740   35.457828   29.729425   18.935980   36.489722   8.472694  0 days 00:27:17.926299240                            NaN       0.0"
      ]
     },
     "execution_count": 36,
     "metadata": {},
     "output_type": "execute_result"
    }
   ],
   "source": [
    "max_df.describe()"
   ]
  },
  {
   "cell_type": "code",
   "execution_count": 33,
   "id": "0ca25cf6-18a3-4f4d-bd7e-71a659571967",
   "metadata": {},
   "outputs": [
    {
     "data": {
      "image/png": "[encoded data removed]",
      "text/plain": [
       "<Figure size 1200x800 with 9 Axes>"
      ]
     },
     "metadata": {},
     "output_type": "display_data"
    }
   ],
   "source": [
    "import matplotlib.pyplot as plt\n",
    "\n",
    "# extra code – the next 5 lines define the default font sizes\n",
    "plt.rc('font', size=14)\n",
    "plt.rc('axes', labelsize=14, titlesize=14)\n",
    "plt.rc('legend', fontsize=14)\n",
    "plt.rc('xtick', labelsize=10)\n",
    "plt.rc('ytick', labelsize=10)\n",
    "\n",
    "max_df.hist(bins=10, figsize=(12, 8))\n",
    "# save_fig(\"attribute_histogram_plots\")  # extra code\n",
    "plt.show()"
   ]
  },
  {
   "cell_type": "code",
   "execution_count": 38,
   "id": "dfd8db33-b2c8-4e38-bae4-a9547a6af769",
   "metadata": {},
   "outputs": [
    {
     "name": "stdout",
     "output_type": "stream",
     "text": [
      "<class 'fastf1.core.Laps'>\n",
      "Index: 70 entries, 0 to 69\n",
      "Data columns (total 31 columns):\n",
      " #   Column              Non-Null Count  Dtype          \n",
      "---  ------              --------------  -----          \n",
      " 0   Time                70 non-null     timedelta64[ns]\n",
      " 1   Driver              70 non-null     object         \n",
      " 2   DriverNumber        70 non-null     object         \n",
      " 3   LapTime             70 non-null     timedelta64[ns]\n",
      " 4   LapNumber           70 non-null     float64        \n",
      " 5   Stint               70 non-null     float64        \n",
      " 6   PitOutTime          2 non-null      timedelta64[ns]\n",
      " 7   PitInTime           2 non-null      timedelta64[ns]\n",
      " 8   Sector1Time         69 non-null     timedelta64[ns]\n",
      " 9   Sector2Time         70 non-null     timedelta64[ns]\n",
      " 10  Sector3Time         70 non-null     timedelta64[ns]\n",
      " 11  Sector1SessionTime  69 non-null     timedelta64[ns]\n",
      " 12  Sector2SessionTime  70 non-null     timedelta64[ns]\n",
      " 13  Sector3SessionTime  70 non-null     timedelta64[ns]\n",
      " 14  SpeedI1             50 non-null     float64        \n",
      " 15  SpeedI2             70 non-null     float64        \n",
      " 16  SpeedFL             68 non-null     float64        \n",
      " 17  SpeedST             70 non-null     float64        \n",
      " 18  IsPersonalBest      70 non-null     object         \n",
      " 19  Compound            70 non-null     object         \n",
      " 20  TyreLife            70 non-null     float64        \n",
      " 21  FreshTyre           70 non-null     bool           \n",
      " 22  Team                70 non-null     object         \n",
      " 23  LapStartTime        70 non-null     timedelta64[ns]\n",
      " 24  LapStartDate        70 non-null     datetime64[ns] \n",
      " 25  TrackStatus         70 non-null     object         \n",
      " 26  Position            70 non-null     float64        \n",
      " 27  Deleted             70 non-null     bool           \n",
      " 28  DeletedReason       70 non-null     object         \n",
      " 29  FastF1Generated     70 non-null     bool           \n",
      " 30  IsAccurate          70 non-null     bool           \n",
      "dtypes: bool(4), datetime64[ns](1), float64(8), object(7), timedelta64[ns](11)\n",
      "memory usage: 15.6+ KB\n"
     ]
    }
   ],
   "source": [
    "session.laps.pick_driver(\"VER\").info()"
   ]
  },
  {
   "cell_type": "code",
   "execution_count": 39,
   "id": "1b3c01ad-07ec-4f9f-840b-96e37d7ac0de",
   "metadata": {},
   "outputs": [
    {
     "name": "stdout",
     "output_type": "stream",
     "text": [
      "<class 'fastf1.core.Laps'>\n",
      "Index: 2 entries, 0 to 69\n",
      "Data columns (total 31 columns):\n",
      " #   Column              Non-Null Count  Dtype          \n",
      "---  ------              --------------  -----          \n",
      " 0   Time                2 non-null      timedelta64[ns]\n",
      " 1   Driver              2 non-null      object         \n",
      " 2   DriverNumber        2 non-null      object         \n",
      " 3   LapTime             2 non-null      timedelta64[ns]\n",
      " 4   LapNumber           2 non-null      float64        \n",
      " 5   Stint               2 non-null      float64        \n",
      " 6   PitOutTime          0 non-null      timedelta64[ns]\n",
      " 7   PitInTime           0 non-null      timedelta64[ns]\n",
      " 8   Sector1Time         1 non-null      timedelta64[ns]\n",
      " 9   Sector2Time         2 non-null      timedelta64[ns]\n",
      " 10  Sector3Time         2 non-null      timedelta64[ns]\n",
      " 11  Sector1SessionTime  1 non-null      timedelta64[ns]\n",
      " 12  Sector2SessionTime  2 non-null      timedelta64[ns]\n",
      " 13  Sector3SessionTime  2 non-null      timedelta64[ns]\n",
      " 14  SpeedI1             2 non-null      float64        \n",
      " 15  SpeedI2             2 non-null      float64        \n",
      " 16  SpeedFL             2 non-null      float64        \n",
      " 17  SpeedST             2 non-null      float64        \n",
      " 18  IsPersonalBest      2 non-null      object         \n",
      " 19  Compound            2 non-null      object         \n",
      " 20  TyreLife            2 non-null      float64        \n",
      " 21  FreshTyre           2 non-null      bool           \n",
      " 22  Team                2 non-null      object         \n",
      " 23  LapStartTime        2 non-null      timedelta64[ns]\n",
      " 24  LapStartDate        2 non-null      datetime64[ns] \n",
      " 25  TrackStatus         2 non-null      object         \n",
      " 26  Position            2 non-null      float64        \n",
      " 27  Deleted             2 non-null      bool           \n",
      " 28  DeletedReason       2 non-null      object         \n",
      " 29  FastF1Generated     2 non-null      bool           \n",
      " 30  IsAccurate          2 non-null      bool           \n",
      "dtypes: bool(4), datetime64[ns](1), float64(8), object(7), timedelta64[ns](11)\n",
      "memory usage: 456.0+ bytes\n"
     ]
    }
   ],
   "source": [
    "session.laps.pick_driver(\"VER\").pick_laps([1,70]).info()"
   ]
  },
  {
   "cell_type": "code",
   "execution_count": 44,
   "id": "def6e866-5ffa-4691-8937-91334eb2e694",
   "metadata": {},
   "outputs": [],
   "source": [
    "max_1_car = session.laps.pick_driver(\"VER\").pick_laps([1]).get_car_data()"
   ]
  },
  {
   "cell_type": "code",
   "execution_count": 47,
   "id": "c8155506-2294-4a7b-922b-ef49ff926034",
   "metadata": {},
   "outputs": [
    {
     "data": {
      "text/html": [
       "<div>\n",
       "<style scoped>\n",
       "    .dataframe tbody tr th:only-of-type {\n",
       "        vertical-align: middle;\n",
       "    }\n",
       "\n",
       "    .dataframe tbody tr th {\n",
       "        vertical-align: top;\n",
       "    }\n",
       "\n",
       "    .dataframe thead th {\n",
       "        text-align: right;\n",
       "    }\n",
       "</style>\n",
       "<table border=\"1\" class=\"dataframe\">\n",
       "  <thead>\n",
       "    <tr style=\"text-align: right;\">\n",
       "      <th></th>\n",
       "      <th>Date</th>\n",
       "      <th>RPM</th>\n",
       "      <th>Speed</th>\n",
       "      <th>nGear</th>\n",
       "      <th>Throttle</th>\n",
       "      <th>DRS</th>\n",
       "      <th>Time</th>\n",
       "      <th>SessionTime</th>\n",
       "    </tr>\n",
       "  </thead>\n",
       "  <tbody>\n",
       "    <tr>\n",
       "      <th>count</th>\n",
       "      <td>323</td>\n",
       "      <td>323.000000</td>\n",
       "      <td>323.000000</td>\n",
       "      <td>323.000000</td>\n",
       "      <td>323.000000</td>\n",
       "      <td>323.0</td>\n",
       "      <td>323</td>\n",
       "      <td>323</td>\n",
       "    </tr>\n",
       "    <tr>\n",
       "      <th>mean</th>\n",
       "      <td>2023-06-18 18:03:47.318690304</td>\n",
       "      <td>9881.489164</td>\n",
       "      <td>188.402477</td>\n",
       "      <td>4.733746</td>\n",
       "      <td>66.501548</td>\n",
       "      <td>1.0</td>\n",
       "      <td>0 days 00:00:41.834690402</td>\n",
       "      <td>0 days 01:02:47.312690402</td>\n",
       "    </tr>\n",
       "    <tr>\n",
       "      <th>min</th>\n",
       "      <td>2023-06-18 18:03:05.824000</td>\n",
       "      <td>4203.000000</td>\n",
       "      <td>0.000000</td>\n",
       "      <td>1.000000</td>\n",
       "      <td>0.000000</td>\n",
       "      <td>1.0</td>\n",
       "      <td>0 days 00:00:00.340000</td>\n",
       "      <td>0 days 01:02:05.818000</td>\n",
       "    </tr>\n",
       "    <tr>\n",
       "      <th>25%</th>\n",
       "      <td>2023-06-18 18:03:26.344000</td>\n",
       "      <td>8924.500000</td>\n",
       "      <td>129.000000</td>\n",
       "      <td>3.000000</td>\n",
       "      <td>16.000000</td>\n",
       "      <td>1.0</td>\n",
       "      <td>0 days 00:00:20.860000</td>\n",
       "      <td>0 days 01:02:26.338000</td>\n",
       "    </tr>\n",
       "    <tr>\n",
       "      <th>50%</th>\n",
       "      <td>2023-06-18 18:03:47.024000</td>\n",
       "      <td>10557.000000</td>\n",
       "      <td>195.000000</td>\n",
       "      <td>5.000000</td>\n",
       "      <td>100.000000</td>\n",
       "      <td>1.0</td>\n",
       "      <td>0 days 00:00:41.540000</td>\n",
       "      <td>0 days 01:02:47.018000</td>\n",
       "    </tr>\n",
       "    <tr>\n",
       "      <th>75%</th>\n",
       "      <td>2023-06-18 18:04:07.864000</td>\n",
       "      <td>11072.000000</td>\n",
       "      <td>253.500000</td>\n",
       "      <td>6.000000</td>\n",
       "      <td>100.000000</td>\n",
       "      <td>1.0</td>\n",
       "      <td>0 days 00:01:02.380000</td>\n",
       "      <td>0 days 01:03:07.858000</td>\n",
       "    </tr>\n",
       "    <tr>\n",
       "      <th>max</th>\n",
       "      <td>2023-06-18 18:04:28.824000</td>\n",
       "      <td>11871.000000</td>\n",
       "      <td>301.000000</td>\n",
       "      <td>8.000000</td>\n",
       "      <td>100.000000</td>\n",
       "      <td>1.0</td>\n",
       "      <td>0 days 00:01:23.340000</td>\n",
       "      <td>0 days 01:03:28.818000</td>\n",
       "    </tr>\n",
       "    <tr>\n",
       "      <th>std</th>\n",
       "      <td>NaN</td>\n",
       "      <td>1622.409822</td>\n",
       "      <td>72.109813</td>\n",
       "      <td>1.885794</td>\n",
       "      <td>42.699177</td>\n",
       "      <td>0.0</td>\n",
       "      <td>0 days 00:00:24.153435958</td>\n",
       "      <td>0 days 00:00:24.153435958</td>\n",
       "    </tr>\n",
       "  </tbody>\n",
       "</table>\n",
       "</div>"
      ],
      "text/plain": [
       "                                Date           RPM       Speed       nGear    Throttle    DRS                       Time                SessionTime\n",
       "count                            323    323.000000  323.000000  323.000000  323.000000  323.0                        323                        323\n",
       "mean   2023-06-18 18:03:47.318690304   9881.489164  188.402477    4.733746   66.501548    1.0  0 days 00:00:41.834690402  0 days 01:02:47.312690402\n",
       "min       2023-06-18 18:03:05.824000   4203.000000    0.000000    1.000000    0.000000    1.0     0 days 00:00:00.340000     0 days 01:02:05.818000\n",
       "25%       2023-06-18 18:03:26.344000   8924.500000  129.000000    3.000000   16.000000    1.0     0 days 00:00:20.860000     0 days 01:02:26.338000\n",
       "50%       2023-06-18 18:03:47.024000  10557.000000  195.000000    5.000000  100.000000    1.0     0 days 00:00:41.540000     0 days 01:02:47.018000\n",
       "75%       2023-06-18 18:04:07.864000  11072.000000  253.500000    6.000000  100.000000    1.0     0 days 00:01:02.380000     0 days 01:03:07.858000\n",
       "max       2023-06-18 18:04:28.824000  11871.000000  301.000000    8.000000  100.000000    1.0     0 days 00:01:23.340000     0 days 01:03:28.818000\n",
       "std                              NaN   1622.409822   72.109813    1.885794   42.699177    0.0  0 days 00:00:24.153435958  0 days 00:00:24.153435958"
      ]
     },
     "execution_count": 47,
     "metadata": {},
     "output_type": "execute_result"
    }
   ],
   "source": [
    "max_1_car.describe()"
   ]
  },
  {
   "cell_type": "code",
   "execution_count": 52,
   "id": "a3c013fd-b407-4911-8fff-a3e195695068",
   "metadata": {},
   "outputs": [
    {
     "data": {
      "text/html": [
       "<div>\n",
       "<style scoped>\n",
       "    .dataframe tbody tr th:only-of-type {\n",
       "        vertical-align: middle;\n",
       "    }\n",
       "\n",
       "    .dataframe tbody tr th {\n",
       "        vertical-align: top;\n",
       "    }\n",
       "\n",
       "    .dataframe thead th {\n",
       "        text-align: right;\n",
       "    }\n",
       "</style>\n",
       "<table border=\"1\" class=\"dataframe\">\n",
       "  <thead>\n",
       "    <tr style=\"text-align: right;\">\n",
       "      <th></th>\n",
       "      <th>X</th>\n",
       "      <th>Y</th>\n",
       "      <th>Number</th>\n",
       "      <th>Letter</th>\n",
       "      <th>Angle</th>\n",
       "      <th>Distance</th>\n",
       "    </tr>\n",
       "  </thead>\n",
       "  <tbody>\n",
       "    <tr>\n",
       "      <th>0</th>\n",
       "      <td>3314.213623</td>\n",
       "      <td>-1317.854858</td>\n",
       "      <td>1</td>\n",
       "      <td></td>\n",
       "      <td>-165.704223</td>\n",
       "      <td>225.743213</td>\n",
       "    </tr>\n",
       "    <tr>\n",
       "      <th>1</th>\n",
       "      <td>3856.566650</td>\n",
       "      <td>-2073.488770</td>\n",
       "      <td>2</td>\n",
       "      <td></td>\n",
       "      <td>-22.292629</td>\n",
       "      <td>320.624280</td>\n",
       "    </tr>\n",
       "    <tr>\n",
       "      <th>2</th>\n",
       "      <td>740.000488</td>\n",
       "      <td>-608.991943</td>\n",
       "      <td>3</td>\n",
       "      <td></td>\n",
       "      <td>-158.882111</td>\n",
       "      <td>693.206801</td>\n",
       "    </tr>\n",
       "    <tr>\n",
       "      <th>3</th>\n",
       "      <td>746.362305</td>\n",
       "      <td>-42.993057</td>\n",
       "      <td>4</td>\n",
       "      <td></td>\n",
       "      <td>10.981968</td>\n",
       "      <td>750.568160</td>\n",
       "    </tr>\n",
       "    <tr>\n",
       "      <th>4</th>\n",
       "      <td>-724.044739</td>\n",
       "      <td>1618.967407</td>\n",
       "      <td>5</td>\n",
       "      <td></td>\n",
       "      <td>29.699708</td>\n",
       "      <td>967.507804</td>\n",
       "    </tr>\n",
       "    <tr>\n",
       "      <th>5</th>\n",
       "      <td>-993.916626</td>\n",
       "      <td>3790.888672</td>\n",
       "      <td>6</td>\n",
       "      <td></td>\n",
       "      <td>27.681895</td>\n",
       "      <td>1198.245481</td>\n",
       "    </tr>\n",
       "    <tr>\n",
       "      <th>6</th>\n",
       "      <td>-1783.871460</td>\n",
       "      <td>4016.300781</td>\n",
       "      <td>7</td>\n",
       "      <td></td>\n",
       "      <td>-117.805015</td>\n",
       "      <td>1292.609426</td>\n",
       "    </tr>\n",
       "    <tr>\n",
       "      <th>7</th>\n",
       "      <td>-1785.440430</td>\n",
       "      <td>10539.706055</td>\n",
       "      <td>8</td>\n",
       "      <td></td>\n",
       "      <td>118.593733</td>\n",
       "      <td>1972.048065</td>\n",
       "    </tr>\n",
       "    <tr>\n",
       "      <th>8</th>\n",
       "      <td>-1140.291992</td>\n",
       "      <td>10976.314453</td>\n",
       "      <td>9</td>\n",
       "      <td></td>\n",
       "      <td>-28.305198</td>\n",
       "      <td>2047.220648</td>\n",
       "    </tr>\n",
       "    <tr>\n",
       "      <th>9</th>\n",
       "      <td>-711.505371</td>\n",
       "      <td>16759.564453</td>\n",
       "      <td>10</td>\n",
       "      <td></td>\n",
       "      <td>97.796495</td>\n",
       "      <td>2643.216507</td>\n",
       "    </tr>\n",
       "    <tr>\n",
       "      <th>10</th>\n",
       "      <td>-374.826996</td>\n",
       "      <td>15840.400391</td>\n",
       "      <td>11</td>\n",
       "      <td></td>\n",
       "      <td>9.367721</td>\n",
       "      <td>2760.992288</td>\n",
       "    </tr>\n",
       "    <tr>\n",
       "      <th>11</th>\n",
       "      <td>975.872559</td>\n",
       "      <td>12421.172852</td>\n",
       "      <td>12</td>\n",
       "      <td></td>\n",
       "      <td>-161.170043</td>\n",
       "      <td>3122.761479</td>\n",
       "    </tr>\n",
       "    <tr>\n",
       "      <th>12</th>\n",
       "      <td>2586.933350</td>\n",
       "      <td>5440.833008</td>\n",
       "      <td>13</td>\n",
       "      <td></td>\n",
       "      <td>-21.168127</td>\n",
       "      <td>3823.680949</td>\n",
       "    </tr>\n",
       "    <tr>\n",
       "      <th>13</th>\n",
       "      <td>2435.436279</td>\n",
       "      <td>5153.829590</td>\n",
       "      <td>14</td>\n",
       "      <td></td>\n",
       "      <td>157.077799</td>\n",
       "      <td>3860.454930</td>\n",
       "    </tr>\n",
       "  </tbody>\n",
       "</table>\n",
       "</div>"
      ],
      "text/plain": [
       "              X             Y  Number Letter       Angle     Distance\n",
       "0   3314.213623  -1317.854858       1        -165.704223   225.743213\n",
       "1   3856.566650  -2073.488770       2         -22.292629   320.624280\n",
       "2    740.000488   -608.991943       3        -158.882111   693.206801\n",
       "3    746.362305    -42.993057       4          10.981968   750.568160\n",
       "4   -724.044739   1618.967407       5          29.699708   967.507804\n",
       "5   -993.916626   3790.888672       6          27.681895  1198.245481\n",
       "6  -1783.871460   4016.300781       7        -117.805015  1292.609426\n",
       "7  -1785.440430  10539.706055       8         118.593733  1972.048065\n",
       "8  -1140.291992  10976.314453       9         -28.305198  2047.220648\n",
       "9   -711.505371  16759.564453      10          97.796495  2643.216507\n",
       "10  -374.826996  15840.400391      11           9.367721  2760.992288\n",
       "11   975.872559  12421.172852      12        -161.170043  3122.761479\n",
       "12  2586.933350   5440.833008      13         -21.168127  3823.680949\n",
       "13  2435.436279   5153.829590      14         157.077799  3860.454930"
      ]
     },
     "execution_count": 52,
     "metadata": {},
     "output_type": "execute_result"
    }
   ],
   "source": [
    "circuit_corners = session.get_circuit_info().corners\n",
    "circuit_corners"
   ]
  },
  {
   "cell_type": "code",
   "execution_count": 54,
   "id": "f45c43c8-0af9-4d0f-9934-ac0401858d53",
   "metadata": {},
   "outputs": [
    {
     "data": {
      "text/html": [
       "<div>\n",
       "<style scoped>\n",
       "    .dataframe tbody tr th:only-of-type {\n",
       "        vertical-align: middle;\n",
       "    }\n",
       "\n",
       "    .dataframe tbody tr th {\n",
       "        vertical-align: top;\n",
       "    }\n",
       "\n",
       "    .dataframe thead th {\n",
       "        text-align: right;\n",
       "    }\n",
       "</style>\n",
       "<table border=\"1\" class=\"dataframe\">\n",
       "  <thead>\n",
       "    <tr style=\"text-align: right;\">\n",
       "      <th></th>\n",
       "      <th>X</th>\n",
       "      <th>Y</th>\n",
       "      <th>Number</th>\n",
       "      <th>Letter</th>\n",
       "      <th>Angle</th>\n",
       "      <th>Distance</th>\n",
       "    </tr>\n",
       "  </thead>\n",
       "  <tbody>\n",
       "    <tr>\n",
       "      <th>0</th>\n",
       "      <td>3353.000000</td>\n",
       "      <td>920.000000</td>\n",
       "      <td>1</td>\n",
       "      <td></td>\n",
       "      <td>12.894578</td>\n",
       "      <td>0.682865</td>\n",
       "    </tr>\n",
       "    <tr>\n",
       "      <th>1</th>\n",
       "      <td>3498.902832</td>\n",
       "      <td>-2272.346680</td>\n",
       "      <td>2</td>\n",
       "      <td></td>\n",
       "      <td>-88.329898</td>\n",
       "      <td>365.720691</td>\n",
       "    </tr>\n",
       "    <tr>\n",
       "      <th>2</th>\n",
       "      <td>1662.266968</td>\n",
       "      <td>-1507.206299</td>\n",
       "      <td>3</td>\n",
       "      <td></td>\n",
       "      <td>-128.275662</td>\n",
       "      <td>576.909088</td>\n",
       "    </tr>\n",
       "    <tr>\n",
       "      <th>3</th>\n",
       "      <td>677.248352</td>\n",
       "      <td>125.601845</td>\n",
       "      <td>4</td>\n",
       "      <td></td>\n",
       "      <td>28.002159</td>\n",
       "      <td>769.287581</td>\n",
       "    </tr>\n",
       "    <tr>\n",
       "      <th>4</th>\n",
       "      <td>-774.033936</td>\n",
       "      <td>1715.084595</td>\n",
       "      <td>5</td>\n",
       "      <td></td>\n",
       "      <td>-158.158475</td>\n",
       "      <td>988.521463</td>\n",
       "    </tr>\n",
       "    <tr>\n",
       "      <th>5</th>\n",
       "      <td>-924.534241</td>\n",
       "      <td>3112.103760</td>\n",
       "      <td>6</td>\n",
       "      <td></td>\n",
       "      <td>-3.283047</td>\n",
       "      <td>1137.921266</td>\n",
       "    </tr>\n",
       "    <tr>\n",
       "      <th>6</th>\n",
       "      <td>-2157.230957</td>\n",
       "      <td>4442.897949</td>\n",
       "      <td>7</td>\n",
       "      <td></td>\n",
       "      <td>-157.394992</td>\n",
       "      <td>1354.285855</td>\n",
       "    </tr>\n",
       "    <tr>\n",
       "      <th>7</th>\n",
       "      <td>-2445.885254</td>\n",
       "      <td>7373.739258</td>\n",
       "      <td>8</td>\n",
       "      <td></td>\n",
       "      <td>178.795246</td>\n",
       "      <td>1647.381074</td>\n",
       "    </tr>\n",
       "    <tr>\n",
       "      <th>8</th>\n",
       "      <td>-2088.798096</td>\n",
       "      <td>9766.385742</td>\n",
       "      <td>9</td>\n",
       "      <td></td>\n",
       "      <td>166.308876</td>\n",
       "      <td>1889.662640</td>\n",
       "    </tr>\n",
       "    <tr>\n",
       "      <th>9</th>\n",
       "      <td>-975.051697</td>\n",
       "      <td>11434.003906</td>\n",
       "      <td>10</td>\n",
       "      <td></td>\n",
       "      <td>-14.753597</td>\n",
       "      <td>2090.568299</td>\n",
       "    </tr>\n",
       "    <tr>\n",
       "      <th>10</th>\n",
       "      <td>-635.716492</td>\n",
       "      <td>15341.700195</td>\n",
       "      <td>11</td>\n",
       "      <td></td>\n",
       "      <td>-167.872871</td>\n",
       "      <td>2491.364102</td>\n",
       "    </tr>\n",
       "    <tr>\n",
       "      <th>11</th>\n",
       "      <td>-207.707840</td>\n",
       "      <td>15280.560547</td>\n",
       "      <td>12</td>\n",
       "      <td></td>\n",
       "      <td>22.616630</td>\n",
       "      <td>2815.092651</td>\n",
       "    </tr>\n",
       "    <tr>\n",
       "      <th>12</th>\n",
       "      <td>1093.762085</td>\n",
       "      <td>12049.968750</td>\n",
       "      <td>13</td>\n",
       "      <td></td>\n",
       "      <td>-163.635698</td>\n",
       "      <td>3156.310906</td>\n",
       "    </tr>\n",
       "    <tr>\n",
       "      <th>13</th>\n",
       "      <td>2325.310547</td>\n",
       "      <td>6894.855957</td>\n",
       "      <td>14</td>\n",
       "      <td></td>\n",
       "      <td>13.557159</td>\n",
       "      <td>3683.549587</td>\n",
       "    </tr>\n",
       "    <tr>\n",
       "      <th>14</th>\n",
       "      <td>2476.053955</td>\n",
       "      <td>4359.746582</td>\n",
       "      <td>15</td>\n",
       "      <td></td>\n",
       "      <td>-165.414453</td>\n",
       "      <td>3948.788358</td>\n",
       "    </tr>\n",
       "  </tbody>\n",
       "</table>\n",
       "</div>"
      ],
      "text/plain": [
       "              X             Y  Number Letter       Angle     Distance\n",
       "0   3353.000000    920.000000       1          12.894578     0.682865\n",
       "1   3498.902832  -2272.346680       2         -88.329898   365.720691\n",
       "2   1662.266968  -1507.206299       3        -128.275662   576.909088\n",
       "3    677.248352    125.601845       4          28.002159   769.287581\n",
       "4   -774.033936   1715.084595       5        -158.158475   988.521463\n",
       "5   -924.534241   3112.103760       6          -3.283047  1137.921266\n",
       "6  -2157.230957   4442.897949       7        -157.394992  1354.285855\n",
       "7  -2445.885254   7373.739258       8         178.795246  1647.381074\n",
       "8  -2088.798096   9766.385742       9         166.308876  1889.662640\n",
       "9   -975.051697  11434.003906      10         -14.753597  2090.568299\n",
       "10  -635.716492  15341.700195      11        -167.872871  2491.364102\n",
       "11  -207.707840  15280.560547      12          22.616630  2815.092651\n",
       "12  1093.762085  12049.968750      13        -163.635698  3156.310906\n",
       "13  2325.310547   6894.855957      14          13.557159  3683.549587\n",
       "14  2476.053955   4359.746582      15        -165.414453  3948.788358"
      ]
     },
     "execution_count": 54,
     "metadata": {},
     "output_type": "execute_result"
    }
   ],
   "source": [
    "circuit_marshal_lights = session.get_circuit_info().marshal_lights\n",
    "circuit_marshal_lights\n",
    "\n",
    "# corners, marshal_lights and marshal_sectors"
   ]
  },
  {
   "cell_type": "code",
   "execution_count": 55,
   "id": "6bf3c33a-e682-4d2f-ac04-34d0f05b94fb",
   "metadata": {},
   "outputs": [
    {
     "data": {
      "text/html": [
       "<div>\n",
       "<style scoped>\n",
       "    .dataframe tbody tr th:only-of-type {\n",
       "        vertical-align: middle;\n",
       "    }\n",
       "\n",
       "    .dataframe tbody tr th {\n",
       "        vertical-align: top;\n",
       "    }\n",
       "\n",
       "    .dataframe thead th {\n",
       "        text-align: right;\n",
       "    }\n",
       "</style>\n",
       "<table border=\"1\" class=\"dataframe\">\n",
       "  <thead>\n",
       "    <tr style=\"text-align: right;\">\n",
       "      <th></th>\n",
       "      <th>X</th>\n",
       "      <th>Y</th>\n",
       "      <th>Number</th>\n",
       "      <th>Letter</th>\n",
       "      <th>Angle</th>\n",
       "      <th>Distance</th>\n",
       "    </tr>\n",
       "  </thead>\n",
       "  <tbody>\n",
       "    <tr>\n",
       "      <th>0</th>\n",
       "      <td>3353.000000</td>\n",
       "      <td>920.000000</td>\n",
       "      <td>1</td>\n",
       "      <td></td>\n",
       "      <td>12.449547</td>\n",
       "      <td>0.682865</td>\n",
       "    </tr>\n",
       "    <tr>\n",
       "      <th>1</th>\n",
       "      <td>3515.829834</td>\n",
       "      <td>-2271.817871</td>\n",
       "      <td>2</td>\n",
       "      <td></td>\n",
       "      <td>-88.066845</td>\n",
       "      <td>365.720691</td>\n",
       "    </tr>\n",
       "    <tr>\n",
       "      <th>2</th>\n",
       "      <td>1691.748535</td>\n",
       "      <td>-1529.987549</td>\n",
       "      <td>3</td>\n",
       "      <td></td>\n",
       "      <td>-127.796402</td>\n",
       "      <td>576.909088</td>\n",
       "    </tr>\n",
       "    <tr>\n",
       "      <th>3</th>\n",
       "      <td>610.779236</td>\n",
       "      <td>219.528168</td>\n",
       "      <td>4</td>\n",
       "      <td></td>\n",
       "      <td>38.205092</td>\n",
       "      <td>769.287581</td>\n",
       "    </tr>\n",
       "    <tr>\n",
       "      <th>4</th>\n",
       "      <td>-800.530701</td>\n",
       "      <td>1781.093994</td>\n",
       "      <td>5</td>\n",
       "      <td></td>\n",
       "      <td>-158.226301</td>\n",
       "      <td>988.521463</td>\n",
       "    </tr>\n",
       "    <tr>\n",
       "      <th>5</th>\n",
       "      <td>-924.145569</td>\n",
       "      <td>3118.867188</td>\n",
       "      <td>6</td>\n",
       "      <td></td>\n",
       "      <td>-3.327263</td>\n",
       "      <td>1137.921266</td>\n",
       "    </tr>\n",
       "    <tr>\n",
       "      <th>6</th>\n",
       "      <td>-2150.709229</td>\n",
       "      <td>4427.268555</td>\n",
       "      <td>7</td>\n",
       "      <td></td>\n",
       "      <td>-157.350991</td>\n",
       "      <td>1344.908187</td>\n",
       "    </tr>\n",
       "    <tr>\n",
       "      <th>7</th>\n",
       "      <td>-2446.911377</td>\n",
       "      <td>7329.717773</td>\n",
       "      <td>8</td>\n",
       "      <td></td>\n",
       "      <td>178.768374</td>\n",
       "      <td>1647.381074</td>\n",
       "    </tr>\n",
       "    <tr>\n",
       "      <th>8</th>\n",
       "      <td>-2148.736084</td>\n",
       "      <td>9516.055664</td>\n",
       "      <td>9</td>\n",
       "      <td></td>\n",
       "      <td>166.635973</td>\n",
       "      <td>1870.927243</td>\n",
       "    </tr>\n",
       "    <tr>\n",
       "      <th>9</th>\n",
       "      <td>-992.291138</td>\n",
       "      <td>11368.494141</td>\n",
       "      <td>10</td>\n",
       "      <td></td>\n",
       "      <td>-14.678034</td>\n",
       "      <td>2090.568299</td>\n",
       "    </tr>\n",
       "    <tr>\n",
       "      <th>10</th>\n",
       "      <td>-618.041992</td>\n",
       "      <td>15255.431641</td>\n",
       "      <td>11</td>\n",
       "      <td></td>\n",
       "      <td>-170.153010</td>\n",
       "      <td>2491.364102</td>\n",
       "    </tr>\n",
       "    <tr>\n",
       "      <th>11</th>\n",
       "      <td>-215.560059</td>\n",
       "      <td>15299.304688</td>\n",
       "      <td>12</td>\n",
       "      <td></td>\n",
       "      <td>22.633458</td>\n",
       "      <td>2815.092651</td>\n",
       "    </tr>\n",
       "    <tr>\n",
       "      <th>12</th>\n",
       "      <td>1076.745117</td>\n",
       "      <td>12104.976562</td>\n",
       "      <td>13</td>\n",
       "      <td></td>\n",
       "      <td>-161.929117</td>\n",
       "      <td>3156.310906</td>\n",
       "    </tr>\n",
       "    <tr>\n",
       "      <th>13</th>\n",
       "      <td>2311.971436</td>\n",
       "      <td>6950.871582</td>\n",
       "      <td>14</td>\n",
       "      <td></td>\n",
       "      <td>13.294185</td>\n",
       "      <td>3683.549587</td>\n",
       "    </tr>\n",
       "    <tr>\n",
       "      <th>14</th>\n",
       "      <td>2477.773682</td>\n",
       "      <td>4353.195312</td>\n",
       "      <td>15</td>\n",
       "      <td></td>\n",
       "      <td>-165.319878</td>\n",
       "      <td>3948.788358</td>\n",
       "    </tr>\n",
       "  </tbody>\n",
       "</table>\n",
       "</div>"
      ],
      "text/plain": [
       "              X             Y  Number Letter       Angle     Distance\n",
       "0   3353.000000    920.000000       1          12.449547     0.682865\n",
       "1   3515.829834  -2271.817871       2         -88.066845   365.720691\n",
       "2   1691.748535  -1529.987549       3        -127.796402   576.909088\n",
       "3    610.779236    219.528168       4          38.205092   769.287581\n",
       "4   -800.530701   1781.093994       5        -158.226301   988.521463\n",
       "5   -924.145569   3118.867188       6          -3.327263  1137.921266\n",
       "6  -2150.709229   4427.268555       7        -157.350991  1344.908187\n",
       "7  -2446.911377   7329.717773       8         178.768374  1647.381074\n",
       "8  -2148.736084   9516.055664       9         166.635973  1870.927243\n",
       "9   -992.291138  11368.494141      10         -14.678034  2090.568299\n",
       "10  -618.041992  15255.431641      11        -170.153010  2491.364102\n",
       "11  -215.560059  15299.304688      12          22.633458  2815.092651\n",
       "12  1076.745117  12104.976562      13        -161.929117  3156.310906\n",
       "13  2311.971436   6950.871582      14          13.294185  3683.549587\n",
       "14  2477.773682   4353.195312      15        -165.319878  3948.788358"
      ]
     },
     "execution_count": 55,
     "metadata": {},
     "output_type": "execute_result"
    }
   ],
   "source": [
    "circuit_marshal_sectors = session.get_circuit_info().marshal_sectors\n",
    "circuit_marshal_sectors"
   ]
  },
  {
   "cell_type": "code",
   "execution_count": 60,
   "id": "da390908-732d-4947-ae27-fabb11702ed7",
   "metadata": {},
   "outputs": [],
   "source": [
    "circuit = pd.concat([circuit_corners, circuit_marshal_lights, circuit_marshal_sectors])"
   ]
  },
  {
   "cell_type": "code",
   "execution_count": 61,
   "id": "dca62078-44f4-423c-8c76-8bba7a8e40fc",
   "metadata": {},
   "outputs": [
    {
     "data": {
      "text/html": [
       "<div>\n",
       "<style scoped>\n",
       "    .dataframe tbody tr th:only-of-type {\n",
       "        vertical-align: middle;\n",
       "    }\n",
       "\n",
       "    .dataframe tbody tr th {\n",
       "        vertical-align: top;\n",
       "    }\n",
       "\n",
       "    .dataframe thead th {\n",
       "        text-align: right;\n",
       "    }\n",
       "</style>\n",
       "<table border=\"1\" class=\"dataframe\">\n",
       "  <thead>\n",
       "    <tr style=\"text-align: right;\">\n",
       "      <th></th>\n",
       "      <th>X</th>\n",
       "      <th>Y</th>\n",
       "      <th>Number</th>\n",
       "      <th>Letter</th>\n",
       "      <th>Angle</th>\n",
       "      <th>Distance</th>\n",
       "    </tr>\n",
       "  </thead>\n",
       "  <tbody>\n",
       "    <tr>\n",
       "      <th>0</th>\n",
       "      <td>3314.213623</td>\n",
       "      <td>-1317.854858</td>\n",
       "      <td>1</td>\n",
       "      <td></td>\n",
       "      <td>-165.704223</td>\n",
       "      <td>225.743213</td>\n",
       "    </tr>\n",
       "    <tr>\n",
       "      <th>1</th>\n",
       "      <td>3856.566650</td>\n",
       "      <td>-2073.488770</td>\n",
       "      <td>2</td>\n",
       "      <td></td>\n",
       "      <td>-22.292629</td>\n",
       "      <td>320.624280</td>\n",
       "    </tr>\n",
       "    <tr>\n",
       "      <th>2</th>\n",
       "      <td>740.000488</td>\n",
       "      <td>-608.991943</td>\n",
       "      <td>3</td>\n",
       "      <td></td>\n",
       "      <td>-158.882111</td>\n",
       "      <td>693.206801</td>\n",
       "    </tr>\n",
       "    <tr>\n",
       "      <th>3</th>\n",
       "      <td>746.362305</td>\n",
       "      <td>-42.993057</td>\n",
       "      <td>4</td>\n",
       "      <td></td>\n",
       "      <td>10.981968</td>\n",
       "      <td>750.568160</td>\n",
       "    </tr>\n",
       "    <tr>\n",
       "      <th>4</th>\n",
       "      <td>-724.044739</td>\n",
       "      <td>1618.967407</td>\n",
       "      <td>5</td>\n",
       "      <td></td>\n",
       "      <td>29.699708</td>\n",
       "      <td>967.507804</td>\n",
       "    </tr>\n",
       "    <tr>\n",
       "      <th>5</th>\n",
       "      <td>-993.916626</td>\n",
       "      <td>3790.888672</td>\n",
       "      <td>6</td>\n",
       "      <td></td>\n",
       "      <td>27.681895</td>\n",
       "      <td>1198.245481</td>\n",
       "    </tr>\n",
       "    <tr>\n",
       "      <th>6</th>\n",
       "      <td>-1783.871460</td>\n",
       "      <td>4016.300781</td>\n",
       "      <td>7</td>\n",
       "      <td></td>\n",
       "      <td>-117.805015</td>\n",
       "      <td>1292.609426</td>\n",
       "    </tr>\n",
       "    <tr>\n",
       "      <th>7</th>\n",
       "      <td>-1785.440430</td>\n",
       "      <td>10539.706055</td>\n",
       "      <td>8</td>\n",
       "      <td></td>\n",
       "      <td>118.593733</td>\n",
       "      <td>1972.048065</td>\n",
       "    </tr>\n",
       "    <tr>\n",
       "      <th>8</th>\n",
       "      <td>-1140.291992</td>\n",
       "      <td>10976.314453</td>\n",
       "      <td>9</td>\n",
       "      <td></td>\n",
       "      <td>-28.305198</td>\n",
       "      <td>2047.220648</td>\n",
       "    </tr>\n",
       "    <tr>\n",
       "      <th>9</th>\n",
       "      <td>-711.505371</td>\n",
       "      <td>16759.564453</td>\n",
       "      <td>10</td>\n",
       "      <td></td>\n",
       "      <td>97.796495</td>\n",
       "      <td>2643.216507</td>\n",
       "    </tr>\n",
       "    <tr>\n",
       "      <th>10</th>\n",
       "      <td>-374.826996</td>\n",
       "      <td>15840.400391</td>\n",
       "      <td>11</td>\n",
       "      <td></td>\n",
       "      <td>9.367721</td>\n",
       "      <td>2760.992288</td>\n",
       "    </tr>\n",
       "    <tr>\n",
       "      <th>11</th>\n",
       "      <td>975.872559</td>\n",
       "      <td>12421.172852</td>\n",
       "      <td>12</td>\n",
       "      <td></td>\n",
       "      <td>-161.170043</td>\n",
       "      <td>3122.761479</td>\n",
       "    </tr>\n",
       "    <tr>\n",
       "      <th>12</th>\n",
       "      <td>2586.933350</td>\n",
       "      <td>5440.833008</td>\n",
       "      <td>13</td>\n",
       "      <td></td>\n",
       "      <td>-21.168127</td>\n",
       "      <td>3823.680949</td>\n",
       "    </tr>\n",
       "    <tr>\n",
       "      <th>13</th>\n",
       "      <td>2435.436279</td>\n",
       "      <td>5153.829590</td>\n",
       "      <td>14</td>\n",
       "      <td></td>\n",
       "      <td>157.077799</td>\n",
       "      <td>3860.454930</td>\n",
       "    </tr>\n",
       "    <tr>\n",
       "      <th>0</th>\n",
       "      <td>3353.000000</td>\n",
       "      <td>920.000000</td>\n",
       "      <td>1</td>\n",
       "      <td></td>\n",
       "      <td>12.894578</td>\n",
       "      <td>0.682865</td>\n",
       "    </tr>\n",
       "    <tr>\n",
       "      <th>1</th>\n",
       "      <td>3498.902832</td>\n",
       "      <td>-2272.346680</td>\n",
       "      <td>2</td>\n",
       "      <td></td>\n",
       "      <td>-88.329898</td>\n",
       "      <td>365.720691</td>\n",
       "    </tr>\n",
       "    <tr>\n",
       "      <th>2</th>\n",
       "      <td>1662.266968</td>\n",
       "      <td>-1507.206299</td>\n",
       "      <td>3</td>\n",
       "      <td></td>\n",
       "      <td>-128.275662</td>\n",
       "      <td>576.909088</td>\n",
       "    </tr>\n",
       "    <tr>\n",
       "      <th>3</th>\n",
       "      <td>677.248352</td>\n",
       "      <td>125.601845</td>\n",
       "      <td>4</td>\n",
       "      <td></td>\n",
       "      <td>28.002159</td>\n",
       "      <td>769.287581</td>\n",
       "    </tr>\n",
       "    <tr>\n",
       "      <th>4</th>\n",
       "      <td>-774.033936</td>\n",
       "      <td>1715.084595</td>\n",
       "      <td>5</td>\n",
       "      <td></td>\n",
       "      <td>-158.158475</td>\n",
       "      <td>988.521463</td>\n",
       "    </tr>\n",
       "    <tr>\n",
       "      <th>5</th>\n",
       "      <td>-924.534241</td>\n",
       "      <td>3112.103760</td>\n",
       "      <td>6</td>\n",
       "      <td></td>\n",
       "      <td>-3.283047</td>\n",
       "      <td>1137.921266</td>\n",
       "    </tr>\n",
       "    <tr>\n",
       "      <th>6</th>\n",
       "      <td>-2157.230957</td>\n",
       "      <td>4442.897949</td>\n",
       "      <td>7</td>\n",
       "      <td></td>\n",
       "      <td>-157.394992</td>\n",
       "      <td>1354.285855</td>\n",
       "    </tr>\n",
       "    <tr>\n",
       "      <th>7</th>\n",
       "      <td>-2445.885254</td>\n",
       "      <td>7373.739258</td>\n",
       "      <td>8</td>\n",
       "      <td></td>\n",
       "      <td>178.795246</td>\n",
       "      <td>1647.381074</td>\n",
       "    </tr>\n",
       "    <tr>\n",
       "      <th>8</th>\n",
       "      <td>-2088.798096</td>\n",
       "      <td>9766.385742</td>\n",
       "      <td>9</td>\n",
       "      <td></td>\n",
       "      <td>166.308876</td>\n",
       "      <td>1889.662640</td>\n",
       "    </tr>\n",
       "    <tr>\n",
       "      <th>9</th>\n",
       "      <td>-975.051697</td>\n",
       "      <td>11434.003906</td>\n",
       "      <td>10</td>\n",
       "      <td></td>\n",
       "      <td>-14.753597</td>\n",
       "      <td>2090.568299</td>\n",
       "    </tr>\n",
       "    <tr>\n",
       "      <th>10</th>\n",
       "      <td>-635.716492</td>\n",
       "      <td>15341.700195</td>\n",
       "      <td>11</td>\n",
       "      <td></td>\n",
       "      <td>-167.872871</td>\n",
       "      <td>2491.364102</td>\n",
       "    </tr>\n",
       "    <tr>\n",
       "      <th>11</th>\n",
       "      <td>-207.707840</td>\n",
       "      <td>15280.560547</td>\n",
       "      <td>12</td>\n",
       "      <td></td>\n",
       "      <td>22.616630</td>\n",
       "      <td>2815.092651</td>\n",
       "    </tr>\n",
       "    <tr>\n",
       "      <th>12</th>\n",
       "      <td>1093.762085</td>\n",
       "      <td>12049.968750</td>\n",
       "      <td>13</td>\n",
       "      <td></td>\n",
       "      <td>-163.635698</td>\n",
       "      <td>3156.310906</td>\n",
       "    </tr>\n",
       "    <tr>\n",
       "      <th>13</th>\n",
       "      <td>2325.310547</td>\n",
       "      <td>6894.855957</td>\n",
       "      <td>14</td>\n",
       "      <td></td>\n",
       "      <td>13.557159</td>\n",
       "      <td>3683.549587</td>\n",
       "    </tr>\n",
       "    <tr>\n",
       "      <th>14</th>\n",
       "      <td>2476.053955</td>\n",
       "      <td>4359.746582</td>\n",
       "      <td>15</td>\n",
       "      <td></td>\n",
       "      <td>-165.414453</td>\n",
       "      <td>3948.788358</td>\n",
       "    </tr>\n",
       "    <tr>\n",
       "      <th>0</th>\n",
       "      <td>3353.000000</td>\n",
       "      <td>920.000000</td>\n",
       "      <td>1</td>\n",
       "      <td></td>\n",
       "      <td>12.449547</td>\n",
       "      <td>0.682865</td>\n",
       "    </tr>\n",
       "    <tr>\n",
       "      <th>1</th>\n",
       "      <td>3515.829834</td>\n",
       "      <td>-2271.817871</td>\n",
       "      <td>2</td>\n",
       "      <td></td>\n",
       "      <td>-88.066845</td>\n",
       "      <td>365.720691</td>\n",
       "    </tr>\n",
       "    <tr>\n",
       "      <th>2</th>\n",
       "      <td>1691.748535</td>\n",
       "      <td>-1529.987549</td>\n",
       "      <td>3</td>\n",
       "      <td></td>\n",
       "      <td>-127.796402</td>\n",
       "      <td>576.909088</td>\n",
       "    </tr>\n",
       "    <tr>\n",
       "      <th>3</th>\n",
       "      <td>610.779236</td>\n",
       "      <td>219.528168</td>\n",
       "      <td>4</td>\n",
       "      <td></td>\n",
       "      <td>38.205092</td>\n",
       "      <td>769.287581</td>\n",
       "    </tr>\n",
       "    <tr>\n",
       "      <th>4</th>\n",
       "      <td>-800.530701</td>\n",
       "      <td>1781.093994</td>\n",
       "      <td>5</td>\n",
       "      <td></td>\n",
       "      <td>-158.226301</td>\n",
       "      <td>988.521463</td>\n",
       "    </tr>\n",
       "    <tr>\n",
       "      <th>5</th>\n",
       "      <td>-924.145569</td>\n",
       "      <td>3118.867188</td>\n",
       "      <td>6</td>\n",
       "      <td></td>\n",
       "      <td>-3.327263</td>\n",
       "      <td>1137.921266</td>\n",
       "    </tr>\n",
       "    <tr>\n",
       "      <th>6</th>\n",
       "      <td>-2150.709229</td>\n",
       "      <td>4427.268555</td>\n",
       "      <td>7</td>\n",
       "      <td></td>\n",
       "      <td>-157.350991</td>\n",
       "      <td>1344.908187</td>\n",
       "    </tr>\n",
       "    <tr>\n",
       "      <th>7</th>\n",
       "      <td>-2446.911377</td>\n",
       "      <td>7329.717773</td>\n",
       "      <td>8</td>\n",
       "      <td></td>\n",
       "      <td>178.768374</td>\n",
       "      <td>1647.381074</td>\n",
       "    </tr>\n",
       "    <tr>\n",
       "      <th>8</th>\n",
       "      <td>-2148.736084</td>\n",
       "      <td>9516.055664</td>\n",
       "      <td>9</td>\n",
       "      <td></td>\n",
       "      <td>166.635973</td>\n",
       "      <td>1870.927243</td>\n",
       "    </tr>\n",
       "    <tr>\n",
       "      <th>9</th>\n",
       "      <td>-992.291138</td>\n",
       "      <td>11368.494141</td>\n",
       "      <td>10</td>\n",
       "      <td></td>\n",
       "      <td>-14.678034</td>\n",
       "      <td>2090.568299</td>\n",
       "    </tr>\n",
       "    <tr>\n",
       "      <th>10</th>\n",
       "      <td>-618.041992</td>\n",
       "      <td>15255.431641</td>\n",
       "      <td>11</td>\n",
       "      <td></td>\n",
       "      <td>-170.153010</td>\n",
       "      <td>2491.364102</td>\n",
       "    </tr>\n",
       "    <tr>\n",
       "      <th>11</th>\n",
       "      <td>-215.560059</td>\n",
       "      <td>15299.304688</td>\n",
       "      <td>12</td>\n",
       "      <td></td>\n",
       "      <td>22.633458</td>\n",
       "      <td>2815.092651</td>\n",
       "    </tr>\n",
       "    <tr>\n",
       "      <th>12</th>\n",
       "      <td>1076.745117</td>\n",
       "      <td>12104.976562</td>\n",
       "      <td>13</td>\n",
       "      <td></td>\n",
       "      <td>-161.929117</td>\n",
       "      <td>3156.310906</td>\n",
       "    </tr>\n",
       "    <tr>\n",
       "      <th>13</th>\n",
       "      <td>2311.971436</td>\n",
       "      <td>6950.871582</td>\n",
       "      <td>14</td>\n",
       "      <td></td>\n",
       "      <td>13.294185</td>\n",
       "      <td>3683.549587</td>\n",
       "    </tr>\n",
       "    <tr>\n",
       "      <th>14</th>\n",
       "      <td>2477.773682</td>\n",
       "      <td>4353.195312</td>\n",
       "      <td>15</td>\n",
       "      <td></td>\n",
       "      <td>-165.319878</td>\n",
       "      <td>3948.788358</td>\n",
       "    </tr>\n",
       "  </tbody>\n",
       "</table>\n",
       "</div>"
      ],
      "text/plain": [
       "              X             Y  Number Letter       Angle     Distance\n",
       "0   3314.213623  -1317.854858       1        -165.704223   225.743213\n",
       "1   3856.566650  -2073.488770       2         -22.292629   320.624280\n",
       "2    740.000488   -608.991943       3        -158.882111   693.206801\n",
       "3    746.362305    -42.993057       4          10.981968   750.568160\n",
       "4   -724.044739   1618.967407       5          29.699708   967.507804\n",
       "5   -993.916626   3790.888672       6          27.681895  1198.245481\n",
       "6  -1783.871460   4016.300781       7        -117.805015  1292.609426\n",
       "7  -1785.440430  10539.706055       8         118.593733  1972.048065\n",
       "8  -1140.291992  10976.314453       9         -28.305198  2047.220648\n",
       "9   -711.505371  16759.564453      10          97.796495  2643.216507\n",
       "10  -374.826996  15840.400391      11           9.367721  2760.992288\n",
       "11   975.872559  12421.172852      12        -161.170043  3122.761479\n",
       "12  2586.933350   5440.833008      13         -21.168127  3823.680949\n",
       "13  2435.436279   5153.829590      14         157.077799  3860.454930\n",
       "0   3353.000000    920.000000       1          12.894578     0.682865\n",
       "1   3498.902832  -2272.346680       2         -88.329898   365.720691\n",
       "2   1662.266968  -1507.206299       3        -128.275662   576.909088\n",
       "3    677.248352    125.601845       4          28.002159   769.287581\n",
       "4   -774.033936   1715.084595       5        -158.158475   988.521463\n",
       "5   -924.534241   3112.103760       6          -3.283047  1137.921266\n",
       "6  -2157.230957   4442.897949       7        -157.394992  1354.285855\n",
       "7  -2445.885254   7373.739258       8         178.795246  1647.381074\n",
       "8  -2088.798096   9766.385742       9         166.308876  1889.662640\n",
       "9   -975.051697  11434.003906      10         -14.753597  2090.568299\n",
       "10  -635.716492  15341.700195      11        -167.872871  2491.364102\n",
       "11  -207.707840  15280.560547      12          22.616630  2815.092651\n",
       "12  1093.762085  12049.968750      13        -163.635698  3156.310906\n",
       "13  2325.310547   6894.855957      14          13.557159  3683.549587\n",
       "14  2476.053955   4359.746582      15        -165.414453  3948.788358\n",
       "0   3353.000000    920.000000       1          12.449547     0.682865\n",
       "1   3515.829834  -2271.817871       2         -88.066845   365.720691\n",
       "2   1691.748535  -1529.987549       3        -127.796402   576.909088\n",
       "3    610.779236    219.528168       4          38.205092   769.287581\n",
       "4   -800.530701   1781.093994       5        -158.226301   988.521463\n",
       "5   -924.145569   3118.867188       6          -3.327263  1137.921266\n",
       "6  -2150.709229   4427.268555       7        -157.350991  1344.908187\n",
       "7  -2446.911377   7329.717773       8         178.768374  1647.381074\n",
       "8  -2148.736084   9516.055664       9         166.635973  1870.927243\n",
       "9   -992.291138  11368.494141      10         -14.678034  2090.568299\n",
       "10  -618.041992  15255.431641      11        -170.153010  2491.364102\n",
       "11  -215.560059  15299.304688      12          22.633458  2815.092651\n",
       "12  1076.745117  12104.976562      13        -161.929117  3156.310906\n",
       "13  2311.971436   6950.871582      14          13.294185  3683.549587\n",
       "14  2477.773682   4353.195312      15        -165.319878  3948.788358"
      ]
     },
     "execution_count": 61,
     "metadata": {},
     "output_type": "execute_result"
    }
   ],
   "source": [
    "circuit"
   ]
  },
  {
   "cell_type": "code",
   "execution_count": null,
   "id": "4c1e06cb-6761-49b4-b551-c232663da5b1",
   "metadata": {},
   "outputs": [],
   "source": []
  },
  {
   "cell_type": "code",
   "execution_count": 62,
   "id": "0b737385-8678-4f1f-b2b4-648f1a9c4b66",
   "metadata": {},
   "outputs": [
    {
     "data": {
      "application/vnd.plotly.v1+json": {
       "config": {
        "plotlyServerURL": "https://plot.ly"
       },
       "data": [
        {
         "hovertemplate": "X=%{x}<br>Y=%{y}<extra></extra>",
         "legendgroup": "",
         "marker": {
          "color": "#636efa",
          "symbol": "circle"
         },
         "mode": "markers",
         "name": "",
         "orientation": "v",
         "showlegend": false,
         "type": "scatter",
         "x": [
          3314.213623046875,
          3856.566650390625,
          740.00048828125,
          746.3623046875,
          -724.0447387695312,
          -993.9166259765625,
          -1783.8714599609375,
          -1785.4404296875,
          -1140.2919921875,
          -711.50537109375,
          -374.8269958496094,
          975.87255859375,
          2586.933349609375,
          2435.436279296875,
          3353,
          3498.90283203125,
          1662.2669677734375,
          677.2483520507812,
          -774.033935546875,
          -924.5342407226562,
          -2157.23095703125,
          -2445.88525390625,
          -2088.798095703125,
          -975.0516967773438,
          -635.7164916992188,
          -207.7078399658203,
          1093.7620849609375,
          2325.310546875,
          2476.053955078125,
          3353,
          3515.829833984375,
          1691.74853515625,
          610.7792358398438,
          -800.5307006835938,
          -924.1455688476562,
          -2150.709228515625,
          -2446.911376953125,
          -2148.736083984375,
          -992.2911376953125,
          -618.0419921875,
          -215.56005859375,
          1076.7451171875,
          2311.971435546875,
          2477.773681640625
         ],
         "xaxis": "x",
         "y": [
          -1317.8548583984375,
          -2073.48876953125,
          -608.991943359375,
          -42.99305725097656,
          1618.9674072265625,
          3790.888671875,
          4016.30078125,
          10539.7060546875,
          10976.314453125,
          16759.564453125,
          15840.400390625,
          12421.1728515625,
          5440.8330078125,
          5153.82958984375,
          920,
          -2272.3466796875,
          -1507.206298828125,
          125.60184478759766,
          1715.0845947265625,
          3112.103759765625,
          4442.89794921875,
          7373.7392578125,
          9766.3857421875,
          11434.00390625,
          15341.7001953125,
          15280.560546875,
          12049.96875,
          6894.85595703125,
          4359.74658203125,
          920,
          -2271.81787109375,
          -1529.987548828125,
          219.52816772460938,
          1781.093994140625,
          3118.8671875,
          4427.2685546875,
          7329.7177734375,
          9516.0556640625,
          11368.494140625,
          15255.431640625,
          15299.3046875,
          12104.9765625,
          6950.87158203125,
          4353.1953125
         ],
         "yaxis": "y"
        }
       ],
       "layout": {
        "autosize": true,
        "legend": {
         "tracegroupgap": 0
        },
        "margin": {
         "t": 60
        },
        "template": {
         "data": {
          "bar": [
           {
            "error_x": {
             "color": "#2a3f5f"
            },
            "error_y": {
             "color": "#2a3f5f"
            },
            "marker": {
             "line": {
              "color": "#E5ECF6",
              "width": 0.5
             },
             "pattern": {
              "fillmode": "overlay",
              "size": 10,
              "solidity": 0.2
             }
            },
            "type": "bar"
           }
          ],
          "barpolar": [
           {
            "marker": {
             "line": {
              "color": "#E5ECF6",
              "width": 0.5
             },
             "pattern": {
              "fillmode": "overlay",
              "size": 10,
              "solidity": 0.2
             }
            },
            "type": "barpolar"
           }
          ],
          "carpet": [
           {
            "aaxis": {
             "endlinecolor": "#2a3f5f",
             "gridcolor": "white",
             "linecolor": "white",
             "minorgridcolor": "white",
             "startlinecolor": "#2a3f5f"
            },
            "baxis": {
             "endlinecolor": "#2a3f5f",
             "gridcolor": "white",
             "linecolor": "white",
             "minorgridcolor": "white",
             "startlinecolor": "#2a3f5f"
            },
            "type": "carpet"
           }
          ],
          "choropleth": [
           {
            "colorbar": {
             "outlinewidth": 0,
             "ticks": ""
            },
            "type": "choropleth"
           }
          ],
          "contour": [
           {
            "colorbar": {
             "outlinewidth": 0,
             "ticks": ""
            },
            "colorscale": [
             [
              0,
              "#0d0887"
             ],
             [
              0.1111111111111111,
              "#46039f"
             ],
             [
              0.2222222222222222,
              "#7201a8"
             ],
             [
              0.3333333333333333,
              "#9c179e"
             ],
             [
              0.4444444444444444,
              "#bd3786"
             ],
             [
              0.5555555555555556,
              "#d8576b"
             ],
             [
              0.6666666666666666,
              "#ed7953"
             ],
             [
              0.7777777777777778,
              "#fb9f3a"
             ],
             [
              0.8888888888888888,
              "#fdca26"
             ],
             [
              1,
              "#f0f921"
             ]
            ],
            "type": "contour"
           }
          ],
          "contourcarpet": [
           {
            "colorbar": {
             "outlinewidth": 0,
             "ticks": ""
            },
            "type": "contourcarpet"
           }
          ],
          "heatmap": [
           {
            "colorbar": {
             "outlinewidth": 0,
             "ticks": ""
            },
            "colorscale": [
             [
              0,
              "#0d0887"
             ],
             [
              0.1111111111111111,
              "#46039f"
             ],
             [
              0.2222222222222222,
              "#7201a8"
             ],
             [
              0.3333333333333333,
              "#9c179e"
             ],
             [
              0.4444444444444444,
              "#bd3786"
             ],
             [
              0.5555555555555556,
              "#d8576b"
             ],
             [
              0.6666666666666666,
              "#ed7953"
             ],
             [
              0.7777777777777778,
              "#fb9f3a"
             ],
             [
              0.8888888888888888,
              "#fdca26"
             ],
             [
              1,
              "#f0f921"
             ]
            ],
            "type": "heatmap"
           }
          ],
          "heatmapgl": [
           {
            "colorbar": {
             "outlinewidth": 0,
             "ticks": ""
            },
            "colorscale": [
             [
              0,
              "#0d0887"
             ],
             [
              0.1111111111111111,
              "#46039f"
             ],
             [
              0.2222222222222222,
              "#7201a8"
             ],
             [
              0.3333333333333333,
              "#9c179e"
             ],
             [
              0.4444444444444444,
              "#bd3786"
             ],
             [
              0.5555555555555556,
              "#d8576b"
             ],
             [
              0.6666666666666666,
              "#ed7953"
             ],
             [
              0.7777777777777778,
              "#fb9f3a"
             ],
             [
              0.8888888888888888,
              "#fdca26"
             ],
             [
              1,
              "#f0f921"
             ]
            ],
            "type": "heatmapgl"
           }
          ],
          "histogram": [
           {
            "marker": {
             "pattern": {
              "fillmode": "overlay",
              "size": 10,
              "solidity": 0.2
             }
            },
            "type": "histogram"
           }
          ],
          "histogram2d": [
           {
            "colorbar": {
             "outlinewidth": 0,
             "ticks": ""
            },
            "colorscale": [
             [
              0,
              "#0d0887"
             ],
             [
              0.1111111111111111,
              "#46039f"
             ],
             [
              0.2222222222222222,
              "#7201a8"
             ],
             [
              0.3333333333333333,
              "#9c179e"
             ],
             [
              0.4444444444444444,
              "#bd3786"
             ],
             [
              0.5555555555555556,
              "#d8576b"
             ],
             [
              0.6666666666666666,
              "#ed7953"
             ],
             [
              0.7777777777777778,
              "#fb9f3a"
             ],
             [
              0.8888888888888888,
              "#fdca26"
             ],
             [
              1,
              "#f0f921"
             ]
            ],
            "type": "histogram2d"
           }
          ],
          "histogram2dcontour": [
           {
            "colorbar": {
             "outlinewidth": 0,
             "ticks": ""
            },
            "colorscale": [
             [
              0,
              "#0d0887"
             ],
             [
              0.1111111111111111,
              "#46039f"
             ],
             [
              0.2222222222222222,
              "#7201a8"
             ],
             [
              0.3333333333333333,
              "#9c179e"
             ],
             [
              0.4444444444444444,
              "#bd3786"
             ],
             [
              0.5555555555555556,
              "#d8576b"
             ],
             [
              0.6666666666666666,
              "#ed7953"
             ],
             [
              0.7777777777777778,
              "#fb9f3a"
             ],
             [
              0.8888888888888888,
              "#fdca26"
             ],
             [
              1,
              "#f0f921"
             ]
            ],
            "type": "histogram2dcontour"
           }
          ],
          "mesh3d": [
           {
            "colorbar": {
             "outlinewidth": 0,
             "ticks": ""
            },
            "type": "mesh3d"
           }
          ],
          "parcoords": [
           {
            "line": {
             "colorbar": {
              "outlinewidth": 0,
              "ticks": ""
             }
            },
            "type": "parcoords"
           }
          ],
          "pie": [
           {
            "automargin": true,
            "type": "pie"
           }
          ],
          "scatter": [
           {
            "fillpattern": {
             "fillmode": "overlay",
             "size": 10,
             "solidity": 0.2
            },
            "type": "scatter"
           }
          ],
          "scatter3d": [
           {
            "line": {
             "colorbar": {
              "outlinewidth": 0,
              "ticks": ""
             }
            },
            "marker": {
             "colorbar": {
              "outlinewidth": 0,
              "ticks": ""
             }
            },
            "type": "scatter3d"
           }
          ],
          "scattercarpet": [
           {
            "marker": {
             "colorbar": {
              "outlinewidth": 0,
              "ticks": ""
             }
            },
            "type": "scattercarpet"
           }
          ],
          "scattergeo": [
           {
            "marker": {
             "colorbar": {
              "outlinewidth": 0,
              "ticks": ""
             }
            },
            "type": "scattergeo"
           }
          ],
          "scattergl": [
           {
            "marker": {
             "colorbar": {
              "outlinewidth": 0,
              "ticks": ""
             }
            },
            "type": "scattergl"
           }
          ],
          "scattermapbox": [
           {
            "marker": {
             "colorbar": {
              "outlinewidth": 0,
              "ticks": ""
             }
            },
            "type": "scattermapbox"
           }
          ],
          "scatterpolar": [
           {
            "marker": {
             "colorbar": {
              "outlinewidth": 0,
              "ticks": ""
             }
            },
            "type": "scatterpolar"
           }
          ],
          "scatterpolargl": [
           {
            "marker": {
             "colorbar": {
              "outlinewidth": 0,
              "ticks": ""
             }
            },
            "type": "scatterpolargl"
           }
          ],
          "scatterternary": [
           {
            "marker": {
             "colorbar": {
              "outlinewidth": 0,
              "ticks": ""
             }
            },
            "type": "scatterternary"
           }
          ],
          "surface": [
           {
            "colorbar": {
             "outlinewidth": 0,
             "ticks": ""
            },
            "colorscale": [
             [
              0,
              "#0d0887"
             ],
             [
              0.1111111111111111,
              "#46039f"
             ],
             [
              0.2222222222222222,
              "#7201a8"
             ],
             [
              0.3333333333333333,
              "#9c179e"
             ],
             [
              0.4444444444444444,
              "#bd3786"
             ],
             [
              0.5555555555555556,
              "#d8576b"
             ],
             [
              0.6666666666666666,
              "#ed7953"
             ],
             [
              0.7777777777777778,
              "#fb9f3a"
             ],
             [
              0.8888888888888888,
              "#fdca26"
             ],
             [
              1,
              "#f0f921"
             ]
            ],
            "type": "surface"
           }
          ],
          "table": [
           {
            "cells": {
             "fill": {
              "color": "#EBF0F8"
             },
             "line": {
              "color": "white"
             }
            },
            "header": {
             "fill": {
              "color": "#C8D4E3"
             },
             "line": {
              "color": "white"
             }
            },
            "type": "table"
           }
          ]
         },
         "layout": {
          "annotationdefaults": {
           "arrowcolor": "#2a3f5f",
           "arrowhead": 0,
           "arrowwidth": 1
          },
          "autotypenumbers": "strict",
          "coloraxis": {
           "colorbar": {
            "outlinewidth": 0,
            "ticks": ""
           }
          },
          "colorscale": {
           "diverging": [
            [
             0,
             "#8e0152"
            ],
            [
             0.1,
             "#c51b7d"
            ],
            [
             0.2,
             "#de77ae"
            ],
            [
             0.3,
             "#f1b6da"
            ],
            [
             0.4,
             "#fde0ef"
            ],
            [
             0.5,
             "#f7f7f7"
            ],
            [
             0.6,
             "#e6f5d0"
            ],
            [
             0.7,
             "#b8e186"
            ],
            [
             0.8,
             "#7fbc41"
            ],
            [
             0.9,
             "#4d9221"
            ],
            [
             1,
             "#276419"
            ]
           ],
           "sequential": [
            [
             0,
             "#0d0887"
            ],
            [
             0.1111111111111111,
             "#46039f"
            ],
            [
             0.2222222222222222,
             "#7201a8"
            ],
            [
             0.3333333333333333,
             "#9c179e"
            ],
            [
             0.4444444444444444,
             "#bd3786"
            ],
            [
             0.5555555555555556,
             "#d8576b"
            ],
            [
             0.6666666666666666,
             "#ed7953"
            ],
            [
             0.7777777777777778,
             "#fb9f3a"
            ],
            [
             0.8888888888888888,
             "#fdca26"
            ],
            [
             1,
             "#f0f921"
            ]
           ],
           "sequentialminus": [
            [
             0,
             "#0d0887"
            ],
            [
             0.1111111111111111,
             "#46039f"
            ],
            [
             0.2222222222222222,
             "#7201a8"
            ],
            [
             0.3333333333333333,
             "#9c179e"
            ],
            [
             0.4444444444444444,
             "#bd3786"
            ],
            [
             0.5555555555555556,
             "#d8576b"
            ],
            [
             0.6666666666666666,
             "#ed7953"
            ],
            [
             0.7777777777777778,
             "#fb9f3a"
            ],
            [
             0.8888888888888888,
             "#fdca26"
            ],
            [
             1,
             "#f0f921"
            ]
           ]
          },
          "colorway": [
           "#636efa",
           "#EF553B",
           "#00cc96",
           "#ab63fa",
           "#FFA15A",
           "#19d3f3",
           "#FF6692",
           "#B6E880",
           "#FF97FF",
           "#FECB52"
          ],
          "font": {
           "color": "#2a3f5f"
          },
          "geo": {
           "bgcolor": "white",
           "lakecolor": "white",
           "landcolor": "#E5ECF6",
           "showlakes": true,
           "showland": true,
           "subunitcolor": "white"
          },
          "hoverlabel": {
           "align": "left"
          },
          "hovermode": "closest",
          "mapbox": {
           "style": "light"
          },
          "paper_bgcolor": "white",
          "plot_bgcolor": "#E5ECF6",
          "polar": {
           "angularaxis": {
            "gridcolor": "white",
            "linecolor": "white",
            "ticks": ""
           },
           "bgcolor": "#E5ECF6",
           "radialaxis": {
            "gridcolor": "white",
            "linecolor": "white",
            "ticks": ""
           }
          },
          "scene": {
           "xaxis": {
            "backgroundcolor": "#E5ECF6",
            "gridcolor": "white",
            "gridwidth": 2,
            "linecolor": "white",
            "showbackground": true,
            "ticks": "",
            "zerolinecolor": "white"
           },
           "yaxis": {
            "backgroundcolor": "#E5ECF6",
            "gridcolor": "white",
            "gridwidth": 2,
            "linecolor": "white",
            "showbackground": true,
            "ticks": "",
            "zerolinecolor": "white"
           },
           "zaxis": {
            "backgroundcolor": "#E5ECF6",
            "gridcolor": "white",
            "gridwidth": 2,
            "linecolor": "white",
            "showbackground": true,
            "ticks": "",
            "zerolinecolor": "white"
           }
          },
          "shapedefaults": {
           "line": {
            "color": "#2a3f5f"
           }
          },
          "ternary": {
           "aaxis": {
            "gridcolor": "white",
            "linecolor": "white",
            "ticks": ""
           },
           "baxis": {
            "gridcolor": "white",
            "linecolor": "white",
            "ticks": ""
           },
           "bgcolor": "#E5ECF6",
           "caxis": {
            "gridcolor": "white",
            "linecolor": "white",
            "ticks": ""
           }
          },
          "title": {
           "x": 0.05
          },
          "xaxis": {
           "automargin": true,
           "gridcolor": "white",
           "linecolor": "white",
           "ticks": "",
           "title": {
            "standoff": 15
           },
           "zerolinecolor": "white",
           "zerolinewidth": 2
          },
          "yaxis": {
           "automargin": true,
           "gridcolor": "white",
           "linecolor": "white",
           "ticks": "",
           "title": {
            "standoff": 15
           },
           "zerolinecolor": "white",
           "zerolinewidth": 2
          }
         }
        },
        "xaxis": {
         "anchor": "y",
         "autorange": false,
         "domain": [
          0,
          1
         ],
         "range": [
          -2820,
          4230.075002210594
         ],
         "title": {
          "text": "X"
         },
         "type": "linear"
        },
        "yaxis": {
         "anchor": "x",
         "autorange": true,
         "domain": [
          0,
          1
         ],
         "range": [
          -3745.9460981073653,
          18233.163871544864
         ],
         "title": {
          "text": "Y"
         },
         "type": "linear"
        }
       }
      },
      "text/html": [
       "<div>                            <div id=\"b77e8d64-1dab-4d8b-ad56-dbdead7af710\" class=\"plotly-graph-div\" style=\"height:525px; width:100%;\"></div>            <script type=\"text/javascript\">                require([\"plotly\"], function(Plotly) {                    window.PLOTLYENV=window.PLOTLYENV || {};                                    if (document.getElementById(\"b77e8d64-1dab-4d8b-ad56-dbdead7af710\")) {                    Plotly.newPlot(                        \"b77e8d64-1dab-4d8b-ad56-dbdead7af710\",                        [{\"hovertemplate\":\"X=%{x}\\u003cbr\\u003eY=%{y}\\u003cextra\\u003e\\u003c\\u002fextra\\u003e\",\"legendgroup\":\"\",\"marker\":{\"color\":\"#636efa\",\"symbol\":\"circle\"},\"mode\":\"markers\",\"name\":\"\",\"orientation\":\"v\",\"showlegend\":false,\"x\":[3314.213623046875,3856.566650390625,740.00048828125,746.3623046875,-724.0447387695312,-993.9166259765625,-1783.8714599609375,-1785.4404296875,-1140.2919921875,-711.50537109375,-374.8269958496094,975.87255859375,2586.933349609375,2435.436279296875,3353.0,3498.90283203125,1662.2669677734375,677.2483520507812,-774.033935546875,-924.5342407226562,-2157.23095703125,-2445.88525390625,-2088.798095703125,-975.0516967773438,-635.7164916992188,-207.7078399658203,1093.7620849609375,2325.310546875,2476.053955078125,3353.0,3515.829833984375,1691.74853515625,610.7792358398438,-800.5307006835938,-924.1455688476562,-2150.709228515625,-2446.911376953125,-2148.736083984375,-992.2911376953125,-618.0419921875,-215.56005859375,1076.7451171875,2311.971435546875,2477.773681640625],\"xaxis\":\"x\",\"y\":[-1317.8548583984375,-2073.48876953125,-608.991943359375,-42.99305725097656,1618.9674072265625,3790.888671875,4016.30078125,10539.7060546875,10976.314453125,16759.564453125,15840.400390625,12421.1728515625,5440.8330078125,5153.82958984375,920.0,-2272.3466796875,-1507.206298828125,125.60184478759766,1715.0845947265625,3112.103759765625,4442.89794921875,7373.7392578125,9766.3857421875,11434.00390625,15341.7001953125,15280.560546875,12049.96875,6894.85595703125,4359.74658203125,920.0,-2271.81787109375,-1529.987548828125,219.52816772460938,1781.093994140625,3118.8671875,4427.2685546875,7329.7177734375,9516.0556640625,11368.494140625,15255.431640625,15299.3046875,12104.9765625,6950.87158203125,4353.1953125],\"yaxis\":\"y\",\"type\":\"scatter\"}],                        {\"template\":{\"data\":{\"histogram2dcontour\":[{\"type\":\"histogram2dcontour\",\"colorbar\":{\"outlinewidth\":0,\"ticks\":\"\"},\"colorscale\":[[0.0,\"#0d0887\"],[0.1111111111111111,\"#46039f\"],[0.2222222222222222,\"#7201a8\"],[0.3333333333333333,\"#9c179e\"],[0.4444444444444444,\"#bd3786\"],[0.5555555555555556,\"#d8576b\"],[0.6666666666666666,\"#ed7953\"],[0.7777777777777778,\"#fb9f3a\"],[0.8888888888888888,\"#fdca26\"],[1.0,\"#f0f921\"]]}],\"choropleth\":[{\"type\":\"choropleth\",\"colorbar\":{\"outlinewidth\":0,\"ticks\":\"\"}}],\"histogram2d\":[{\"type\":\"histogram2d\",\"colorbar\":{\"outlinewidth\":0,\"ticks\":\"\"},\"colorscale\":[[0.0,\"#0d0887\"],[0.1111111111111111,\"#46039f\"],[0.2222222222222222,\"#7201a8\"],[0.3333333333333333,\"#9c179e\"],[0.4444444444444444,\"#bd3786\"],[0.5555555555555556,\"#d8576b\"],[0.6666666666666666,\"#ed7953\"],[0.7777777777777778,\"#fb9f3a\"],[0.8888888888888888,\"#fdca26\"],[1.0,\"#f0f921\"]]}],\"heatmap\":[{\"type\":\"heatmap\",\"colorbar\":{\"outlinewidth\":0,\"ticks\":\"\"},\"colorscale\":[[0.0,\"#0d0887\"],[0.1111111111111111,\"#46039f\"],[0.2222222222222222,\"#7201a8\"],[0.3333333333333333,\"#9c179e\"],[0.4444444444444444,\"#bd3786\"],[0.5555555555555556,\"#d8576b\"],[0.6666666666666666,\"#ed7953\"],[0.7777777777777778,\"#fb9f3a\"],[0.8888888888888888,\"#fdca26\"],[1.0,\"#f0f921\"]]}],\"heatmapgl\":[{\"type\":\"heatmapgl\",\"colorbar\":{\"outlinewidth\":0,\"ticks\":\"\"},\"colorscale\":[[0.0,\"#0d0887\"],[0.1111111111111111,\"#46039f\"],[0.2222222222222222,\"#7201a8\"],[0.3333333333333333,\"#9c179e\"],[0.4444444444444444,\"#bd3786\"],[0.5555555555555556,\"#d8576b\"],[0.6666666666666666,\"#ed7953\"],[0.7777777777777778,\"#fb9f3a\"],[0.8888888888888888,\"#fdca26\"],[1.0,\"#f0f921\"]]}],\"contourcarpet\":[{\"type\":\"contourcarpet\",\"colorbar\":{\"outlinewidth\":0,\"ticks\":\"\"}}],\"contour\":[{\"type\":\"contour\",\"colorbar\":{\"outlinewidth\":0,\"ticks\":\"\"},\"colorscale\":[[0.0,\"#0d0887\"],[0.1111111111111111,\"#46039f\"],[0.2222222222222222,\"#7201a8\"],[0.3333333333333333,\"#9c179e\"],[0.4444444444444444,\"#bd3786\"],[0.5555555555555556,\"#d8576b\"],[0.6666666666666666,\"#ed7953\"],[0.7777777777777778,\"#fb9f3a\"],[0.8888888888888888,\"#fdca26\"],[1.0,\"#f0f921\"]]}],\"surface\":[{\"type\":\"surface\",\"colorbar\":{\"outlinewidth\":0,\"ticks\":\"\"},\"colorscale\":[[0.0,\"#0d0887\"],[0.1111111111111111,\"#46039f\"],[0.2222222222222222,\"#7201a8\"],[0.3333333333333333,\"#9c179e\"],[0.4444444444444444,\"#bd3786\"],[0.5555555555555556,\"#d8576b\"],[0.6666666666666666,\"#ed7953\"],[0.7777777777777778,\"#fb9f3a\"],[0.8888888888888888,\"#fdca26\"],[1.0,\"#f0f921\"]]}],\"mesh3d\":[{\"type\":\"mesh3d\",\"colorbar\":{\"outlinewidth\":0,\"ticks\":\"\"}}],\"scatter\":[{\"fillpattern\":{\"fillmode\":\"overlay\",\"size\":10,\"solidity\":0.2},\"type\":\"scatter\"}],\"parcoords\":[{\"type\":\"parcoords\",\"line\":{\"colorbar\":{\"outlinewidth\":0,\"ticks\":\"\"}}}],\"scatterpolargl\":[{\"type\":\"scatterpolargl\",\"marker\":{\"colorbar\":{\"outlinewidth\":0,\"ticks\":\"\"}}}],\"bar\":[{\"error_x\":{\"color\":\"#2a3f5f\"},\"error_y\":{\"color\":\"#2a3f5f\"},\"marker\":{\"line\":{\"color\":\"#E5ECF6\",\"width\":0.5},\"pattern\":{\"fillmode\":\"overlay\",\"size\":10,\"solidity\":0.2}},\"type\":\"bar\"}],\"scattergeo\":[{\"type\":\"scattergeo\",\"marker\":{\"colorbar\":{\"outlinewidth\":0,\"ticks\":\"\"}}}],\"scatterpolar\":[{\"type\":\"scatterpolar\",\"marker\":{\"colorbar\":{\"outlinewidth\":0,\"ticks\":\"\"}}}],\"histogram\":[{\"marker\":{\"pattern\":{\"fillmode\":\"overlay\",\"size\":10,\"solidity\":0.2}},\"type\":\"histogram\"}],\"scattergl\":[{\"type\":\"scattergl\",\"marker\":{\"colorbar\":{\"outlinewidth\":0,\"ticks\":\"\"}}}],\"scatter3d\":[{\"type\":\"scatter3d\",\"line\":{\"colorbar\":{\"outlinewidth\":0,\"ticks\":\"\"}},\"marker\":{\"colorbar\":{\"outlinewidth\":0,\"ticks\":\"\"}}}],\"scattermapbox\":[{\"type\":\"scattermapbox\",\"marker\":{\"colorbar\":{\"outlinewidth\":0,\"ticks\":\"\"}}}],\"scatterternary\":[{\"type\":\"scatterternary\",\"marker\":{\"colorbar\":{\"outlinewidth\":0,\"ticks\":\"\"}}}],\"scattercarpet\":[{\"type\":\"scattercarpet\",\"marker\":{\"colorbar\":{\"outlinewidth\":0,\"ticks\":\"\"}}}],\"carpet\":[{\"aaxis\":{\"endlinecolor\":\"#2a3f5f\",\"gridcolor\":\"white\",\"linecolor\":\"white\",\"minorgridcolor\":\"white\",\"startlinecolor\":\"#2a3f5f\"},\"baxis\":{\"endlinecolor\":\"#2a3f5f\",\"gridcolor\":\"white\",\"linecolor\":\"white\",\"minorgridcolor\":\"white\",\"startlinecolor\":\"#2a3f5f\"},\"type\":\"carpet\"}],\"table\":[{\"cells\":{\"fill\":{\"color\":\"#EBF0F8\"},\"line\":{\"color\":\"white\"}},\"header\":{\"fill\":{\"color\":\"#C8D4E3\"},\"line\":{\"color\":\"white\"}},\"type\":\"table\"}],\"barpolar\":[{\"marker\":{\"line\":{\"color\":\"#E5ECF6\",\"width\":0.5},\"pattern\":{\"fillmode\":\"overlay\",\"size\":10,\"solidity\":0.2}},\"type\":\"barpolar\"}],\"pie\":[{\"automargin\":true,\"type\":\"pie\"}]},\"layout\":{\"autotypenumbers\":\"strict\",\"colorway\":[\"#636efa\",\"#EF553B\",\"#00cc96\",\"#ab63fa\",\"#FFA15A\",\"#19d3f3\",\"#FF6692\",\"#B6E880\",\"#FF97FF\",\"#FECB52\"],\"font\":{\"color\":\"#2a3f5f\"},\"hovermode\":\"closest\",\"hoverlabel\":{\"align\":\"left\"},\"paper_bgcolor\":\"white\",\"plot_bgcolor\":\"#E5ECF6\",\"polar\":{\"bgcolor\":\"#E5ECF6\",\"angularaxis\":{\"gridcolor\":\"white\",\"linecolor\":\"white\",\"ticks\":\"\"},\"radialaxis\":{\"gridcolor\":\"white\",\"linecolor\":\"white\",\"ticks\":\"\"}},\"ternary\":{\"bgcolor\":\"#E5ECF6\",\"aaxis\":{\"gridcolor\":\"white\",\"linecolor\":\"white\",\"ticks\":\"\"},\"baxis\":{\"gridcolor\":\"white\",\"linecolor\":\"white\",\"ticks\":\"\"},\"caxis\":{\"gridcolor\":\"white\",\"linecolor\":\"white\",\"ticks\":\"\"}},\"coloraxis\":{\"colorbar\":{\"outlinewidth\":0,\"ticks\":\"\"}},\"colorscale\":{\"sequential\":[[0.0,\"#0d0887\"],[0.1111111111111111,\"#46039f\"],[0.2222222222222222,\"#7201a8\"],[0.3333333333333333,\"#9c179e\"],[0.4444444444444444,\"#bd3786\"],[0.5555555555555556,\"#d8576b\"],[0.6666666666666666,\"#ed7953\"],[0.7777777777777778,\"#fb9f3a\"],[0.8888888888888888,\"#fdca26\"],[1.0,\"#f0f921\"]],\"sequentialminus\":[[0.0,\"#0d0887\"],[0.1111111111111111,\"#46039f\"],[0.2222222222222222,\"#7201a8\"],[0.3333333333333333,\"#9c179e\"],[0.4444444444444444,\"#bd3786\"],[0.5555555555555556,\"#d8576b\"],[0.6666666666666666,\"#ed7953\"],[0.7777777777777778,\"#fb9f3a\"],[0.8888888888888888,\"#fdca26\"],[1.0,\"#f0f921\"]],\"diverging\":[[0,\"#8e0152\"],[0.1,\"#c51b7d\"],[0.2,\"#de77ae\"],[0.3,\"#f1b6da\"],[0.4,\"#fde0ef\"],[0.5,\"#f7f7f7\"],[0.6,\"#e6f5d0\"],[0.7,\"#b8e186\"],[0.8,\"#7fbc41\"],[0.9,\"#4d9221\"],[1,\"#276419\"]]},\"xaxis\":{\"gridcolor\":\"white\",\"linecolor\":\"white\",\"ticks\":\"\",\"title\":{\"standoff\":15},\"zerolinecolor\":\"white\",\"automargin\":true,\"zerolinewidth\":2},\"yaxis\":{\"gridcolor\":\"white\",\"linecolor\":\"white\",\"ticks\":\"\",\"title\":{\"standoff\":15},\"zerolinecolor\":\"white\",\"automargin\":true,\"zerolinewidth\":2},\"scene\":{\"xaxis\":{\"backgroundcolor\":\"#E5ECF6\",\"gridcolor\":\"white\",\"linecolor\":\"white\",\"showbackground\":true,\"ticks\":\"\",\"zerolinecolor\":\"white\",\"gridwidth\":2},\"yaxis\":{\"backgroundcolor\":\"#E5ECF6\",\"gridcolor\":\"white\",\"linecolor\":\"white\",\"showbackground\":true,\"ticks\":\"\",\"zerolinecolor\":\"white\",\"gridwidth\":2},\"zaxis\":{\"backgroundcolor\":\"#E5ECF6\",\"gridcolor\":\"white\",\"linecolor\":\"white\",\"showbackground\":true,\"ticks\":\"\",\"zerolinecolor\":\"white\",\"gridwidth\":2}},\"shapedefaults\":{\"line\":{\"color\":\"#2a3f5f\"}},\"annotationdefaults\":{\"arrowcolor\":\"#2a3f5f\",\"arrowhead\":0,\"arrowwidth\":1},\"geo\":{\"bgcolor\":\"white\",\"landcolor\":\"#E5ECF6\",\"subunitcolor\":\"white\",\"showland\":true,\"showlakes\":true,\"lakecolor\":\"white\"},\"title\":{\"x\":0.05},\"mapbox\":{\"style\":\"light\"}}},\"xaxis\":{\"anchor\":\"y\",\"domain\":[0.0,1.0],\"title\":{\"text\":\"X\"}},\"yaxis\":{\"anchor\":\"x\",\"domain\":[0.0,1.0],\"title\":{\"text\":\"Y\"}},\"legend\":{\"tracegroupgap\":0},\"margin\":{\"t\":60}},                        {\"responsive\": true}                    ).then(function(){\n",
       "                            \n",
       "var gd = document.getElementById('b77e8d64-1dab-4d8b-ad56-dbdead7af710');\n",
       "var x = new MutationObserver(function (mutations, observer) {{\n",
       "        var display = window.getComputedStyle(gd).display;\n",
       "        if (!display || display === 'none') {{\n",
       "            console.log([gd, 'removed!']);\n",
       "            Plotly.purge(gd);\n",
       "            observer.disconnect();\n",
       "        }}\n",
       "}});\n",
       "\n",
       "// Listen for the removal of the full notebook cells\n",
       "var notebookContainer = gd.closest('#notebook-container');\n",
       "if (notebookContainer) {{\n",
       "    x.observe(notebookContainer, {childList: true});\n",
       "}}\n",
       "\n",
       "// Listen for the clearing of the current output cell\n",
       "var outputEl = gd.closest('.output');\n",
       "if (outputEl) {{\n",
       "    x.observe(outputEl, {childList: true});\n",
       "}}\n",
       "\n",
       "                        })                };                });            </script>        </div>"
      ]
     },
     "metadata": {},
     "output_type": "display_data"
    }
   ],
   "source": [
    "import plotly.express as px\n",
    "fig = px.scatter(circuit, x='X', y=\"Y\")\n",
    "fig.show()"
   ]
  },
  {
   "attachments": {
    "4ca78d60-1be6-4bc1-8f04-62df76cd6906.png": {
     "image/png": "[encoded data removed]"
    }
   },
   "cell_type": "markdown",
   "id": "1c3b4dcb-e7f1-4154-a34b-bfb3a06721b5",
   "metadata": {},
   "source": [
    "![image.png](attachment:4ca78d60-1be6-4bc1-8f04-62df76cd6906.png)"
   ]
  },
  {
   "cell_type": "code",
   "execution_count": 77,
   "id": "6ce1b689-5a0a-45f6-8ef4-45a3b310b365",
   "metadata": {},
   "outputs": [],
   "source": [
    "circuit_max = session.laps.pick_driver(\"VER\").pick_laps([1]).get_pos_data()"
   ]
  },
  {
   "cell_type": "code",
   "execution_count": 78,
   "id": "f6607dfb-afac-4959-b775-e4965a1d82fa",
   "metadata": {},
   "outputs": [],
   "source": [
    "def _rotate_from_origin(x, y, theta):\n",
    "    return x * np.cos(theta) - y * np.sin(theta), x * np.sin(theta) + y * np.cos(theta)"
   ]
  },
  {
   "cell_type": "code",
   "execution_count": 79,
   "id": "f0eb56f3-d247-4052-b5db-16a418726240",
   "metadata": {},
   "outputs": [],
   "source": [
    "x_trans = []\n",
    "y_trans = []\n",
    "\n",
    "theta = 315\n",
    "for index, row in circuit_max.iterrows():\n",
    "    x, y = _rotate_from_origin(row.X, row.Y, theta)\n",
    "    x_trans.append(x)\n",
    "    y_trans.append(y)\n"
   ]
  },
  {
   "cell_type": "code",
   "execution_count": null,
   "id": "f4e2c022-99f7-4b69-85ef-2a3dd3b6bac7",
   "metadata": {},
   "outputs": [],
   "source": []
  },
  {
   "cell_type": "code",
   "execution_count": 81,
   "id": "7068096c-7ab4-40e2-a2d9-542603f1c700",
   "metadata": {},
   "outputs": [
    {
     "data": {
      "application/vnd.plotly.v1+json": {
       "config": {
        "plotlyServerURL": "https://plot.ly"
       },
       "data": [
        {
         "hovertemplate": "x=%{x}<br>y=%{y}<extra></extra>",
         "legendgroup": "",
         "marker": {
          "color": "#636efa",
          "symbol": "circle"
         },
         "mode": "markers",
         "name": "",
         "orientation": "v",
         "showlegend": false,
         "type": "scatter",
         "x": [
          1299.9553644530674,
          1299.9553644530674,
          1300.7004977176248,
          1303.6028131116918,
          1313.1331102226131,
          1324.8205894630441,
          1342.3909171557714,
          1372.3938573534874,
          1406.8675971385478,
          1430.3207732835722,
          1472.0894103858818,
          1519.073980340093,
          1576.4121983339455,
          1640.4566157088143,
          1687.597620991351,
          1732.6596618085405,
          1798.428998705012,
          1854.7462561547252,
          1947.5750435677514,
          1967.615424046639,
          2033.9322845922486,
          2134.0930126995927,
          2275.116678406337,
          2458.217720962015,
          2598.0228165092008,
          2688.6902908826914,
          2839.4377324057505,
          2921.2047818916462,
          2969.049746151646,
          3032.2296383107005,
          3117.7264850294096,
          3197.303439918754,
          3311.868745775254,
          3381.684881471215,
          3439.7353202625823,
          3542.4237990832844,
          3598.358230032237,
          3686.810959162185,
          3734.7053595293305,
          3793.7397154877694,
          3860.068968763457,
          3888.153510734177,
          3957.224513165581,
          4000.092328476192,
          4030.408139330558,
          4062.7617403631775,
          4081.859377962088,
          4126.7567216309,
          4136.793368103865,
          4151.177291302892,
          4149.559371002468,
          4117.852031020114,
          4088.0343077077396,
          4017.2218621146294,
          3980.541504092913,
          3936.368639138528,
          3841.473145177067,
          3777.7662491058386,
          3699.5066017771805,
          3622.2679149926616,
          3496.7807828972523,
          3371.882348738075,
          3217.7219767357137,
          3062.1907301554947,
          2963.6560493554607,
          2885.0094446160156,
          2735.797440006026,
          2614.9458046463387,
          2503.076942748434,
          2337.863094638994,
          2311.935734797784,
          2036.3062479424866,
          1731.6124328594237,
          1599.7402338596999,
          1429.6644978421027,
          1239.7830343381056,
          1120.3887530404907,
          1076.0677145778327,
          979.5049990219675,
          872.5557229594185,
          805.300250443858,
          758.3198113996727,
          679.0228146999367,
          603.6449630283812,
          488.02578416069935,
          391.9735488769037,
          270.54147740103576,
          158.95257369273938,
          60.895460697733256,
          42.46060778919133,
          -52.0272742113529,
          -231.70739409400787,
          -415.3890075790319,
          -572.5175199095451,
          -783.8555436674078,
          -929.9264489808166,
          -1066.034794575397,
          -1166.9983538744964,
          -1294.7908416076884,
          -1502.2838070915072,
          -1644.740176213334,
          -1724.3212620127038,
          -1830.92475495156,
          -2039.4221573394143,
          -2223.1284214714287,
          -2443.2226927054735,
          -2625.113426921645,
          -2791.825668567086,
          -2904.2213995639986,
          -2941.712715784357,
          -3114.1101962666753,
          -3224.6657467007544,
          -3324.595952725636,
          -3430.8042264336536,
          -3525.7202401320783,
          -3585.5738161092113,
          -3660.9228862237505,
          -3728.3513177077402,
          -3787.192194960786,
          -3834.934290909632,
          -3863.455226398285,
          -3904.4911229661157,
          -3948.0382466071997,
          -3921.674493248056,
          -3970.5569416922986,
          -4046.8199731297987,
          -4103.112579932521,
          -4232.205986399461,
          -4363.254834470465,
          -4429.621131123221,
          -4520.46156446514,
          -4623.224130039978,
          -4713.66934415106,
          -4804.583864247115,
          -4978.290525283233,
          -5212.822286733477,
          -5329.812340179016,
          -5515.552263579258,
          -5576.027449959665,
          -5696.977822720481,
          -5818.829764074177,
          -5985.076830644668,
          -6165.48142924175,
          -6273.488709225508,
          -6392.751205841788,
          -6523.935834690987,
          -6621.824119627589,
          -6708.770058588319,
          -6894.6622864068595,
          -7025.060607704407,
          -7153.536399864932,
          -7249.971461649488,
          -7313.698877457682,
          -7564.607047088084,
          -7687.471687165869,
          -7799.237545939454,
          -7899.159490144284,
          -7978.061267613181,
          -8075.393767080595,
          -8211.979545667036,
          -8313.898105763026,
          -8455.461033298856,
          -8540.163310645861,
          -8699.41182691565,
          -8810.663074507142,
          -8908.345488008272,
          -8969.792198825673,
          -9012.37592503665,
          -9052.95064262639,
          -9053.885123686316,
          -9034.927397775626,
          -8972.895985118854,
          -8946.137012528872,
          -8916.706246627284,
          -8895.196119356246,
          -8892.133237723827,
          -8887.370087216797,
          -8891.869668361158,
          -8902.762578229886,
          -8933.024822067078,
          -8954.588381542124,
          -8983.759708991069,
          -9039.438832397404,
          -9128.294907765076,
          -9174.723692250098,
          -9223.309658864628,
          -9285.699112562006,
          -9395.929399609355,
          -9469.886940595909,
          -9555.099698214983,
          -9682.155179690502,
          -9833.878276560583,
          -9890.936536364827,
          -10034.660776940193,
          -10148.542643556195,
          -10275.09177566967,
          -10396.779019874992,
          -10531.722227514021,
          -10663.804294046076,
          -10768.670474733251,
          -10842.751538581084,
          -11049.544541184301,
          -11176.962329423619,
          -11334.695928517303,
          -11558.828736730784,
          -11760.101197645501,
          -11864.778030537309,
          -11982.476173870336,
          -12075.230874529227,
          -12268.780306428813,
          -12422.874718683925,
          -12558.810105310076,
          -12711.060206092328,
          -12776.28201933966,
          -12871.976078769687,
          -12919.508172373036,
          -12979.703400563834,
          -12994.836587937445,
          -12996.277418359414,
          -12977.480258687076,
          -12968.456310938198,
          -12927.774459314112,
          -12899.6487430563,
          -12856.500969556078,
          -12807.746174883147,
          -12779.270544591613,
          -12737.773603858857,
          -12702.513556522148,
          -12696.042010133619,
          -12638.1521375806,
          -12589.557909146017,
          -12518.8443357672,
          -12446.249407538455,
          -12383.028341092308,
          -12269.216430320415,
          -12158.306834942592,
          -12050.768860943812,
          -11940.052744271381,
          -11809.646161153782,
          -11731.28364551397,
          -11616.170816008333,
          -11530.159358107527,
          -11328.68102575734,
          -11187.916663690074,
          -11055.859247805009,
          -10872.46172341962,
          -10709.380406792698,
          -10568.694262389594,
          -10406.358079027232,
          -10215.978527981242,
          -10000.968404917763,
          -9863.851491509122,
          -9753.444114583317,
          -9518.039566097208,
          -9208.821519222794,
          -9051.977095991913,
          -8867.443350021153,
          -8624.706860840726,
          -8340.123516893827,
          -8002.516319212096,
          -7889.6018461230615,
          -7592.824673573687,
          -7381.194433709305,
          -7225.687972589241,
          -7111.793713243162,
          -6841.569641848299,
          -6513.6533075158395,
          -6370.501241236601,
          -6125.887528116273,
          -6025.092796875577,
          -5895.118476365885,
          -5634.346484417781,
          -5373.574492469676,
          -5228.187026396767,
          -5068.209765689358,
          -4863.639770149736,
          -4747.431893345823,
          -4542.8618978062,
          -4274.87322620501,
          -3937.5830300899543,
          -3587.193305869515,
          -3529.501042931918,
          -3371.092266417788,
          -3149.1083785137635,
          -2995.0139662586516,
          -2832.879523421734,
          -2721.1424462051646,
          -2620.936412900701,
          -2549.831751201071,
          -2479.904485373904,
          -2380.1348455873735,
          -2314.530205839279,
          -2298.297840257367,
          -2268.9742083901237,
          -2250.0000936524957,
          -2230.8283692994482,
          -2202.9496987641996,
          -2171.2259699549077,
          -2056.8706664439046,
          -1957.4921149781867,
          -1894.8597464682698,
          -1805.2049708188665,
          -1710.7253506383743,
          -1607.028304003611,
          -1518.8226205962287,
          -1283.0311146993317,
          -1210.3167945193297,
          -1082.9689621241225,
          -942.4433839593703,
          -798.9372727363877,
          -697.5538435594594,
          -493.37493634065027,
          -365.04731768839815,
          -268.8016036992092,
          -24.500761235530717,
          149.753423449725,
          327.57683912944253,
          482.1035139924609,
          808.6489737470629,
          993.8455044081918,
          1179.2766880618087,
          1455.9311315581065,
          1559.43056857745
         ],
         "xaxis": "x",
         "y": [
          3265.240733916826,
          3265.240733916826,
          3264.5738183164312,
          3263.3182047798045,
          3257.4723997045758,
          3251.037896693115,
          3240.680117743448,
          3223.220920181925,
          3201.7602290180334,
          3187.4791741301597,
          3162.1734246922238,
          3132.1992660515243,
          3094.300337870249,
          3050.39916928542,
          3017.600912914816,
          2983.979305615492,
          2934.508159235017,
          2889.470769064818,
          2811.7545144752717,
          2795.1598421295635,
          2735.8043536944224,
          2640.7894677817044,
          2498.464748528047,
          2299.6909871433418,
          2141.0103794464894,
          2038.3877255598725,
          1873.9395304519544,
          1791.3613879542509,
          1745.8546917990764,
          1691.9909634954192,
          1631.5733402290448,
          1588.5325659500045,
          1553.095428734837,
          1545.6317033591852,
          1546.014529859946,
          1558.784663668575,
          1571.7977122897435,
          1598.6512913708264,
          1616.1763138664337,
          1637.1511754052465,
          1654.2809786700147,
          1658.6694296831708,
          1651.8726199079133,
          1632.2932835939494,
          1609.1858905726178,
          1574.8603242958304,
          1549.7151410962458,
          1467.9274370602197,
          1440.15576574615,
          1372.2580282771853,
          1311.9721896921453,
          1219.567403066974,
          1169.7587353828585,
          1080.1451340205497,
          1039.1628044698916,
          992.8081067390071,
          903.2768539508868,
          851.590962326869,
          794.141614201812,
          743.8307280656782,
          669.601490709571,
          597.5294354829734,
          516.7545649842004,
          447.94300100544046,
          411.3244718209485,
          386.4304652539554,
          344.17200242970625,
          314.1073682079318,
          288.0812709655945,
          253.43470702527043,
          248.4575580758824,
          199.90463874155932,
          151.86633058933182,
          128.98133264357546,
          105.39650663038185,
          94.17020636804,
          101.7204112279066,
          109.18000569353279,
          139.24064381844693,
          216.17472176636744,
          292.4747965809355,
          347.9440524549383,
          424.28530155660053,
          481.01430187725646,
          548.2616473859306,
          581.8915165053066,
          600.6598946206287,
          607.9342722009134,
          613.8336442933141,
          614.228863524153,
          619.6177553444838,
          628.7858805047742,
          633.48320607772,
          631.8612896804359,
          611.6563468663369,
          589.4012211439069,
          566.2815702056628,
          547.9414586013875,
          528.1152113780232,
          515.2051658811731,
          529.9761813041522,
          547.5218583498895,
          579.8590705555702,
          661.7909520030087,
          756.4271423249917,
          919.8667696188484,
          1084.0062249801422,
          1242.6127459228576,
          1353.946476901702,
          1391.528403516301,
          1563.275626851494,
          1654.1737581206119,
          1719.45740020517,
          1770.2294653193926,
          1796.1321745136124,
          1802.7313746734499,
          1795.016607478372,
          1772.160391089632,
          1734.9078587717872,
          1689.0636413129725,
          1654.198813207099,
          1602.3523553447303,
          1544.7012666942276,
          1580.154792736333,
          1516.542637969371,
          1435.8335924046828,
          1390.9321178258444,
          1330.6669337909345,
          1305.7029713798313,
          1302.0267411641905,
          1305.4931038474997,
          1319.6301161371257,
          1341.5313317289767,
          1371.9048405105411,
          1452.2229325675821,
          1595.0334814463192,
          1674.244133475006,
          1805.5935942857475,
          1848.9842825985068,
          1935.7656592240248,
          2026.0380491798421,
          2150.677179699541,
          2287.9877066267422,
          2371.2368956348664,
          2465.901867513866,
          2571.237488999182,
          2650.7980550615875,
          2724.5910337129276,
          2884.2596894868775,
          3000.969919555975,
          3121.3275982836967,
          3213.00790619444,
          3276.755976552763,
          3536.2190575733994,
          3670.3431800068993,
          3795.875617299429,
          3912.149453850592,
          4006.9255558607965,
          4127.591974335142,
          4304.863870268862,
          4444.397404259657,
          4647.596660034586,
          4770.379086351349,
          4998.801742990025,
          5153.3985085103195,
          5293.166695493602,
          5392.45064046822,
          5470.825548838108,
          5602.4260514682765,
          5644.865735081006,
          5724.52503854454,
          5844.812626614985,
          5898.701005565632,
          5981.065014807812,
          6078.570473243654,
          6099.9858592104265,
          6205.7701321305885,
          6274.215393248692,
          6343.014699310539,
          6454.648908215956,
          6511.526082044886,
          6577.896509607666,
          6688.122800558157,
          6834.7536222507815,
          6905.833633303422,
          6977.502342292295,
          7068.235776413035,
          7229.971003922254,
          7337.7684163736785,
          7456.981611695977,
          7628.407702554468,
          7823.254057090941,
          7894.453460094839,
          8072.746316572697,
          8210.908975985634,
          8360.409200605283,
          8498.847687297803,
          8646.466557067524,
          8780.788289116445,
          8884.040815226388,
          8955.713655125286,
          9147.509520759419,
          9261.552088426937,
          9398.702049115787,
          9571.124449871426,
          9701.61351637638,
          9763.09327447399,
          9829.517269053942,
          9880.326377545232,
          9986.456568402255,
          10070.693805487475,
          10146.730445752539,
          10236.027180361338,
          10275.613984687148,
          10341.132279764193,
          10380.990780459557,
          10457.68194359494,
          10500.751499430997,
          10565.117049282568,
          10622.105353242701,
          10638.185414406315,
          10683.638543544317,
          10700.068518741647,
          10713.789657250305,
          10715.782142231437,
          10713.110348919832,
          10705.494319125883,
          10695.40823654577,
          10693.642142737071,
          10671.353969734437,
          10650.67545521217,
          10614.225619272915,
          10569.381707808108,
          10527.559503688628,
          10441.799087607249,
          10357.294285062497,
          10282.517389244085,
          10214.290257478366,
          10148.570221875876,
          10114.668656386943,
          10069.347177117112,
          10037.993882078503,
          9967.712436494427,
          9919.562728584662,
          9875.17986128478,
          9811.68696365591,
          9756.983360783428,
          9710.245701738617,
          9656.20901446653,
          9594.519254023426,
          9522.862802951466,
          9476.635624178723,
          9439.551785106116,
          9357.693990412814,
          9247.3481726979,
          9190.17451703926,
          9118.954459485234,
          9019.79803346876,
          8893.923809149399,
          8731.328052521227,
          8674.55374700345,
          8520.319153433786,
          8407.400414621561,
          8323.2413952005,
          8261.564027487473,
          8113.64867588804,
          7934.227724831698,
          7855.7580751575415,
          7722.712476382214,
          7667.391394016485,
          7596.690078554579,
          7453.208483165421,
          7309.7268877762635,
          7229.256491300924,
          7141.095978277495,
          7027.786151144457,
          6962.695987765293,
          6849.386160632253,
          6703.471555834005,
          6521.028897432338,
          6332.229953683374,
          6300.724354226465,
          6215.309721268779,
          6094.466212915978,
          6010.228975830756,
          5921.479764871096,
          5860.391095094301,
          5802.912830599062,
          5759.402750335045,
          5711.5783058120105,
          5623.623664224054,
          5525.986421106876,
          5488.643278394791,
          5393.953655868801,
          5332.683900116691,
          5280.631570818851,
          5224.81240091113,
          5176.288128320657,
          5055.14827295131,
          4974.253875688114,
          4930.274489439123,
          4871.503568030188,
          4815.124481743251,
          4758.547785840894,
          4713.152219816924,
          4598.739083565558,
          4564.524647419976,
          4502.884323084017,
          4433.475664535807,
          4361.3993435860175,
          4308.235443349798,
          4201.98586054152,
          4135.4424740103095,
          4085.534934111901,
          3958.1375307963817,
          3867.935096684675,
          3777.2221823008986,
          3697.9662250750916,
          3530.5085805387616,
          3434.538559015989,
          3334.33239089836,
          3172.6094213060537,
          3106.815298949426
         ],
         "yaxis": "y"
        }
       ],
       "layout": {
        "height": 750,
        "legend": {
         "tracegroupgap": 0
        },
        "margin": {
         "t": 60
        },
        "template": {
         "data": {
          "bar": [
           {
            "error_x": {
             "color": "#2a3f5f"
            },
            "error_y": {
             "color": "#2a3f5f"
            },
            "marker": {
             "line": {
              "color": "#E5ECF6",
              "width": 0.5
             },
             "pattern": {
              "fillmode": "overlay",
              "size": 10,
              "solidity": 0.2
             }
            },
            "type": "bar"
           }
          ],
          "barpolar": [
           {
            "marker": {
             "line": {
              "color": "#E5ECF6",
              "width": 0.5
             },
             "pattern": {
              "fillmode": "overlay",
              "size": 10,
              "solidity": 0.2
             }
            },
            "type": "barpolar"
           }
          ],
          "carpet": [
           {
            "aaxis": {
             "endlinecolor": "#2a3f5f",
             "gridcolor": "white",
             "linecolor": "white",
             "minorgridcolor": "white",
             "startlinecolor": "#2a3f5f"
            },
            "baxis": {
             "endlinecolor": "#2a3f5f",
             "gridcolor": "white",
             "linecolor": "white",
             "minorgridcolor": "white",
             "startlinecolor": "#2a3f5f"
            },
            "type": "carpet"
           }
          ],
          "choropleth": [
           {
            "colorbar": {
             "outlinewidth": 0,
             "ticks": ""
            },
            "type": "choropleth"
           }
          ],
          "contour": [
           {
            "colorbar": {
             "outlinewidth": 0,
             "ticks": ""
            },
            "colorscale": [
             [
              0,
              "#0d0887"
             ],
             [
              0.1111111111111111,
              "#46039f"
             ],
             [
              0.2222222222222222,
              "#7201a8"
             ],
             [
              0.3333333333333333,
              "#9c179e"
             ],
             [
              0.4444444444444444,
              "#bd3786"
             ],
             [
              0.5555555555555556,
              "#d8576b"
             ],
             [
              0.6666666666666666,
              "#ed7953"
             ],
             [
              0.7777777777777778,
              "#fb9f3a"
             ],
             [
              0.8888888888888888,
              "#fdca26"
             ],
             [
              1,
              "#f0f921"
             ]
            ],
            "type": "contour"
           }
          ],
          "contourcarpet": [
           {
            "colorbar": {
             "outlinewidth": 0,
             "ticks": ""
            },
            "type": "contourcarpet"
           }
          ],
          "heatmap": [
           {
            "colorbar": {
             "outlinewidth": 0,
             "ticks": ""
            },
            "colorscale": [
             [
              0,
              "#0d0887"
             ],
             [
              0.1111111111111111,
              "#46039f"
             ],
             [
              0.2222222222222222,
              "#7201a8"
             ],
             [
              0.3333333333333333,
              "#9c179e"
             ],
             [
              0.4444444444444444,
              "#bd3786"
             ],
             [
              0.5555555555555556,
              "#d8576b"
             ],
             [
              0.6666666666666666,
              "#ed7953"
             ],
             [
              0.7777777777777778,
              "#fb9f3a"
             ],
             [
              0.8888888888888888,
              "#fdca26"
             ],
             [
              1,
              "#f0f921"
             ]
            ],
            "type": "heatmap"
           }
          ],
          "heatmapgl": [
           {
            "colorbar": {
             "outlinewidth": 0,
             "ticks": ""
            },
            "colorscale": [
             [
              0,
              "#0d0887"
             ],
             [
              0.1111111111111111,
              "#46039f"
             ],
             [
              0.2222222222222222,
              "#7201a8"
             ],
             [
              0.3333333333333333,
              "#9c179e"
             ],
             [
              0.4444444444444444,
              "#bd3786"
             ],
             [
              0.5555555555555556,
              "#d8576b"
             ],
             [
              0.6666666666666666,
              "#ed7953"
             ],
             [
              0.7777777777777778,
              "#fb9f3a"
             ],
             [
              0.8888888888888888,
              "#fdca26"
             ],
             [
              1,
              "#f0f921"
             ]
            ],
            "type": "heatmapgl"
           }
          ],
          "histogram": [
           {
            "marker": {
             "pattern": {
              "fillmode": "overlay",
              "size": 10,
              "solidity": 0.2
             }
            },
            "type": "histogram"
           }
          ],
          "histogram2d": [
           {
            "colorbar": {
             "outlinewidth": 0,
             "ticks": ""
            },
            "colorscale": [
             [
              0,
              "#0d0887"
             ],
             [
              0.1111111111111111,
              "#46039f"
             ],
             [
              0.2222222222222222,
              "#7201a8"
             ],
             [
              0.3333333333333333,
              "#9c179e"
             ],
             [
              0.4444444444444444,
              "#bd3786"
             ],
             [
              0.5555555555555556,
              "#d8576b"
             ],
             [
              0.6666666666666666,
              "#ed7953"
             ],
             [
              0.7777777777777778,
              "#fb9f3a"
             ],
             [
              0.8888888888888888,
              "#fdca26"
             ],
             [
              1,
              "#f0f921"
             ]
            ],
            "type": "histogram2d"
           }
          ],
          "histogram2dcontour": [
           {
            "colorbar": {
             "outlinewidth": 0,
             "ticks": ""
            },
            "colorscale": [
             [
              0,
              "#0d0887"
             ],
             [
              0.1111111111111111,
              "#46039f"
             ],
             [
              0.2222222222222222,
              "#7201a8"
             ],
             [
              0.3333333333333333,
              "#9c179e"
             ],
             [
              0.4444444444444444,
              "#bd3786"
             ],
             [
              0.5555555555555556,
              "#d8576b"
             ],
             [
              0.6666666666666666,
              "#ed7953"
             ],
             [
              0.7777777777777778,
              "#fb9f3a"
             ],
             [
              0.8888888888888888,
              "#fdca26"
             ],
             [
              1,
              "#f0f921"
             ]
            ],
            "type": "histogram2dcontour"
           }
          ],
          "mesh3d": [
           {
            "colorbar": {
             "outlinewidth": 0,
             "ticks": ""
            },
            "type": "mesh3d"
           }
          ],
          "parcoords": [
           {
            "line": {
             "colorbar": {
              "outlinewidth": 0,
              "ticks": ""
             }
            },
            "type": "parcoords"
           }
          ],
          "pie": [
           {
            "automargin": true,
            "type": "pie"
           }
          ],
          "scatter": [
           {
            "fillpattern": {
             "fillmode": "overlay",
             "size": 10,
             "solidity": 0.2
            },
            "type": "scatter"
           }
          ],
          "scatter3d": [
           {
            "line": {
             "colorbar": {
              "outlinewidth": 0,
              "ticks": ""
             }
            },
            "marker": {
             "colorbar": {
              "outlinewidth": 0,
              "ticks": ""
             }
            },
            "type": "scatter3d"
           }
          ],
          "scattercarpet": [
           {
            "marker": {
             "colorbar": {
              "outlinewidth": 0,
              "ticks": ""
             }
            },
            "type": "scattercarpet"
           }
          ],
          "scattergeo": [
           {
            "marker": {
             "colorbar": {
              "outlinewidth": 0,
              "ticks": ""
             }
            },
            "type": "scattergeo"
           }
          ],
          "scattergl": [
           {
            "marker": {
             "colorbar": {
              "outlinewidth": 0,
              "ticks": ""
             }
            },
            "type": "scattergl"
           }
          ],
          "scattermapbox": [
           {
            "marker": {
             "colorbar": {
              "outlinewidth": 0,
              "ticks": ""
             }
            },
            "type": "scattermapbox"
           }
          ],
          "scatterpolar": [
           {
            "marker": {
             "colorbar": {
              "outlinewidth": 0,
              "ticks": ""
             }
            },
            "type": "scatterpolar"
           }
          ],
          "scatterpolargl": [
           {
            "marker": {
             "colorbar": {
              "outlinewidth": 0,
              "ticks": ""
             }
            },
            "type": "scatterpolargl"
           }
          ],
          "scatterternary": [
           {
            "marker": {
             "colorbar": {
              "outlinewidth": 0,
              "ticks": ""
             }
            },
            "type": "scatterternary"
           }
          ],
          "surface": [
           {
            "colorbar": {
             "outlinewidth": 0,
             "ticks": ""
            },
            "colorscale": [
             [
              0,
              "#0d0887"
             ],
             [
              0.1111111111111111,
              "#46039f"
             ],
             [
              0.2222222222222222,
              "#7201a8"
             ],
             [
              0.3333333333333333,
              "#9c179e"
             ],
             [
              0.4444444444444444,
              "#bd3786"
             ],
             [
              0.5555555555555556,
              "#d8576b"
             ],
             [
              0.6666666666666666,
              "#ed7953"
             ],
             [
              0.7777777777777778,
              "#fb9f3a"
             ],
             [
              0.8888888888888888,
              "#fdca26"
             ],
             [
              1,
              "#f0f921"
             ]
            ],
            "type": "surface"
           }
          ],
          "table": [
           {
            "cells": {
             "fill": {
              "color": "#EBF0F8"
             },
             "line": {
              "color": "white"
             }
            },
            "header": {
             "fill": {
              "color": "#C8D4E3"
             },
             "line": {
              "color": "white"
             }
            },
            "type": "table"
           }
          ]
         },
         "layout": {
          "annotationdefaults": {
           "arrowcolor": "#2a3f5f",
           "arrowhead": 0,
           "arrowwidth": 1
          },
          "autotypenumbers": "strict",
          "coloraxis": {
           "colorbar": {
            "outlinewidth": 0,
            "ticks": ""
           }
          },
          "colorscale": {
           "diverging": [
            [
             0,
             "#8e0152"
            ],
            [
             0.1,
             "#c51b7d"
            ],
            [
             0.2,
             "#de77ae"
            ],
            [
             0.3,
             "#f1b6da"
            ],
            [
             0.4,
             "#fde0ef"
            ],
            [
             0.5,
             "#f7f7f7"
            ],
            [
             0.6,
             "#e6f5d0"
            ],
            [
             0.7,
             "#b8e186"
            ],
            [
             0.8,
             "#7fbc41"
            ],
            [
             0.9,
             "#4d9221"
            ],
            [
             1,
             "#276419"
            ]
           ],
           "sequential": [
            [
             0,
             "#0d0887"
            ],
            [
             0.1111111111111111,
             "#46039f"
            ],
            [
             0.2222222222222222,
             "#7201a8"
            ],
            [
             0.3333333333333333,
             "#9c179e"
            ],
            [
             0.4444444444444444,
             "#bd3786"
            ],
            [
             0.5555555555555556,
             "#d8576b"
            ],
            [
             0.6666666666666666,
             "#ed7953"
            ],
            [
             0.7777777777777778,
             "#fb9f3a"
            ],
            [
             0.8888888888888888,
             "#fdca26"
            ],
            [
             1,
             "#f0f921"
            ]
           ],
           "sequentialminus": [
            [
             0,
             "#0d0887"
            ],
            [
             0.1111111111111111,
             "#46039f"
            ],
            [
             0.2222222222222222,
             "#7201a8"
            ],
            [
             0.3333333333333333,
             "#9c179e"
            ],
            [
             0.4444444444444444,
             "#bd3786"
            ],
            [
             0.5555555555555556,
             "#d8576b"
            ],
            [
             0.6666666666666666,
             "#ed7953"
            ],
            [
             0.7777777777777778,
             "#fb9f3a"
            ],
            [
             0.8888888888888888,
             "#fdca26"
            ],
            [
             1,
             "#f0f921"
            ]
           ]
          },
          "colorway": [
           "#636efa",
           "#EF553B",
           "#00cc96",
           "#ab63fa",
           "#FFA15A",
           "#19d3f3",
           "#FF6692",
           "#B6E880",
           "#FF97FF",
           "#FECB52"
          ],
          "font": {
           "color": "#2a3f5f"
          },
          "geo": {
           "bgcolor": "white",
           "lakecolor": "white",
           "landcolor": "#E5ECF6",
           "showlakes": true,
           "showland": true,
           "subunitcolor": "white"
          },
          "hoverlabel": {
           "align": "left"
          },
          "hovermode": "closest",
          "mapbox": {
           "style": "light"
          },
          "paper_bgcolor": "white",
          "plot_bgcolor": "#E5ECF6",
          "polar": {
           "angularaxis": {
            "gridcolor": "white",
            "linecolor": "white",
            "ticks": ""
           },
           "bgcolor": "#E5ECF6",
           "radialaxis": {
            "gridcolor": "white",
            "linecolor": "white",
            "ticks": ""
           }
          },
          "scene": {
           "xaxis": {
            "backgroundcolor": "#E5ECF6",
            "gridcolor": "white",
            "gridwidth": 2,
            "linecolor": "white",
            "showbackground": true,
            "ticks": "",
            "zerolinecolor": "white"
           },
           "yaxis": {
            "backgroundcolor": "#E5ECF6",
            "gridcolor": "white",
            "gridwidth": 2,
            "linecolor": "white",
            "showbackground": true,
            "ticks": "",
            "zerolinecolor": "white"
           },
           "zaxis": {
            "backgroundcolor": "#E5ECF6",
            "gridcolor": "white",
            "gridwidth": 2,
            "linecolor": "white",
            "showbackground": true,
            "ticks": "",
            "zerolinecolor": "white"
           }
          },
          "shapedefaults": {
           "line": {
            "color": "#2a3f5f"
           }
          },
          "ternary": {
           "aaxis": {
            "gridcolor": "white",
            "linecolor": "white",
            "ticks": ""
           },
           "baxis": {
            "gridcolor": "white",
            "linecolor": "white",
            "ticks": ""
           },
           "bgcolor": "#E5ECF6",
           "caxis": {
            "gridcolor": "white",
            "linecolor": "white",
            "ticks": ""
           }
          },
          "title": {
           "x": 0.05
          },
          "xaxis": {
           "automargin": true,
           "gridcolor": "white",
           "linecolor": "white",
           "ticks": "",
           "title": {
            "standoff": 15
           },
           "zerolinecolor": "white",
           "zerolinewidth": 2
          },
          "yaxis": {
           "automargin": true,
           "gridcolor": "white",
           "linecolor": "white",
           "ticks": "",
           "title": {
            "standoff": 15
           },
           "zerolinecolor": "white",
           "zerolinewidth": 2
          }
         }
        },
        "title": {
         "text": "fixed-ratio axes"
        },
        "width": 600,
        "xaxis": {
         "anchor": "y",
         "autorange": true,
         "domain": [
          0,
          1
         ],
         "range": [
          -14132.820426786195,
          5287.720299729673
         ],
         "title": {
          "text": "x"
         },
         "type": "linear"
        },
        "yaxis": {
         "anchor": "x",
         "autorange": true,
         "domain": [
          0,
          1
         ],
         "range": [
          -8056.989556580579,
          18866.941905180058
         ],
         "scaleanchor": "x",
         "scaleratio": 1,
         "title": {
          "text": "y"
         },
         "type": "linear"
        }
       }
      },
      "text/html": [
       "<div>                            <div id=\"0ebd400a-22ae-49fa-90d2-2f5b4dae28e0\" class=\"plotly-graph-div\" style=\"height:750px; width:600px;\"></div>            <script type=\"text/javascript\">                require([\"plotly\"], function(Plotly) {                    window.PLOTLYENV=window.PLOTLYENV || {};                                    if (document.getElementById(\"0ebd400a-22ae-49fa-90d2-2f5b4dae28e0\")) {                    Plotly.newPlot(                        \"0ebd400a-22ae-49fa-90d2-2f5b4dae28e0\",                        [{\"hovertemplate\":\"x=%{x}\\u003cbr\\u003ey=%{y}\\u003cextra\\u003e\\u003c\\u002fextra\\u003e\",\"legendgroup\":\"\",\"marker\":{\"color\":\"#636efa\",\"symbol\":\"circle\"},\"mode\":\"markers\",\"name\":\"\",\"orientation\":\"v\",\"showlegend\":false,\"x\":[1299.9553644530674,1299.9553644530674,1300.7004977176248,1303.6028131116918,1313.1331102226131,1324.8205894630441,1342.3909171557714,1372.3938573534874,1406.8675971385478,1430.3207732835722,1472.0894103858818,1519.073980340093,1576.4121983339455,1640.4566157088143,1687.597620991351,1732.6596618085405,1798.428998705012,1854.7462561547252,1947.5750435677514,1967.615424046639,2033.9322845922486,2134.0930126995927,2275.116678406337,2458.217720962015,2598.0228165092008,2688.6902908826914,2839.4377324057505,2921.2047818916462,2969.049746151646,3032.2296383107005,3117.7264850294096,3197.303439918754,3311.868745775254,3381.684881471215,3439.7353202625823,3542.4237990832844,3598.358230032237,3686.810959162185,3734.7053595293305,3793.7397154877694,3860.068968763457,3888.153510734177,3957.224513165581,4000.092328476192,4030.408139330558,4062.7617403631775,4081.859377962088,4126.7567216309,4136.793368103865,4151.177291302892,4149.559371002468,4117.852031020114,4088.0343077077396,4017.2218621146294,3980.541504092913,3936.368639138528,3841.473145177067,3777.7662491058386,3699.5066017771805,3622.2679149926616,3496.7807828972523,3371.882348738075,3217.7219767357137,3062.1907301554947,2963.6560493554607,2885.0094446160156,2735.797440006026,2614.9458046463387,2503.076942748434,2337.863094638994,2311.935734797784,2036.3062479424866,1731.6124328594237,1599.7402338596999,1429.6644978421027,1239.7830343381056,1120.3887530404907,1076.0677145778327,979.5049990219675,872.5557229594185,805.300250443858,758.3198113996727,679.0228146999367,603.6449630283812,488.02578416069935,391.9735488769037,270.54147740103576,158.95257369273938,60.895460697733256,42.46060778919133,-52.0272742113529,-231.70739409400787,-415.3890075790319,-572.5175199095451,-783.8555436674078,-929.9264489808166,-1066.034794575397,-1166.9983538744964,-1294.7908416076884,-1502.2838070915072,-1644.740176213334,-1724.3212620127038,-1830.92475495156,-2039.4221573394143,-2223.1284214714287,-2443.2226927054735,-2625.113426921645,-2791.825668567086,-2904.2213995639986,-2941.712715784357,-3114.1101962666753,-3224.6657467007544,-3324.595952725636,-3430.8042264336536,-3525.7202401320783,-3585.5738161092113,-3660.9228862237505,-3728.3513177077402,-3787.192194960786,-3834.934290909632,-3863.455226398285,-3904.4911229661157,-3948.0382466071997,-3921.674493248056,-3970.5569416922986,-4046.8199731297987,-4103.112579932521,-4232.205986399461,-4363.254834470465,-4429.621131123221,-4520.46156446514,-4623.224130039978,-4713.66934415106,-4804.583864247115,-4978.290525283233,-5212.822286733477,-5329.812340179016,-5515.552263579258,-5576.027449959665,-5696.977822720481,-5818.829764074177,-5985.076830644668,-6165.48142924175,-6273.488709225508,-6392.751205841788,-6523.935834690987,-6621.824119627589,-6708.770058588319,-6894.6622864068595,-7025.060607704407,-7153.536399864932,-7249.971461649488,-7313.698877457682,-7564.607047088084,-7687.471687165869,-7799.237545939454,-7899.159490144284,-7978.061267613181,-8075.393767080595,-8211.979545667036,-8313.898105763026,-8455.461033298856,-8540.163310645861,-8699.41182691565,-8810.663074507142,-8908.345488008272,-8969.792198825673,-9012.37592503665,-9052.95064262639,-9053.885123686316,-9034.927397775626,-8972.895985118854,-8946.137012528872,-8916.706246627284,-8895.196119356246,-8892.133237723827,-8887.370087216797,-8891.869668361158,-8902.762578229886,-8933.024822067078,-8954.588381542124,-8983.759708991069,-9039.438832397404,-9128.294907765076,-9174.723692250098,-9223.309658864628,-9285.699112562006,-9395.929399609355,-9469.886940595909,-9555.099698214983,-9682.155179690502,-9833.878276560583,-9890.936536364827,-10034.660776940193,-10148.542643556195,-10275.09177566967,-10396.779019874992,-10531.722227514021,-10663.804294046076,-10768.670474733251,-10842.751538581084,-11049.544541184301,-11176.962329423619,-11334.695928517303,-11558.828736730784,-11760.101197645501,-11864.778030537309,-11982.476173870336,-12075.230874529227,-12268.780306428813,-12422.874718683925,-12558.810105310076,-12711.060206092328,-12776.28201933966,-12871.976078769687,-12919.508172373036,-12979.703400563834,-12994.836587937445,-12996.277418359414,-12977.480258687076,-12968.456310938198,-12927.774459314112,-12899.6487430563,-12856.500969556078,-12807.746174883147,-12779.270544591613,-12737.773603858857,-12702.513556522148,-12696.042010133619,-12638.1521375806,-12589.557909146017,-12518.8443357672,-12446.249407538455,-12383.028341092308,-12269.216430320415,-12158.306834942592,-12050.768860943812,-11940.052744271381,-11809.646161153782,-11731.28364551397,-11616.170816008333,-11530.159358107527,-11328.68102575734,-11187.916663690074,-11055.859247805009,-10872.46172341962,-10709.380406792698,-10568.694262389594,-10406.358079027232,-10215.978527981242,-10000.968404917763,-9863.851491509122,-9753.444114583317,-9518.039566097208,-9208.821519222794,-9051.977095991913,-8867.443350021153,-8624.706860840726,-8340.123516893827,-8002.516319212096,-7889.6018461230615,-7592.824673573687,-7381.194433709305,-7225.687972589241,-7111.793713243162,-6841.569641848299,-6513.6533075158395,-6370.501241236601,-6125.887528116273,-6025.092796875577,-5895.118476365885,-5634.346484417781,-5373.574492469676,-5228.187026396767,-5068.209765689358,-4863.639770149736,-4747.431893345823,-4542.8618978062,-4274.87322620501,-3937.5830300899543,-3587.193305869515,-3529.501042931918,-3371.092266417788,-3149.1083785137635,-2995.0139662586516,-2832.879523421734,-2721.1424462051646,-2620.936412900701,-2549.831751201071,-2479.904485373904,-2380.1348455873735,-2314.530205839279,-2298.297840257367,-2268.9742083901237,-2250.0000936524957,-2230.8283692994482,-2202.9496987641996,-2171.2259699549077,-2056.8706664439046,-1957.4921149781867,-1894.8597464682698,-1805.2049708188665,-1710.7253506383743,-1607.028304003611,-1518.8226205962287,-1283.0311146993317,-1210.3167945193297,-1082.9689621241225,-942.4433839593703,-798.9372727363877,-697.5538435594594,-493.37493634065027,-365.04731768839815,-268.8016036992092,-24.500761235530717,149.753423449725,327.57683912944253,482.1035139924609,808.6489737470629,993.8455044081918,1179.2766880618087,1455.9311315581065,1559.43056857745],\"xaxis\":\"x\",\"y\":[3265.240733916826,3265.240733916826,3264.5738183164312,3263.3182047798045,3257.4723997045758,3251.037896693115,3240.680117743448,3223.220920181925,3201.7602290180334,3187.4791741301597,3162.1734246922238,3132.1992660515243,3094.300337870249,3050.39916928542,3017.600912914816,2983.979305615492,2934.508159235017,2889.470769064818,2811.7545144752717,2795.1598421295635,2735.8043536944224,2640.7894677817044,2498.464748528047,2299.6909871433418,2141.0103794464894,2038.3877255598725,1873.9395304519544,1791.3613879542509,1745.8546917990764,1691.9909634954192,1631.5733402290448,1588.5325659500045,1553.095428734837,1545.6317033591852,1546.014529859946,1558.784663668575,1571.7977122897435,1598.6512913708264,1616.1763138664337,1637.1511754052465,1654.2809786700147,1658.6694296831708,1651.8726199079133,1632.2932835939494,1609.1858905726178,1574.8603242958304,1549.7151410962458,1467.9274370602197,1440.15576574615,1372.2580282771853,1311.9721896921453,1219.567403066974,1169.7587353828585,1080.1451340205497,1039.1628044698916,992.8081067390071,903.2768539508868,851.590962326869,794.141614201812,743.8307280656782,669.601490709571,597.5294354829734,516.7545649842004,447.94300100544046,411.3244718209485,386.4304652539554,344.17200242970625,314.1073682079318,288.0812709655945,253.43470702527043,248.4575580758824,199.90463874155932,151.86633058933182,128.98133264357546,105.39650663038185,94.17020636804,101.7204112279066,109.18000569353279,139.24064381844693,216.17472176636744,292.4747965809355,347.9440524549383,424.28530155660053,481.01430187725646,548.2616473859306,581.8915165053066,600.6598946206287,607.9342722009134,613.8336442933141,614.228863524153,619.6177553444838,628.7858805047742,633.48320607772,631.8612896804359,611.6563468663369,589.4012211439069,566.2815702056628,547.9414586013875,528.1152113780232,515.2051658811731,529.9761813041522,547.5218583498895,579.8590705555702,661.7909520030087,756.4271423249917,919.8667696188484,1084.0062249801422,1242.6127459228576,1353.946476901702,1391.528403516301,1563.275626851494,1654.1737581206119,1719.45740020517,1770.2294653193926,1796.1321745136124,1802.7313746734499,1795.016607478372,1772.160391089632,1734.9078587717872,1689.0636413129725,1654.198813207099,1602.3523553447303,1544.7012666942276,1580.154792736333,1516.542637969371,1435.8335924046828,1390.9321178258444,1330.6669337909345,1305.7029713798313,1302.0267411641905,1305.4931038474997,1319.6301161371257,1341.5313317289767,1371.9048405105411,1452.2229325675821,1595.0334814463192,1674.244133475006,1805.5935942857475,1848.9842825985068,1935.7656592240248,2026.0380491798421,2150.677179699541,2287.9877066267422,2371.2368956348664,2465.901867513866,2571.237488999182,2650.7980550615875,2724.5910337129276,2884.2596894868775,3000.969919555975,3121.3275982836967,3213.00790619444,3276.755976552763,3536.2190575733994,3670.3431800068993,3795.875617299429,3912.149453850592,4006.9255558607965,4127.591974335142,4304.863870268862,4444.397404259657,4647.596660034586,4770.379086351349,4998.801742990025,5153.3985085103195,5293.166695493602,5392.45064046822,5470.825548838108,5602.4260514682765,5644.865735081006,5724.52503854454,5844.812626614985,5898.701005565632,5981.065014807812,6078.570473243654,6099.9858592104265,6205.7701321305885,6274.215393248692,6343.014699310539,6454.648908215956,6511.526082044886,6577.896509607666,6688.122800558157,6834.7536222507815,6905.833633303422,6977.502342292295,7068.235776413035,7229.971003922254,7337.7684163736785,7456.981611695977,7628.407702554468,7823.254057090941,7894.453460094839,8072.746316572697,8210.908975985634,8360.409200605283,8498.847687297803,8646.466557067524,8780.788289116445,8884.040815226388,8955.713655125286,9147.509520759419,9261.552088426937,9398.702049115787,9571.124449871426,9701.61351637638,9763.09327447399,9829.517269053942,9880.326377545232,9986.456568402255,10070.693805487475,10146.730445752539,10236.027180361338,10275.613984687148,10341.132279764193,10380.990780459557,10457.68194359494,10500.751499430997,10565.117049282568,10622.105353242701,10638.185414406315,10683.638543544317,10700.068518741647,10713.789657250305,10715.782142231437,10713.110348919832,10705.494319125883,10695.40823654577,10693.642142737071,10671.353969734437,10650.67545521217,10614.225619272915,10569.381707808108,10527.559503688628,10441.799087607249,10357.294285062497,10282.517389244085,10214.290257478366,10148.570221875876,10114.668656386943,10069.347177117112,10037.993882078503,9967.712436494427,9919.562728584662,9875.17986128478,9811.68696365591,9756.983360783428,9710.245701738617,9656.20901446653,9594.519254023426,9522.862802951466,9476.635624178723,9439.551785106116,9357.693990412814,9247.3481726979,9190.17451703926,9118.954459485234,9019.79803346876,8893.923809149399,8731.328052521227,8674.55374700345,8520.319153433786,8407.400414621561,8323.2413952005,8261.564027487473,8113.64867588804,7934.227724831698,7855.7580751575415,7722.712476382214,7667.391394016485,7596.690078554579,7453.208483165421,7309.7268877762635,7229.256491300924,7141.095978277495,7027.786151144457,6962.695987765293,6849.386160632253,6703.471555834005,6521.028897432338,6332.229953683374,6300.724354226465,6215.309721268779,6094.466212915978,6010.228975830756,5921.479764871096,5860.391095094301,5802.912830599062,5759.402750335045,5711.5783058120105,5623.623664224054,5525.986421106876,5488.643278394791,5393.953655868801,5332.683900116691,5280.631570818851,5224.81240091113,5176.288128320657,5055.14827295131,4974.253875688114,4930.274489439123,4871.503568030188,4815.124481743251,4758.547785840894,4713.152219816924,4598.739083565558,4564.524647419976,4502.884323084017,4433.475664535807,4361.3993435860175,4308.235443349798,4201.98586054152,4135.4424740103095,4085.534934111901,3958.1375307963817,3867.935096684675,3777.2221823008986,3697.9662250750916,3530.5085805387616,3434.538559015989,3334.33239089836,3172.6094213060537,3106.815298949426],\"yaxis\":\"y\",\"type\":\"scatter\"}],                        {\"template\":{\"data\":{\"histogram2dcontour\":[{\"type\":\"histogram2dcontour\",\"colorbar\":{\"outlinewidth\":0,\"ticks\":\"\"},\"colorscale\":[[0.0,\"#0d0887\"],[0.1111111111111111,\"#46039f\"],[0.2222222222222222,\"#7201a8\"],[0.3333333333333333,\"#9c179e\"],[0.4444444444444444,\"#bd3786\"],[0.5555555555555556,\"#d8576b\"],[0.6666666666666666,\"#ed7953\"],[0.7777777777777778,\"#fb9f3a\"],[0.8888888888888888,\"#fdca26\"],[1.0,\"#f0f921\"]]}],\"choropleth\":[{\"type\":\"choropleth\",\"colorbar\":{\"outlinewidth\":0,\"ticks\":\"\"}}],\"histogram2d\":[{\"type\":\"histogram2d\",\"colorbar\":{\"outlinewidth\":0,\"ticks\":\"\"},\"colorscale\":[[0.0,\"#0d0887\"],[0.1111111111111111,\"#46039f\"],[0.2222222222222222,\"#7201a8\"],[0.3333333333333333,\"#9c179e\"],[0.4444444444444444,\"#bd3786\"],[0.5555555555555556,\"#d8576b\"],[0.6666666666666666,\"#ed7953\"],[0.7777777777777778,\"#fb9f3a\"],[0.8888888888888888,\"#fdca26\"],[1.0,\"#f0f921\"]]}],\"heatmap\":[{\"type\":\"heatmap\",\"colorbar\":{\"outlinewidth\":0,\"ticks\":\"\"},\"colorscale\":[[0.0,\"#0d0887\"],[0.1111111111111111,\"#46039f\"],[0.2222222222222222,\"#7201a8\"],[0.3333333333333333,\"#9c179e\"],[0.4444444444444444,\"#bd3786\"],[0.5555555555555556,\"#d8576b\"],[0.6666666666666666,\"#ed7953\"],[0.7777777777777778,\"#fb9f3a\"],[0.8888888888888888,\"#fdca26\"],[1.0,\"#f0f921\"]]}],\"heatmapgl\":[{\"type\":\"heatmapgl\",\"colorbar\":{\"outlinewidth\":0,\"ticks\":\"\"},\"colorscale\":[[0.0,\"#0d0887\"],[0.1111111111111111,\"#46039f\"],[0.2222222222222222,\"#7201a8\"],[0.3333333333333333,\"#9c179e\"],[0.4444444444444444,\"#bd3786\"],[0.5555555555555556,\"#d8576b\"],[0.6666666666666666,\"#ed7953\"],[0.7777777777777778,\"#fb9f3a\"],[0.8888888888888888,\"#fdca26\"],[1.0,\"#f0f921\"]]}],\"contourcarpet\":[{\"type\":\"contourcarpet\",\"colorbar\":{\"outlinewidth\":0,\"ticks\":\"\"}}],\"contour\":[{\"type\":\"contour\",\"colorbar\":{\"outlinewidth\":0,\"ticks\":\"\"},\"colorscale\":[[0.0,\"#0d0887\"],[0.1111111111111111,\"#46039f\"],[0.2222222222222222,\"#7201a8\"],[0.3333333333333333,\"#9c179e\"],[0.4444444444444444,\"#bd3786\"],[0.5555555555555556,\"#d8576b\"],[0.6666666666666666,\"#ed7953\"],[0.7777777777777778,\"#fb9f3a\"],[0.8888888888888888,\"#fdca26\"],[1.0,\"#f0f921\"]]}],\"surface\":[{\"type\":\"surface\",\"colorbar\":{\"outlinewidth\":0,\"ticks\":\"\"},\"colorscale\":[[0.0,\"#0d0887\"],[0.1111111111111111,\"#46039f\"],[0.2222222222222222,\"#7201a8\"],[0.3333333333333333,\"#9c179e\"],[0.4444444444444444,\"#bd3786\"],[0.5555555555555556,\"#d8576b\"],[0.6666666666666666,\"#ed7953\"],[0.7777777777777778,\"#fb9f3a\"],[0.8888888888888888,\"#fdca26\"],[1.0,\"#f0f921\"]]}],\"mesh3d\":[{\"type\":\"mesh3d\",\"colorbar\":{\"outlinewidth\":0,\"ticks\":\"\"}}],\"scatter\":[{\"fillpattern\":{\"fillmode\":\"overlay\",\"size\":10,\"solidity\":0.2},\"type\":\"scatter\"}],\"parcoords\":[{\"type\":\"parcoords\",\"line\":{\"colorbar\":{\"outlinewidth\":0,\"ticks\":\"\"}}}],\"scatterpolargl\":[{\"type\":\"scatterpolargl\",\"marker\":{\"colorbar\":{\"outlinewidth\":0,\"ticks\":\"\"}}}],\"bar\":[{\"error_x\":{\"color\":\"#2a3f5f\"},\"error_y\":{\"color\":\"#2a3f5f\"},\"marker\":{\"line\":{\"color\":\"#E5ECF6\",\"width\":0.5},\"pattern\":{\"fillmode\":\"overlay\",\"size\":10,\"solidity\":0.2}},\"type\":\"bar\"}],\"scattergeo\":[{\"type\":\"scattergeo\",\"marker\":{\"colorbar\":{\"outlinewidth\":0,\"ticks\":\"\"}}}],\"scatterpolar\":[{\"type\":\"scatterpolar\",\"marker\":{\"colorbar\":{\"outlinewidth\":0,\"ticks\":\"\"}}}],\"histogram\":[{\"marker\":{\"pattern\":{\"fillmode\":\"overlay\",\"size\":10,\"solidity\":0.2}},\"type\":\"histogram\"}],\"scattergl\":[{\"type\":\"scattergl\",\"marker\":{\"colorbar\":{\"outlinewidth\":0,\"ticks\":\"\"}}}],\"scatter3d\":[{\"type\":\"scatter3d\",\"line\":{\"colorbar\":{\"outlinewidth\":0,\"ticks\":\"\"}},\"marker\":{\"colorbar\":{\"outlinewidth\":0,\"ticks\":\"\"}}}],\"scattermapbox\":[{\"type\":\"scattermapbox\",\"marker\":{\"colorbar\":{\"outlinewidth\":0,\"ticks\":\"\"}}}],\"scatterternary\":[{\"type\":\"scatterternary\",\"marker\":{\"colorbar\":{\"outlinewidth\":0,\"ticks\":\"\"}}}],\"scattercarpet\":[{\"type\":\"scattercarpet\",\"marker\":{\"colorbar\":{\"outlinewidth\":0,\"ticks\":\"\"}}}],\"carpet\":[{\"aaxis\":{\"endlinecolor\":\"#2a3f5f\",\"gridcolor\":\"white\",\"linecolor\":\"white\",\"minorgridcolor\":\"white\",\"startlinecolor\":\"#2a3f5f\"},\"baxis\":{\"endlinecolor\":\"#2a3f5f\",\"gridcolor\":\"white\",\"linecolor\":\"white\",\"minorgridcolor\":\"white\",\"startlinecolor\":\"#2a3f5f\"},\"type\":\"carpet\"}],\"table\":[{\"cells\":{\"fill\":{\"color\":\"#EBF0F8\"},\"line\":{\"color\":\"white\"}},\"header\":{\"fill\":{\"color\":\"#C8D4E3\"},\"line\":{\"color\":\"white\"}},\"type\":\"table\"}],\"barpolar\":[{\"marker\":{\"line\":{\"color\":\"#E5ECF6\",\"width\":0.5},\"pattern\":{\"fillmode\":\"overlay\",\"size\":10,\"solidity\":0.2}},\"type\":\"barpolar\"}],\"pie\":[{\"automargin\":true,\"type\":\"pie\"}]},\"layout\":{\"autotypenumbers\":\"strict\",\"colorway\":[\"#636efa\",\"#EF553B\",\"#00cc96\",\"#ab63fa\",\"#FFA15A\",\"#19d3f3\",\"#FF6692\",\"#B6E880\",\"#FF97FF\",\"#FECB52\"],\"font\":{\"color\":\"#2a3f5f\"},\"hovermode\":\"closest\",\"hoverlabel\":{\"align\":\"left\"},\"paper_bgcolor\":\"white\",\"plot_bgcolor\":\"#E5ECF6\",\"polar\":{\"bgcolor\":\"#E5ECF6\",\"angularaxis\":{\"gridcolor\":\"white\",\"linecolor\":\"white\",\"ticks\":\"\"},\"radialaxis\":{\"gridcolor\":\"white\",\"linecolor\":\"white\",\"ticks\":\"\"}},\"ternary\":{\"bgcolor\":\"#E5ECF6\",\"aaxis\":{\"gridcolor\":\"white\",\"linecolor\":\"white\",\"ticks\":\"\"},\"baxis\":{\"gridcolor\":\"white\",\"linecolor\":\"white\",\"ticks\":\"\"},\"caxis\":{\"gridcolor\":\"white\",\"linecolor\":\"white\",\"ticks\":\"\"}},\"coloraxis\":{\"colorbar\":{\"outlinewidth\":0,\"ticks\":\"\"}},\"colorscale\":{\"sequential\":[[0.0,\"#0d0887\"],[0.1111111111111111,\"#46039f\"],[0.2222222222222222,\"#7201a8\"],[0.3333333333333333,\"#9c179e\"],[0.4444444444444444,\"#bd3786\"],[0.5555555555555556,\"#d8576b\"],[0.6666666666666666,\"#ed7953\"],[0.7777777777777778,\"#fb9f3a\"],[0.8888888888888888,\"#fdca26\"],[1.0,\"#f0f921\"]],\"sequentialminus\":[[0.0,\"#0d0887\"],[0.1111111111111111,\"#46039f\"],[0.2222222222222222,\"#7201a8\"],[0.3333333333333333,\"#9c179e\"],[0.4444444444444444,\"#bd3786\"],[0.5555555555555556,\"#d8576b\"],[0.6666666666666666,\"#ed7953\"],[0.7777777777777778,\"#fb9f3a\"],[0.8888888888888888,\"#fdca26\"],[1.0,\"#f0f921\"]],\"diverging\":[[0,\"#8e0152\"],[0.1,\"#c51b7d\"],[0.2,\"#de77ae\"],[0.3,\"#f1b6da\"],[0.4,\"#fde0ef\"],[0.5,\"#f7f7f7\"],[0.6,\"#e6f5d0\"],[0.7,\"#b8e186\"],[0.8,\"#7fbc41\"],[0.9,\"#4d9221\"],[1,\"#276419\"]]},\"xaxis\":{\"gridcolor\":\"white\",\"linecolor\":\"white\",\"ticks\":\"\",\"title\":{\"standoff\":15},\"zerolinecolor\":\"white\",\"automargin\":true,\"zerolinewidth\":2},\"yaxis\":{\"gridcolor\":\"white\",\"linecolor\":\"white\",\"ticks\":\"\",\"title\":{\"standoff\":15},\"zerolinecolor\":\"white\",\"automargin\":true,\"zerolinewidth\":2},\"scene\":{\"xaxis\":{\"backgroundcolor\":\"#E5ECF6\",\"gridcolor\":\"white\",\"linecolor\":\"white\",\"showbackground\":true,\"ticks\":\"\",\"zerolinecolor\":\"white\",\"gridwidth\":2},\"yaxis\":{\"backgroundcolor\":\"#E5ECF6\",\"gridcolor\":\"white\",\"linecolor\":\"white\",\"showbackground\":true,\"ticks\":\"\",\"zerolinecolor\":\"white\",\"gridwidth\":2},\"zaxis\":{\"backgroundcolor\":\"#E5ECF6\",\"gridcolor\":\"white\",\"linecolor\":\"white\",\"showbackground\":true,\"ticks\":\"\",\"zerolinecolor\":\"white\",\"gridwidth\":2}},\"shapedefaults\":{\"line\":{\"color\":\"#2a3f5f\"}},\"annotationdefaults\":{\"arrowcolor\":\"#2a3f5f\",\"arrowhead\":0,\"arrowwidth\":1},\"geo\":{\"bgcolor\":\"white\",\"landcolor\":\"#E5ECF6\",\"subunitcolor\":\"white\",\"showland\":true,\"showlakes\":true,\"lakecolor\":\"white\"},\"title\":{\"x\":0.05},\"mapbox\":{\"style\":\"light\"}}},\"xaxis\":{\"anchor\":\"y\",\"domain\":[0.0,1.0],\"title\":{\"text\":\"x\"}},\"yaxis\":{\"anchor\":\"x\",\"domain\":[0.0,1.0],\"title\":{\"text\":\"y\"},\"scaleanchor\":\"x\",\"scaleratio\":1},\"legend\":{\"tracegroupgap\":0},\"margin\":{\"t\":60},\"width\":600,\"height\":750,\"title\":{\"text\":\"fixed-ratio axes\"}},                        {\"responsive\": true}                    ).then(function(){\n",
       "                            \n",
       "var gd = document.getElementById('0ebd400a-22ae-49fa-90d2-2f5b4dae28e0');\n",
       "var x = new MutationObserver(function (mutations, observer) {{\n",
       "        var display = window.getComputedStyle(gd).display;\n",
       "        if (!display || display === 'none') {{\n",
       "            console.log([gd, 'removed!']);\n",
       "            Plotly.purge(gd);\n",
       "            observer.disconnect();\n",
       "        }}\n",
       "}});\n",
       "\n",
       "// Listen for the removal of the full notebook cells\n",
       "var notebookContainer = gd.closest('#notebook-container');\n",
       "if (notebookContainer) {{\n",
       "    x.observe(notebookContainer, {childList: true});\n",
       "}}\n",
       "\n",
       "// Listen for the clearing of the current output cell\n",
       "var outputEl = gd.closest('.output');\n",
       "if (outputEl) {{\n",
       "    x.observe(outputEl, {childList: true});\n",
       "}}\n",
       "\n",
       "                        })                };                });            </script>        </div>"
      ]
     },
     "metadata": {},
     "output_type": "display_data"
    }
   ],
   "source": [
    "# fig = px.scatter(circuit_max, x='X', y=\"Y\")\n",
    "fig = px.scatter(x=x_trans, y=y_trans)\n",
    "\n",
    "fig.update_layout(\n",
    "    width = 600,\n",
    "    height = 750,\n",
    "    title = \"fixed-ratio axes\"\n",
    ")\n",
    "fig.update_yaxes(\n",
    "    scaleanchor = \"x\",\n",
    "    scaleratio = 1,\n",
    "  )\n",
    "\n",
    "fig.show()"
   ]
  },
  {
   "cell_type": "code",
   "execution_count": 83,
   "id": "d7f4dfb8-5142-4a42-a64e-3cc640fe32e5",
   "metadata": {},
   "outputs": [
    {
     "data": {
      "text/plain": [
       "['1',\n",
       " '14',\n",
       " '44',\n",
       " '16',\n",
       " '55',\n",
       " '11',\n",
       " '23',\n",
       " '31',\n",
       " '18',\n",
       " '77',\n",
       " '81',\n",
       " '10',\n",
       " '4',\n",
       " '22',\n",
       " '27',\n",
       " '24',\n",
       " '20',\n",
       " '21',\n",
       " '63',\n",
       " '2']"
      ]
     },
     "execution_count": 83,
     "metadata": {},
     "output_type": "execute_result"
    }
   ],
   "source": [
    "session.drivers"
   ]
  },
  {
   "cell_type": "code",
   "execution_count": 95,
   "id": "de67381f-9668-4fa9-807c-9a8cf7305f9a",
   "metadata": {},
   "outputs": [
    {
     "data": {
      "text/plain": [
       "DriverNumber                                                                                                                                 23\n",
       "BroadcastName                                                                                                                           A ALBON\n",
       "Abbreviation                                                                                                                                ALB\n",
       "DriverId                                                                                                                                  albon\n",
       "TeamName                                                                                                                               Williams\n",
       "TeamColor                                                                                                                                37BEDD\n",
       "TeamId                                                                                                                                 williams\n",
       "FirstName                                                                                                                             Alexander\n",
       "LastName                                                                                                                                  Albon\n",
       "FullName                                                                                                                        Alexander Albon\n",
       "HeadshotUrl           https://www.formula1.com/content/dam/fom-website/drivers/A/ALEALB01_Alexander_Albon/alealb01.png.transform/1col/image.png\n",
       "CountryCode                                                                                                                                    \n",
       "Position                                                                                                                                    7.0\n",
       "ClassifiedPosition                                                                                                                            7\n",
       "GridPosition                                                                                                                                9.0\n",
       "Q1                                                                                                                                          NaT\n",
       "Q2                                                                                                                                          NaT\n",
       "Q3                                                                                                                                          NaT\n",
       "Time                                                                                                                     0 days 00:01:00.813000\n",
       "Status                                                                                                                                 Finished\n",
       "Points                                                                                                                                      6.0\n",
       "Name: 23, dtype: object"
      ]
     },
     "execution_count": 95,
     "metadata": {},
     "output_type": "execute_result"
    }
   ],
   "source": [
    "session.get_driver('ALB')"
   ]
  },
  {
   "cell_type": "code",
   "execution_count": 93,
   "id": "16c35d5c-f044-4715-a45c-4b3d93e239ca",
   "metadata": {},
   "outputs": [
    {
     "ename": "ValueError",
     "evalue": "Invalid driver identifier 'Max Verstappen'",
     "output_type": "error",
     "traceback": [
      "\u001b[0;31m---------------------------------------------------------------------------\u001b[0m",
      "\u001b[0;31mValueError\u001b[0m                                Traceback (most recent call last)",
      "Cell \u001b[0;32mIn[93], line 1\u001b[0m\n\u001b[0;32m----> 1\u001b[0m \u001b[43msession\u001b[49m\u001b[38;5;241;43m.\u001b[39;49m\u001b[43mget_driver\u001b[49m\u001b[43m(\u001b[49m\u001b[38;5;124;43m'\u001b[39;49m\u001b[38;5;124;43mMax Verstappen\u001b[39;49m\u001b[38;5;124;43m'\u001b[39;49m\u001b[43m)\u001b[49m\n",
      "File \u001b[0;32m~/miniconda3/lib/python3.10/site-packages/fastf1/core.py:2202\u001b[0m, in \u001b[0;36mSession.get_driver\u001b[0;34m(self, identifier)\u001b[0m\n\u001b[1;32m   2199\u001b[0m mask \u001b[38;5;241m=\u001b[39m ((\u001b[38;5;28mself\u001b[39m\u001b[38;5;241m.\u001b[39mresults[\u001b[38;5;124m'\u001b[39m\u001b[38;5;124mAbbreviation\u001b[39m\u001b[38;5;124m'\u001b[39m] \u001b[38;5;241m==\u001b[39m identifier)\n\u001b[1;32m   2200\u001b[0m         \u001b[38;5;241m|\u001b[39m (\u001b[38;5;28mself\u001b[39m\u001b[38;5;241m.\u001b[39mresults[\u001b[38;5;124m'\u001b[39m\u001b[38;5;124mDriverNumber\u001b[39m\u001b[38;5;124m'\u001b[39m] \u001b[38;5;241m==\u001b[39m identifier))\n\u001b[1;32m   2201\u001b[0m \u001b[38;5;28;01mif\u001b[39;00m \u001b[38;5;129;01mnot\u001b[39;00m mask\u001b[38;5;241m.\u001b[39many():\n\u001b[0;32m-> 2202\u001b[0m     \u001b[38;5;28;01mraise\u001b[39;00m \u001b[38;5;167;01mValueError\u001b[39;00m(\u001b[38;5;124mf\u001b[39m\u001b[38;5;124m\"\u001b[39m\u001b[38;5;124mInvalid driver identifier \u001b[39m\u001b[38;5;124m'\u001b[39m\u001b[38;5;132;01m{\u001b[39;00midentifier\u001b[38;5;132;01m}\u001b[39;00m\u001b[38;5;124m'\u001b[39m\u001b[38;5;124m\"\u001b[39m)\n\u001b[1;32m   2203\u001b[0m \u001b[38;5;28;01mreturn\u001b[39;00m \u001b[38;5;28mself\u001b[39m\u001b[38;5;241m.\u001b[39mresults[mask]\u001b[38;5;241m.\u001b[39miloc[\u001b[38;5;241m0\u001b[39m]\n",
      "\u001b[0;31mValueError\u001b[0m: Invalid driver identifier 'Max Verstappen'"
     ]
    }
   ],
   "source": [
    "session.get_driver('Max Verstappen')"
   ]
  },
  {
   "cell_type": "code",
   "execution_count": null,
   "id": "b0f9776a-3359-4620-b262-76be29060c2c",
   "metadata": {},
   "outputs": [],
   "source": [
    "session."
   ]
  }
 ],
 "metadata": {
  "kernelspec": {
   "display_name": "Python 3 (ipykernel)",
   "language": "python",
   "name": "python3"
  },
  "language_info": {
   "codemirror_mode": {
    "name": "ipython",
    "version": 3
   },
   "file_extension": ".py",
   "mimetype": "text/x-python",
   "name": "python",
   "nbconvert_exporter": "python",
   "pygments_lexer": "ipython3",
   "version": "3.10.8"
  }
 },
 "nbformat": 4,
 "nbformat_minor": 5
}
