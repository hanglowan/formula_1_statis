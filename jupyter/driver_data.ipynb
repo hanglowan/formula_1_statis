{
 "cells": [
  {
   "cell_type": "code",
   "execution_count": null,
   "metadata": {},
   "outputs": [],
   "source": [
    "%config IPCompleter.greedy=True\n",
    "%matplotlib inline\n",
    "%load_ext autoreload\n",
    "%autoreload 2"
   ]
  },
  {
   "cell_type": "code",
   "execution_count": null,
   "metadata": {},
   "outputs": [],
   "source": [
    "import os, sys, re, math, datetime as dt, pandas as pd, numpy as np, time\n",
    "import logging\n",
    "import matplotlib.pyplot as plt\n",
    "from string import Template\n",
    "from IPython.display import display, HTML\n",
    "\n",
    "logging.basicConfig(format='%(asctime)s [%(name)s:%(lineno)d:%(funcName)s] [%(levelname)s] %(message)s', level=logging.INFO)\n",
    "\n",
    "pd.set_option('display.max_rows', 5000)\n",
    "pd.set_option('display.max_columns', 5000)\n",
    "pd.set_option('display.max_colwidth', 5000)\n",
    "pd.set_option('display.width', 5000)\n",
    "\n",
    "def display_df(df):\n",
    "    display(df.head(4))\n",
    "    print(df.shape)"
   ]
  },
  {
   "cell_type": "code",
   "execution_count": null,
   "metadata": {},
   "outputs": [],
   "source": [
    "drivers = pd.read_csv('../f1_data/drivers.csv')\n",
    "# drivers[drivers.driverRef=='leclerc']\n",
    "drivers.head()\n"
   ]
  },
  {
   "cell_type": "code",
   "execution_count": null,
   "metadata": {},
   "outputs": [],
   "source": [
    "drivers.dob = pd.to_datetime(drivers.dob)"
   ]
  },
  {
   "cell_type": "code",
   "execution_count": null,
   "metadata": {},
   "outputs": [],
   "source": [
    "drivers.number = drivers.number.map(lambda x: int(x) if x != '\\\\N' else -1)\n",
    "drivers.number = drivers.number.astype(int)"
   ]
  },
  {
   "cell_type": "code",
   "execution_count": null,
   "metadata": {},
   "outputs": [],
   "source": [
    "drivers = drivers.rename(columns={'driverRef': 'name',\n",
    "                                                    'driverId': 'driverid',\n",
    "                                                    'forename': 'first',\n",
    "                                                    'surname': 'last'})\n",
    "print(drivers.columns)\n",
    "\n",
    "for col in ['first', 'last', 'nationality']:\n",
    "    drivers[col] = drivers[col].map(lambda x: str(x).lower())\n",
    "\n"
   ]
  },
  {
   "cell_type": "code",
   "execution_count": null,
   "metadata": {},
   "outputs": [],
   "source": [
    "drivers[drivers['last']=='leclerc']"
   ]
  },
  {
   "cell_type": "code",
   "execution_count": null,
   "metadata": {},
   "outputs": [],
   "source": [
    "drivers.dtypes\n"
   ]
  },
  {
   "cell_type": "code",
   "execution_count": null,
   "metadata": {},
   "outputs": [],
   "source": [
    "drivers.set_index('driverid')"
   ]
  },
  {
   "cell_type": "code",
   "execution_count": null,
   "metadata": {},
   "outputs": [],
   "source": [
    "circ"
   ]
  }
 ],
 "metadata": {
  "kernelspec": {
   "display_name": "dash",
   "language": "python",
   "name": "python3"
  },
  "language_info": {
   "codemirror_mode": {
    "name": "ipython",
    "version": 3
   },
   "file_extension": ".py",
   "mimetype": "text/x-python",
   "name": "python",
   "nbconvert_exporter": "python",
   "pygments_lexer": "ipython3",
   "version": "3.11.4"
  }
 },
 "nbformat": 4,
 "nbformat_minor": 2
}
